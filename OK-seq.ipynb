{
 "cells": [
  {
   "cell_type": "code",
   "execution_count": 1,
   "metadata": {},
   "outputs": [],
   "source": [
    "%matplotlib inline\n",
    "\n",
    "import json\n",
    "import glob\n",
    "import re\n",
    "import itertools\n",
    "import functools\n",
    "\n",
    "import pandas as pd\n",
    "import numpy as np\n",
    "from matplotlib import pyplot as plt\n",
    "import matplotlib as mpl\n",
    "import seaborn as sns\n",
    "from scipy import stats\n",
    "mpl.rc('font', family='Arial', size=12)"
   ]
  },
  {
   "cell_type": "code",
   "execution_count": 2,
   "metadata": {},
   "outputs": [],
   "source": [
    "regions = pd.read_csv('regions_speed_hg19.bed', sep = '\\t', \n",
    "                      names = ['chr', 'start', 'end', 'ucsc_name', 'region_type', 'strand'])"
   ]
  },
  {
   "cell_type": "code",
   "execution_count": 17,
   "metadata": {},
   "outputs": [],
   "source": [
    "ok_seq = pd.read_csv('genome_correlations/ok_seq_rep_1.tsv', sep = '\\t', \n",
    "                      names = ['chr', 'start', 'end', 'ucsc_name', 'region_type', 'strand', 'ok_1'])\n",
    "\n",
    "ok_2 = pd.read_csv('genome_correlations/ok_seq_rep_2.tsv', sep = '\\t', \n",
    "                      names = ['chr', 'start', 'end', 'ucsc_name', 'region_type', 'strand', 'ok_2'])\n",
    "ok_seq['ok_2'] = pd.to_numeric(ok_2['ok_2'], errors='coerce')\n",
    "ok_seq.loc[ok_seq.ok_1 == -2, 'ok_1'] = np.nan\n",
    "ok_seq.loc[ok_seq.ok_2 == -2, 'ok_2'] = np.nan\n",
    "ok_seq['ok_mean'] = (ok_seq.ok_1 + ok_seq.ok_2)/2"
   ]
  },
  {
   "cell_type": "code",
   "execution_count": 23,
   "metadata": {},
   "outputs": [],
   "source": [
    "ok_seq.loc[ok_seq.strand == '-', 'ok_mean'] = -ok_seq.loc[ok_seq.strand == '-', 'ok_mean']\n",
    "ok_seq.loc[ok_seq.strand == '-', 'ok_1'] = -ok_seq.loc[ok_seq.strand == '-', 'ok_1']\n",
    "ok_seq.loc[ok_seq.strand == '-', 'ok_2'] = -ok_seq.loc[ok_seq.strand == '-', 'ok_2']"
   ]
  },
  {
   "cell_type": "code",
   "execution_count": 24,
   "metadata": {},
   "outputs": [
    {
     "data": {
      "text/plain": [
       "region_type\n",
       "faster    0.238098\n",
       "ns        0.140231\n",
       "slower   -0.003672\n",
       "Name: ok_mean, dtype: float64"
      ]
     },
     "execution_count": 24,
     "metadata": {},
     "output_type": "execute_result"
    }
   ],
   "source": [
    "ok_seq.groupby('region_type').ok_mean.mean()"
   ]
  },
  {
   "cell_type": "code",
   "execution_count": 47,
   "metadata": {},
   "outputs": [],
   "source": [
    "ok_seq['direction'] = 'Mixed'\n",
    "ok_seq.loc[ok_seq.ok_mean <= 0.3, 'direction'] = 'Head-On'\n",
    "ok_seq.loc[ok_seq.ok_mean >= 0.3, 'direction'] = 'Co-Directional'"
   ]
  },
  {
   "cell_type": "code",
   "execution_count": 48,
   "metadata": {},
   "outputs": [],
   "source": [
    "region_matrix = ok_seq.groupby(['region_type', 'direction']).size().unstack().T"
   ]
  },
  {
   "cell_type": "code",
   "execution_count": 49,
   "metadata": {
    "scrolled": true
   },
   "outputs": [
    {
     "data": {
      "text/plain": [
       "<matplotlib.axes._subplots.AxesSubplot at 0x1145d7860>"
      ]
     },
     "execution_count": 49,
     "metadata": {},
     "output_type": "execute_result"
    },
    {
     "data": {
      "image/png": "[encoded data removed]",
      "text/plain": [
       "<matplotlib.figure.Figure at 0x1a20a89160>"
      ]
     },
     "metadata": {},
     "output_type": "display_data"
    }
   ],
   "source": [
    "region_matrix.div(region_matrix.sum(axis=0), axis=1).T.plot.bar()"
   ]
  },
  {
   "cell_type": "code",
   "execution_count": 50,
   "metadata": {},
   "outputs": [
    {
     "data": {
      "text/plain": [
       "(125.98177065564583,\n",
       " 2.815296955642152e-26,\n",
       " 4,\n",
       " array([[  123.24137586,  1151.30426075,   225.45436339],\n",
       "        [  167.85475392,  1568.07640314,   307.06884294],\n",
       "        [ 1349.90387022, 12610.6193361 ,  2469.47679367]]))"
      ]
     },
     "execution_count": 50,
     "metadata": {},
     "output_type": "execute_result"
    }
   ],
   "source": [
    "stats.chi2_contingency(region_matrix)"
   ]
  },
  {
   "cell_type": "code",
   "execution_count": 28,
   "metadata": {},
   "outputs": [
    {
     "data": {
      "image/png": "[encoded data removed]",
      "text/plain": [
       "<matplotlib.figure.Figure at 0x1147a0390>"
      ]
     },
     "metadata": {},
     "output_type": "display_data"
    }
   ],
   "source": [
    "fig, ax = plt.subplots(figsize=(3.73,1.5))\n",
    "sns.violinplot(\n",
    " x = 'region_type',\n",
    " y = 'ok_mean',\n",
    " data = ok_seq,\n",
    " order = ['faster', 'ns', 'slower'],\n",
    " palette=['#cf363f','#abcdef', '#6366cf']\n",
    ")\n",
    "ax.set_ylabel('Relative RFD')\n",
    "fig.tight_layout()\n",
    "fig.savefig('Ok_seq.svg')"
   ]
  },
  {
   "cell_type": "code",
   "execution_count": 53,
   "metadata": {},
   "outputs": [
    {
     "data": {
      "image/png": "[encoded data removed]",
      "text/plain": [
       "<matplotlib.figure.Figure at 0x116bc0898>"
      ]
     },
     "metadata": {},
     "output_type": "display_data"
    }
   ],
   "source": [
    "fig, ax = plt.subplots(figsize=(3,1.5))\n",
    "sns.violinplot(\n",
    " x = 'region_type',\n",
    " y = 'ok_mean',\n",
    " data = ok_seq,\n",
    " order = ['faster', 'ns', 'slower'],\n",
    " palette=['#cf363f','#abcdef', '#6366cf']\n",
    ")\n",
    "ax.set_ylabel('')\n",
    "ax.set_xlabel('')\n",
    "ax.set_xticklabels('')\n",
    "ax.set_yticklabels('')\n",
    "fig.tight_layout()\n",
    "fig.savefig('Ok_seq_nolabel.svg', transparent=True)"
   ]
  },
  {
   "cell_type": "code",
   "execution_count": 31,
   "metadata": {},
   "outputs": [
    {
     "data": {
      "text/plain": [
       "KruskalResult(statistic=52.74174856804064, pvalue=3.525939169734893e-12)"
      ]
     },
     "execution_count": 31,
     "metadata": {},
     "output_type": "execute_result"
    }
   ],
   "source": [
    "stats.kruskal(ok_seq.loc[ok_seq.region_type == 'slower', 'ok_mean'].dropna(), \n",
    "              ok_seq.loc[ok_seq.region_type == 'ns', 'ok_mean'].dropna(), \n",
    "              ok_seq.loc[ok_seq.region_type == 'faster', 'ok_mean'].dropna())"
   ]
  },
  {
   "cell_type": "code",
   "execution_count": null,
   "metadata": {},
   "outputs": [],
   "source": []
  }
 ],
 "metadata": {
  "kernelspec": {
   "display_name": "Python 3",
   "language": "python",
   "name": "python3"
  },
  "language_info": {
   "codemirror_mode": {
    "name": "ipython",
    "version": 3
   },
   "file_extension": ".py",
   "mimetype": "text/x-python",
   "name": "python",
   "nbconvert_exporter": "python",
   "pygments_lexer": "ipython3",
   "version": "3.6.8"
  }
 },
 "nbformat": 4,
 "nbformat_minor": 2
}
