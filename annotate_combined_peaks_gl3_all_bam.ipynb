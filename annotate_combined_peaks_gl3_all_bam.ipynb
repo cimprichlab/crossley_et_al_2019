{
 "cells": [
  {
   "cell_type": "code",
   "execution_count": 1,
   "metadata": {},
   "outputs": [],
   "source": [
    "%matplotlib inline\n",
    "\n",
    "import json\n",
    "import glob\n",
    "import re\n",
    "import itertools\n",
    "\n",
    "import pandas as pd\n",
    "import numpy as np\n",
    "from matplotlib import pyplot as plt\n",
    "import matplotlib as mpl\n",
    "import seaborn as sns\n",
    "from scipy import stats\n",
    "\n",
    "mpl.rc('font', family='Arial', size=12)"
   ]
  },
  {
   "cell_type": "code",
   "execution_count": 2,
   "metadata": {},
   "outputs": [],
   "source": [
    "with open('../../pair_counts.json') as f:\n",
    "    total_read_counts = pd.Series({k: v/2e6 for k,v in json.load(f).items()})"
   ]
  },
  {
   "cell_type": "code",
   "execution_count": 3,
   "metadata": {},
   "outputs": [],
   "source": [
    "with open('../../mean_spikein_counts.json') as f:\n",
    "    spike_counts = pd.Series(json.load(f))"
   ]
  },
  {
   "cell_type": "code",
   "execution_count": 4,
   "metadata": {},
   "outputs": [],
   "source": [
    "peak_locations = pd.read_csv('../../peak_calls/combined_bam_peaks/gl3_3_vs_input_peaks.broadPeak', \n",
    "                             sep = '\\t', names = ('chr', 'start', 'end'), usecols = ('chr', 'start', 'end'))\n"
   ]
  },
  {
   "cell_type": "code",
   "execution_count": 5,
   "metadata": {},
   "outputs": [],
   "source": [
    "def ucsc_index(df):\n",
    "    return df.chr.str.cat(df.start.astype(str).str.cat(df.end.astype(str), sep='-'), sep=':')"
   ]
  },
  {
   "cell_type": "code",
   "execution_count": 6,
   "metadata": {},
   "outputs": [],
   "source": [
    "peak_locations['ucsc_index'] = ucsc_index(peak_locations)"
   ]
  },
  {
   "cell_type": "markdown",
   "metadata": {},
   "source": [
    "# Load raw count data over peaks"
   ]
  },
  {
   "cell_type": "code",
   "execution_count": 7,
   "metadata": {},
   "outputs": [],
   "source": [
    "count_files = glob.glob('../../count_statistics/new_macs_calls/gl3/*.cov')"
   ]
  },
  {
   "cell_type": "code",
   "execution_count": 8,
   "metadata": {},
   "outputs": [],
   "source": [
    "bed_names = ['chr', 'start', 'end']\n",
    "\n",
    "count_data_plus = {}\n",
    "count_data_minus = {}\n",
    "\n",
    "for f in count_files:\n",
    "    if '.p.cov' in f:\n",
    "        sample_name = re.findall('/([^/]+)\\.[pm]\\.cov', f)[0]\n",
    "        \n",
    "        plus_strand_values = pd.read_csv(f, sep='\\t', names = bed_names + [sample_name])\n",
    "        plus_strand_values.set_index(ucsc_index(plus_strand_values), inplace=True)\n",
    "        minus_strand_values =  pd.read_csv(f.replace('.p.cov', '.m.cov'), sep='\\t', names = bed_names + [sample_name])\n",
    "        minus_strand_values.set_index(ucsc_index(minus_strand_values), inplace=True)\n",
    "        count_data_plus[sample_name] = plus_strand_values[sample_name]\n",
    "        count_data_minus[sample_name] = minus_strand_values[sample_name]"
   ]
  },
  {
   "cell_type": "code",
   "execution_count": 9,
   "metadata": {},
   "outputs": [],
   "source": [
    "count_data_minus = pd.DataFrame(count_data_minus)\n",
    "count_data_plus = pd.DataFrame(count_data_plus)"
   ]
  },
  {
   "cell_type": "code",
   "execution_count": 10,
   "metadata": {},
   "outputs": [],
   "source": [
    "count_data_minus = count_data_minus[count_data_minus.index.isin(peak_locations.ucsc_index)]\n",
    "count_data_plus = count_data_plus[count_data_plus.index.isin(peak_locations.ucsc_index)]"
   ]
  },
  {
   "cell_type": "code",
   "execution_count": 11,
   "metadata": {},
   "outputs": [
    {
     "data": {
      "text/plain": [
       "(65541, 65541)"
      ]
     },
     "execution_count": 11,
     "metadata": {},
     "output_type": "execute_result"
    }
   ],
   "source": [
    "len(count_data_plus), len(peak_locations)"
   ]
  },
  {
   "cell_type": "code",
   "execution_count": 12,
   "metadata": {},
   "outputs": [],
   "source": [
    "ip_cols = list('_'.join(i) for i in itertools.product(['dmso', 'drb', 'gl3'], ['2', '3']))\n",
    "rh_cols = [i + '_rh' for i in ['drb', 'gl3']]"
   ]
  },
  {
   "cell_type": "markdown",
   "metadata": {},
   "source": [
    "# Find areas of high strand bias"
   ]
  },
  {
   "cell_type": "code",
   "execution_count": 13,
   "metadata": {},
   "outputs": [],
   "source": [
    "strand_bias = ((count_data_plus - count_data_minus)/(count_data_plus + count_data_minus))[ip_cols]"
   ]
  },
  {
   "cell_type": "code",
   "execution_count": 14,
   "metadata": {
    "scrolled": true
   },
   "outputs": [
    {
     "data": {
      "text/plain": [
       "<matplotlib.axes._subplots.AxesSubplot at 0x1a1e295358>"
      ]
     },
     "execution_count": 14,
     "metadata": {},
     "output_type": "execute_result"
    },
    {
     "data": {
      "image/png": "[encoded data removed]",
      "text/plain": [
       "<matplotlib.figure.Figure at 0x1a12b70c50>"
      ]
     },
     "metadata": {},
     "output_type": "display_data"
    }
   ],
   "source": [
    "strand_bias.mean(axis=1).hist()"
   ]
  },
  {
   "cell_type": "code",
   "execution_count": 15,
   "metadata": {},
   "outputs": [],
   "source": [
    "has_bias = strand_bias.mean(axis=1).abs() > 1/3"
   ]
  },
  {
   "cell_type": "code",
   "execution_count": 16,
   "metadata": {},
   "outputs": [],
   "source": [
    "count_data_both = count_data_minus + count_data_plus"
   ]
  },
  {
   "cell_type": "markdown",
   "metadata": {},
   "source": [
    "# Find RNase H sensitive areas "
   ]
  },
  {
   "cell_type": "code",
   "execution_count": 17,
   "metadata": {},
   "outputs": [
    {
     "data": {
      "text/html": [
       "<div>\n",
       "<style scoped>\n",
       "    .dataframe tbody tr th:only-of-type {\n",
       "        vertical-align: middle;\n",
       "    }\n",
       "\n",
       "    .dataframe tbody tr th {\n",
       "        vertical-align: top;\n",
       "    }\n",
       "\n",
       "    .dataframe thead th {\n",
       "        text-align: right;\n",
       "    }\n",
       "</style>\n",
       "<table border=\"1\" class=\"dataframe\">\n",
       "  <thead>\n",
       "    <tr style=\"text-align: right;\">\n",
       "      <th></th>\n",
       "      <th>aqr_1</th>\n",
       "      <th>aqr_2</th>\n",
       "      <th>aqr_2in</th>\n",
       "      <th>aqr_3</th>\n",
       "      <th>aqr_in</th>\n",
       "      <th>aqr_rh</th>\n",
       "      <th>dmso_1</th>\n",
       "      <th>dmso_2</th>\n",
       "      <th>dmso_3</th>\n",
       "      <th>dmso_in</th>\n",
       "      <th>...</th>\n",
       "      <th>gl3_1</th>\n",
       "      <th>gl3_2</th>\n",
       "      <th>gl3_3</th>\n",
       "      <th>gl3_in</th>\n",
       "      <th>gl3_rh</th>\n",
       "      <th>mcm_1</th>\n",
       "      <th>mcm_2</th>\n",
       "      <th>mcm_3</th>\n",
       "      <th>mcm_in</th>\n",
       "      <th>mcm_rh</th>\n",
       "    </tr>\n",
       "    <tr>\n",
       "      <th>chr</th>\n",
       "      <th></th>\n",
       "      <th></th>\n",
       "      <th></th>\n",
       "      <th></th>\n",
       "      <th></th>\n",
       "      <th></th>\n",
       "      <th></th>\n",
       "      <th></th>\n",
       "      <th></th>\n",
       "      <th></th>\n",
       "      <th></th>\n",
       "      <th></th>\n",
       "      <th></th>\n",
       "      <th></th>\n",
       "      <th></th>\n",
       "      <th></th>\n",
       "      <th></th>\n",
       "      <th></th>\n",
       "      <th></th>\n",
       "      <th></th>\n",
       "      <th></th>\n",
       "    </tr>\n",
       "  </thead>\n",
       "  <tbody>\n",
       "    <tr>\n",
       "      <th>chr1:10019-10322</th>\n",
       "      <td>347</td>\n",
       "      <td>92</td>\n",
       "      <td>0</td>\n",
       "      <td>103</td>\n",
       "      <td>48</td>\n",
       "      <td>73</td>\n",
       "      <td>263</td>\n",
       "      <td>68</td>\n",
       "      <td>73</td>\n",
       "      <td>76</td>\n",
       "      <td>...</td>\n",
       "      <td>166</td>\n",
       "      <td>77</td>\n",
       "      <td>66</td>\n",
       "      <td>51</td>\n",
       "      <td>197</td>\n",
       "      <td>77</td>\n",
       "      <td>107</td>\n",
       "      <td>76</td>\n",
       "      <td>43</td>\n",
       "      <td>77</td>\n",
       "    </tr>\n",
       "    <tr>\n",
       "      <th>chr1:81870-82280</th>\n",
       "      <td>15</td>\n",
       "      <td>18</td>\n",
       "      <td>0</td>\n",
       "      <td>22</td>\n",
       "      <td>10</td>\n",
       "      <td>19</td>\n",
       "      <td>13</td>\n",
       "      <td>23</td>\n",
       "      <td>21</td>\n",
       "      <td>14</td>\n",
       "      <td>...</td>\n",
       "      <td>11</td>\n",
       "      <td>26</td>\n",
       "      <td>26</td>\n",
       "      <td>9</td>\n",
       "      <td>18</td>\n",
       "      <td>21</td>\n",
       "      <td>26</td>\n",
       "      <td>25</td>\n",
       "      <td>13</td>\n",
       "      <td>23</td>\n",
       "    </tr>\n",
       "    <tr>\n",
       "      <th>chr1:83829-84115</th>\n",
       "      <td>40</td>\n",
       "      <td>18</td>\n",
       "      <td>0</td>\n",
       "      <td>27</td>\n",
       "      <td>6</td>\n",
       "      <td>40</td>\n",
       "      <td>45</td>\n",
       "      <td>22</td>\n",
       "      <td>17</td>\n",
       "      <td>20</td>\n",
       "      <td>...</td>\n",
       "      <td>46</td>\n",
       "      <td>29</td>\n",
       "      <td>17</td>\n",
       "      <td>13</td>\n",
       "      <td>46</td>\n",
       "      <td>32</td>\n",
       "      <td>35</td>\n",
       "      <td>21</td>\n",
       "      <td>19</td>\n",
       "      <td>36</td>\n",
       "    </tr>\n",
       "    <tr>\n",
       "      <th>chr1:629300-631406</th>\n",
       "      <td>1387</td>\n",
       "      <td>864</td>\n",
       "      <td>0</td>\n",
       "      <td>1019</td>\n",
       "      <td>480</td>\n",
       "      <td>1801</td>\n",
       "      <td>1198</td>\n",
       "      <td>883</td>\n",
       "      <td>833</td>\n",
       "      <td>509</td>\n",
       "      <td>...</td>\n",
       "      <td>1564</td>\n",
       "      <td>937</td>\n",
       "      <td>783</td>\n",
       "      <td>436</td>\n",
       "      <td>2104</td>\n",
       "      <td>721</td>\n",
       "      <td>960</td>\n",
       "      <td>944</td>\n",
       "      <td>658</td>\n",
       "      <td>2037</td>\n",
       "    </tr>\n",
       "    <tr>\n",
       "      <th>chr1:633861-634155</th>\n",
       "      <td>1384</td>\n",
       "      <td>972</td>\n",
       "      <td>0</td>\n",
       "      <td>1329</td>\n",
       "      <td>365</td>\n",
       "      <td>2830</td>\n",
       "      <td>1483</td>\n",
       "      <td>983</td>\n",
       "      <td>941</td>\n",
       "      <td>390</td>\n",
       "      <td>...</td>\n",
       "      <td>2108</td>\n",
       "      <td>1052</td>\n",
       "      <td>1124</td>\n",
       "      <td>315</td>\n",
       "      <td>3216</td>\n",
       "      <td>902</td>\n",
       "      <td>1175</td>\n",
       "      <td>1150</td>\n",
       "      <td>479</td>\n",
       "      <td>2891</td>\n",
       "    </tr>\n",
       "  </tbody>\n",
       "</table>\n",
       "<p>5 rows × 25 columns</p>\n",
       "</div>"
      ],
      "text/plain": [
       "                    aqr_1  aqr_2  aqr_2in  aqr_3  aqr_in  aqr_rh  dmso_1  \\\n",
       "chr                                                                        \n",
       "chr1:10019-10322      347     92        0    103      48      73     263   \n",
       "chr1:81870-82280       15     18        0     22      10      19      13   \n",
       "chr1:83829-84115       40     18        0     27       6      40      45   \n",
       "chr1:629300-631406   1387    864        0   1019     480    1801    1198   \n",
       "chr1:633861-634155   1384    972        0   1329     365    2830    1483   \n",
       "\n",
       "                    dmso_2  dmso_3  dmso_in   ...    gl3_1  gl3_2  gl3_3  \\\n",
       "chr                                           ...                          \n",
       "chr1:10019-10322        68      73       76   ...      166     77     66   \n",
       "chr1:81870-82280        23      21       14   ...       11     26     26   \n",
       "chr1:83829-84115        22      17       20   ...       46     29     17   \n",
       "chr1:629300-631406     883     833      509   ...     1564    937    783   \n",
       "chr1:633861-634155     983     941      390   ...     2108   1052   1124   \n",
       "\n",
       "                    gl3_in  gl3_rh  mcm_1  mcm_2  mcm_3  mcm_in  mcm_rh  \n",
       "chr                                                                      \n",
       "chr1:10019-10322        51     197     77    107     76      43      77  \n",
       "chr1:81870-82280         9      18     21     26     25      13      23  \n",
       "chr1:83829-84115        13      46     32     35     21      19      36  \n",
       "chr1:629300-631406     436    2104    721    960    944     658    2037  \n",
       "chr1:633861-634155     315    3216    902   1175   1150     479    2891  \n",
       "\n",
       "[5 rows x 25 columns]"
      ]
     },
     "execution_count": 17,
     "metadata": {},
     "output_type": "execute_result"
    }
   ],
   "source": [
    "count_data_both.head()"
   ]
  },
  {
   "cell_type": "code",
   "execution_count": 18,
   "metadata": {},
   "outputs": [
    {
     "data": {
      "text/plain": [
       "aqr_1      28.291091\n",
       "aqr_2      31.725255\n",
       "aqr_2in          NaN\n",
       "aqr_3      33.540910\n",
       "aqr_in     16.868805\n",
       "aqr_rh     16.205527\n",
       "dmso_1     23.043815\n",
       "dmso_2     31.248116\n",
       "dmso_3     31.151214\n",
       "dmso_in    17.011010\n",
       "drb_1      12.694132\n",
       "drb_2      14.202515\n",
       "drb_3      16.085583\n",
       "drb_in     15.346044\n",
       "drb_rh     12.872676\n",
       "gl3_1      19.418179\n",
       "gl3_2      29.559124\n",
       "gl3_3      35.731838\n",
       "gl3_in     16.642836\n",
       "gl3_rh     17.373463\n",
       "mcm_1      25.213024\n",
       "mcm_2      26.041064\n",
       "mcm_3      27.832744\n",
       "mcm_in     15.339931\n",
       "mcm_rh     18.145239\n",
       "dtype: float64"
      ]
     },
     "execution_count": 18,
     "metadata": {},
     "output_type": "execute_result"
    }
   ],
   "source": [
    "count_data_both.loc['chr5:37322709-37343130', :].div(total_read_counts)"
   ]
  },
  {
   "cell_type": "code",
   "execution_count": 19,
   "metadata": {},
   "outputs": [],
   "source": [
    "mean_rh_rpm = (count_data_both[rh_cols] / total_read_counts[rh_cols]).mean(axis=1)"
   ]
  },
  {
   "cell_type": "code",
   "execution_count": 20,
   "metadata": {},
   "outputs": [],
   "source": [
    "mean_ip_rpm = (count_data_both[ip_cols] / total_read_counts[ip_cols]).mean(axis=1)"
   ]
  },
  {
   "cell_type": "code",
   "execution_count": 21,
   "metadata": {},
   "outputs": [
    {
     "data": {
      "text/plain": [
       "26.329731919659114"
      ]
     },
     "execution_count": 21,
     "metadata": {},
     "output_type": "execute_result"
    }
   ],
   "source": [
    "mean_ip_rpm['chr5:37322709-37343130']"
   ]
  },
  {
   "cell_type": "code",
   "execution_count": 22,
   "metadata": {},
   "outputs": [
    {
     "data": {
      "text/plain": [
       "15.12306953315412"
      ]
     },
     "execution_count": 22,
     "metadata": {},
     "output_type": "execute_result"
    }
   ],
   "source": [
    "mean_rh_rpm['chr5:37322709-37343130']"
   ]
  },
  {
   "cell_type": "code",
   "execution_count": 23,
   "metadata": {},
   "outputs": [],
   "source": [
    "ratio = np.log2(mean_ip_rpm / mean_rh_rpm)"
   ]
  },
  {
   "cell_type": "code",
   "execution_count": 24,
   "metadata": {},
   "outputs": [
    {
     "data": {
      "text/plain": [
       "(array([2549., 2716., 2904., 3061., 3167., 3200., 3288., 3205., 3081.,\n",
       "        3003., 2691., 2574., 2341., 2018., 1859., 1525., 1322., 1092.,\n",
       "         903.,  668.,  557.,  432.,  326.,  292.,  207.,  171.,  139.,\n",
       "         130.,   93.]),\n",
       " array([0. , 0.1, 0.2, 0.3, 0.4, 0.5, 0.6, 0.7, 0.8, 0.9, 1. , 1.1, 1.2,\n",
       "        1.3, 1.4, 1.5, 1.6, 1.7, 1.8, 1.9, 2. , 2.1, 2.2, 2.3, 2.4, 2.5,\n",
       "        2.6, 2.7, 2.8, 2.9]),\n",
       " <a list of 29 Patch objects>)"
      ]
     },
     "execution_count": 24,
     "metadata": {},
     "output_type": "execute_result"
    },
    {
     "data": {
      "image/png": "[encoded data removed]",
      "text/plain": [
       "<matplotlib.figure.Figure at 0x1a2484ea20>"
      ]
     },
     "metadata": {},
     "output_type": "display_data"
    }
   ],
   "source": [
    "fig, ax = plt.subplots()\n",
    "\n",
    "ax.hist(ratio[np.isfinite(ratio)], bins = np.arange(-3,0.1, 0.1))\n",
    "ax.hist(ratio[np.isfinite(ratio)], bins = np.arange(0,3, 0.1))"
   ]
  },
  {
   "cell_type": "code",
   "execution_count": 25,
   "metadata": {},
   "outputs": [],
   "source": [
    "rh_sensitive = ((mean_ip_rpm/2) > mean_rh_rpm)"
   ]
  },
  {
   "cell_type": "code",
   "execution_count": 26,
   "metadata": {},
   "outputs": [],
   "source": [
    "rh_sensitivity = ((mean_ip_rpm/2) / mean_rh_rpm)"
   ]
  },
  {
   "cell_type": "code",
   "execution_count": 27,
   "metadata": {},
   "outputs": [
    {
     "data": {
      "text/plain": [
       "0.8705154685011786"
      ]
     },
     "execution_count": 27,
     "metadata": {},
     "output_type": "execute_result"
    }
   ],
   "source": [
    "rh_sensitivity['chr5:37322709-37343130']"
   ]
  },
  {
   "cell_type": "code",
   "execution_count": 28,
   "metadata": {},
   "outputs": [
    {
     "data": {
      "text/plain": [
       "chr\n",
       "chr1:10019-10322          False\n",
       "chr1:81870-82280          False\n",
       "chr1:83829-84115          False\n",
       "chr1:629300-631406        False\n",
       "chr1:633861-634155        False\n",
       "chr1:653619-653926        False\n",
       "chr1:669251-669639        False\n",
       "chr1:788757-791618        False\n",
       "chr1:821209-823556        False\n",
       "chr1:839081-839371        False\n",
       "chr1:911495-913101        False\n",
       "chr1:914852-915509        False\n",
       "chr1:918997-921001        False\n",
       "chr1:943174-946191        False\n",
       "chr1:957682-958004        False\n",
       "chr1:974916-975262        False\n",
       "chr1:999573-1001553       False\n",
       "chr1:1078866-1081543      False\n",
       "chr1:1089396-1098039      False\n",
       "chr1:1100622-1101153      False\n",
       "chr1:1216474-1216808      False\n",
       "chr1:1219011-1219640      False\n",
       "chr1:1234429-1235539      False\n",
       "chr1:1237004-1238102      False\n",
       "chr1:1258341-1262816      False\n",
       "chr1:1269876-1271328      False\n",
       "chr1:1301032-1301727      False\n",
       "chr1:1303498-1304152      False\n",
       "chr1:1309079-1313004      False\n",
       "chr1:1326597-1336413       True\n",
       "                          ...  \n",
       "chrY:10892500-10892818    False\n",
       "chrY:10895762-10896360    False\n",
       "chrY:10898937-10900016    False\n",
       "chrY:10921102-10921441    False\n",
       "chrY:10924372-10927898    False\n",
       "chrY:10934710-10935621    False\n",
       "chrY:10949525-10950525    False\n",
       "chrY:10957835-10959322    False\n",
       "chrY:10961372-10962641    False\n",
       "chrY:10964225-10965618    False\n",
       "chrY:10973583-10973963    False\n",
       "chrY:10982231-10984005    False\n",
       "chrY:10986396-10989466    False\n",
       "chrY:10992257-10994706    False\n",
       "chrY:10999859-11001508    False\n",
       "chrY:11003714-11004464    False\n",
       "chrY:11022877-11023232    False\n",
       "chrY:11029710-11030317    False\n",
       "chrY:11164681-11165287     True\n",
       "chrY:11290840-11295991    False\n",
       "chrY:11297184-11298234    False\n",
       "chrY:11299827-11300397    False\n",
       "chrY:11302036-11303894    False\n",
       "chrY:11723008-11723333    False\n",
       "chrY:11734823-11735667    False\n",
       "chrY:11747669-11748492    False\n",
       "chrY:26639557-26640586    False\n",
       "chrY:26653022-26654132    False\n",
       "chrY:56826181-56826796    False\n",
       "chrY:56828614-56837059    False\n",
       "Length: 65541, dtype: bool"
      ]
     },
     "execution_count": 28,
     "metadata": {},
     "output_type": "execute_result"
    }
   ],
   "source": [
    "rh_sensitive"
   ]
  },
  {
   "cell_type": "code",
   "execution_count": 29,
   "metadata": {},
   "outputs": [
    {
     "data": {
      "text/plain": [
       "65541"
      ]
     },
     "execution_count": 29,
     "metadata": {},
     "output_type": "execute_result"
    }
   ],
   "source": [
    "len(mean_ip_rpm)"
   ]
  },
  {
   "cell_type": "code",
   "execution_count": 30,
   "metadata": {},
   "outputs": [
    {
     "data": {
      "text/plain": [
       "16895"
      ]
     },
     "execution_count": 30,
     "metadata": {},
     "output_type": "execute_result"
    }
   ],
   "source": [
    "(has_bias & rh_sensitive).sum()"
   ]
  },
  {
   "cell_type": "markdown",
   "metadata": {},
   "source": [
    "# Output bed file"
   ]
  },
  {
   "cell_type": "code",
   "execution_count": 31,
   "metadata": {},
   "outputs": [],
   "source": [
    "coords = count_data_both.index.str.extract('(.*):(\\d+)-(\\d+)', expand=True).rename(columns={0:'chr', 1:'start', 2:'end'})\n",
    "coords = coords.set_index(ucsc_index(coords))"
   ]
  },
  {
   "cell_type": "code",
   "execution_count": 32,
   "metadata": {},
   "outputs": [],
   "source": [
    "coords['strand'] = np.nan\n",
    "coords.loc[~has_bias, 'strand'] = '.'\n",
    "coords.loc[(strand_bias.mean(axis=1) > 0.5), 'strand'] = '-' # Will annotate according to direction of \"transcription\" implied by R-loop\n",
    "coords.loc[(strand_bias.mean(axis=1) < 0.5), 'strand'] = '+'\n",
    "\n",
    "coords['name'] = '.'\n",
    "coords['value'] = '.'"
   ]
  },
  {
   "cell_type": "code",
   "execution_count": 38,
   "metadata": {},
   "outputs": [],
   "source": [
    "def genome_length(subset):\n",
    "    return pd.to_numeric(coords[subset].end) - pd.to_numeric(coords[subset].start)"
   ]
  },
  {
   "cell_type": "code",
   "execution_count": 47,
   "metadata": {},
   "outputs": [
    {
     "name": "stdout",
     "output_type": "stream",
     "text": [
      "cimprich@cimprichserver.stanford.edu:/Volumes/Pegasus/DRIP_spike_in/qdrip/notebooks/read_counts\r\n"
     ]
    }
   ],
   "source": [
    "!echo $(whoami)@$HOSTNAME:$(pwd)"
   ]
  },
  {
   "cell_type": "code",
   "execution_count": 44,
   "metadata": {},
   "outputs": [
    {
     "data": {
      "text/plain": [
       "(65541, 48775, 19912, 16895)"
      ]
     },
     "execution_count": 44,
     "metadata": {},
     "output_type": "execute_result"
    }
   ],
   "source": [
    "len(coords), has_bias.sum(), rh_sensitive.sum(), (has_bias & rh_sensitive).sum()"
   ]
  },
  {
   "cell_type": "code",
   "execution_count": 42,
   "metadata": {},
   "outputs": [
    {
     "data": {
      "text/plain": [
       "(312.443869, 209.492574, 191.151317)"
      ]
     },
     "execution_count": 42,
     "metadata": {},
     "output_type": "execute_result"
    }
   ],
   "source": [
    " genome_length(has_bias).sum()/1e6, genome_length(rh_sensitive).sum()/1e6, genome_length(has_bias & rh_sensitive).sum()/1e6"
   ]
  },
  {
   "cell_type": "code",
   "execution_count": 33,
   "metadata": {},
   "outputs": [],
   "source": [
    "subset = coords.loc[(has_bias & rh_sensitive), ]"
   ]
  },
  {
   "cell_type": "code",
   "execution_count": 106,
   "metadata": {},
   "outputs": [
    {
     "data": {
      "text/plain": [
       "363239284"
      ]
     },
     "execution_count": 106,
     "metadata": {},
     "output_type": "execute_result"
    }
   ],
   "source": [
    "(pd.to_numeric(coords.end) - pd.to_numeric(coords.start)).sum()"
   ]
  },
  {
   "cell_type": "code",
   "execution_count": 34,
   "metadata": {},
   "outputs": [
    {
     "data": {
      "text/plain": [
       "191151317"
      ]
     },
     "execution_count": 34,
     "metadata": {},
     "output_type": "execute_result"
    }
   ],
   "source": [
    "(pd.to_numeric(subset.end) - pd.to_numeric(subset.start)).sum()"
   ]
  },
  {
   "cell_type": "code",
   "execution_count": 35,
   "metadata": {},
   "outputs": [
    {
     "data": {
      "text/plain": [
       "191.151317"
      ]
     },
     "execution_count": 35,
     "metadata": {},
     "output_type": "execute_result"
    }
   ],
   "source": [
    "191151317 /1e6"
   ]
  },
  {
   "cell_type": "code",
   "execution_count": 36,
   "metadata": {},
   "outputs": [],
   "source": [
    "(coords\n",
    " .loc[(has_bias & rh_sensitive),'chr start end name value strand'.split()]\n",
    " .sort_values(['chr', 'start', 'end'])\n",
    " .to_csv('../../peak_calls/combined_bam_peaks/gl3_broad_annotated.bed',\n",
    "          index=False, header=False, sep='\\t')\n",
    ")"
   ]
  },
  {
   "cell_type": "code",
   "execution_count": 37,
   "metadata": {},
   "outputs": [],
   "source": [
    "(coords\n",
    " .loc[(rh_sensitive),'chr start end name value strand'.split()]\n",
    " .sort_values(['chr', 'start', 'end'])\n",
    " .to_csv('../../peak_calls/combined_bam_peaks/gl3_broad_annotated_nofilter_strand_bias.bed',\n",
    "          index=False, header=False, sep='\\t')\n",
    ")"
   ]
  },
  {
   "cell_type": "code",
   "execution_count": 38,
   "metadata": {},
   "outputs": [],
   "source": [
    "(coords\n",
    " .loc[(has_bias & ~rh_sensitive),'chr start end name value strand'.split()]\n",
    " .sort_values(['chr', 'start', 'end'])\n",
    " .to_csv('../../peak_calls/combined_bam_peaks/gl3_broad_annotated_rh_insensitive.bed',\n",
    "          index=False, header=False, sep='\\t')\n",
    ")"
   ]
  },
  {
   "cell_type": "code",
   "execution_count": 39,
   "metadata": {},
   "outputs": [],
   "source": [
    "(coords\n",
    " ['chr start end name value strand'.split()]\n",
    " .sort_values(['chr', 'start', 'end'])\n",
    " .to_csv('../../peak_calls/combined_bam_peaks/gl3_broad_annotated_all_peaks.bed',\n",
    "          index=False, header=False, sep='\\t')\n",
    ")"
   ]
  },
  {
   "cell_type": "markdown",
   "metadata": {},
   "source": [
    "# Histogram of peak lengths"
   ]
  },
  {
   "cell_type": "code",
   "execution_count": 49,
   "metadata": {},
   "outputs": [
    {
     "data": {
      "text/html": [
       "<div>\n",
       "<style scoped>\n",
       "    .dataframe tbody tr th:only-of-type {\n",
       "        vertical-align: middle;\n",
       "    }\n",
       "\n",
       "    .dataframe tbody tr th {\n",
       "        vertical-align: top;\n",
       "    }\n",
       "\n",
       "    .dataframe thead th {\n",
       "        text-align: right;\n",
       "    }\n",
       "</style>\n",
       "<table border=\"1\" class=\"dataframe\">\n",
       "  <thead>\n",
       "    <tr style=\"text-align: right;\">\n",
       "      <th></th>\n",
       "      <th>chr</th>\n",
       "      <th>start</th>\n",
       "      <th>end</th>\n",
       "      <th>strand</th>\n",
       "      <th>name</th>\n",
       "      <th>value</th>\n",
       "    </tr>\n",
       "    <tr>\n",
       "      <th>chr</th>\n",
       "      <th></th>\n",
       "      <th></th>\n",
       "      <th></th>\n",
       "      <th></th>\n",
       "      <th></th>\n",
       "      <th></th>\n",
       "    </tr>\n",
       "  </thead>\n",
       "  <tbody>\n",
       "    <tr>\n",
       "      <th>chr1:10019-10322</th>\n",
       "      <td>chr1</td>\n",
       "      <td>10019</td>\n",
       "      <td>10322</td>\n",
       "      <td>+</td>\n",
       "      <td>.</td>\n",
       "      <td>.</td>\n",
       "    </tr>\n",
       "    <tr>\n",
       "      <th>chr1:81870-82280</th>\n",
       "      <td>chr1</td>\n",
       "      <td>81870</td>\n",
       "      <td>82280</td>\n",
       "      <td>+</td>\n",
       "      <td>.</td>\n",
       "      <td>.</td>\n",
       "    </tr>\n",
       "    <tr>\n",
       "      <th>chr1:83829-84115</th>\n",
       "      <td>chr1</td>\n",
       "      <td>83829</td>\n",
       "      <td>84115</td>\n",
       "      <td>+</td>\n",
       "      <td>.</td>\n",
       "      <td>.</td>\n",
       "    </tr>\n",
       "    <tr>\n",
       "      <th>chr1:629300-631406</th>\n",
       "      <td>chr1</td>\n",
       "      <td>629300</td>\n",
       "      <td>631406</td>\n",
       "      <td>+</td>\n",
       "      <td>.</td>\n",
       "      <td>.</td>\n",
       "    </tr>\n",
       "    <tr>\n",
       "      <th>chr1:633861-634155</th>\n",
       "      <td>chr1</td>\n",
       "      <td>633861</td>\n",
       "      <td>634155</td>\n",
       "      <td>+</td>\n",
       "      <td>.</td>\n",
       "      <td>.</td>\n",
       "    </tr>\n",
       "  </tbody>\n",
       "</table>\n",
       "</div>"
      ],
      "text/plain": [
       "                     chr   start     end strand name value\n",
       "chr                                                       \n",
       "chr1:10019-10322    chr1   10019   10322      +    .     .\n",
       "chr1:81870-82280    chr1   81870   82280      +    .     .\n",
       "chr1:83829-84115    chr1   83829   84115      +    .     .\n",
       "chr1:629300-631406  chr1  629300  631406      +    .     .\n",
       "chr1:633861-634155  chr1  633861  634155      +    .     ."
      ]
     },
     "execution_count": 49,
     "metadata": {},
     "output_type": "execute_result"
    }
   ],
   "source": [
    "coords.head()"
   ]
  },
  {
   "cell_type": "code",
   "execution_count": 50,
   "metadata": {},
   "outputs": [],
   "source": [
    "coords.start = pd.to_numeric(coords.start)\n",
    "coords.end = pd.to_numeric(coords.end)"
   ]
  },
  {
   "cell_type": "code",
   "execution_count": 51,
   "metadata": {},
   "outputs": [],
   "source": [
    "coords['length'] = (coords.end - coords.start)"
   ]
  },
  {
   "cell_type": "code",
   "execution_count": 52,
   "metadata": {},
   "outputs": [
    {
     "data": {
      "text/plain": [
       "5542.168779847729"
      ]
     },
     "execution_count": 52,
     "metadata": {},
     "output_type": "execute_result"
    }
   ],
   "source": [
    "coords.length.mean()"
   ]
  },
  {
   "cell_type": "code",
   "execution_count": 53,
   "metadata": {},
   "outputs": [],
   "source": [
    "within_quantiles = (coords.length < coords.length.quantile(0.95)) & (coords.length >= coords.length.quantile(0.05))"
   ]
  },
  {
   "cell_type": "code",
   "execution_count": 54,
   "metadata": {},
   "outputs": [
    {
     "data": {
      "text/plain": [
       "0.9006423460124197"
      ]
     },
     "execution_count": 54,
     "metadata": {},
     "output_type": "execute_result"
    }
   ],
   "source": [
    "within_quantiles.mean()"
   ]
  },
  {
   "cell_type": "code",
   "execution_count": 55,
   "metadata": {},
   "outputs": [],
   "source": [
    "coords['rh_sensitive'] = rh_sensitive\n",
    "coords['has_bias'] = has_bias\n",
    "coords['within_quantiles'] = within_quantiles\n",
    "coords['filtered'] = has_bias & rh_sensitive"
   ]
  },
  {
   "cell_type": "code",
   "execution_count": 56,
   "metadata": {},
   "outputs": [],
   "source": [
    "categories = coords.groupby(['filtered', 'within_quantiles']).size().unstack()"
   ]
  },
  {
   "cell_type": "code",
   "execution_count": 57,
   "metadata": {},
   "outputs": [
    {
     "data": {
      "text/plain": [
       "0.2577775743427778"
      ]
     },
     "execution_count": 57,
     "metadata": {},
     "output_type": "execute_result"
    }
   ],
   "source": [
    "coords.filtered.mean()"
   ]
  },
  {
   "cell_type": "code",
   "execution_count": 58,
   "metadata": {},
   "outputs": [
    {
     "data": {
      "text/plain": [
       "16895"
      ]
     },
     "execution_count": 58,
     "metadata": {},
     "output_type": "execute_result"
    }
   ],
   "source": [
    "coords.filtered.sum()"
   ]
  },
  {
   "cell_type": "code",
   "execution_count": 59,
   "metadata": {},
   "outputs": [
    {
     "data": {
      "text/html": [
       "<div>\n",
       "<style scoped>\n",
       "    .dataframe tbody tr th:only-of-type {\n",
       "        vertical-align: middle;\n",
       "    }\n",
       "\n",
       "    .dataframe tbody tr th {\n",
       "        vertical-align: top;\n",
       "    }\n",
       "\n",
       "    .dataframe thead th {\n",
       "        text-align: right;\n",
       "    }\n",
       "</style>\n",
       "<table border=\"1\" class=\"dataframe\">\n",
       "  <thead>\n",
       "    <tr style=\"text-align: right;\">\n",
       "      <th>within_quantiles</th>\n",
       "      <th>False</th>\n",
       "      <th>True</th>\n",
       "    </tr>\n",
       "    <tr>\n",
       "      <th>filtered</th>\n",
       "      <th></th>\n",
       "      <th></th>\n",
       "    </tr>\n",
       "  </thead>\n",
       "  <tbody>\n",
       "    <tr>\n",
       "      <th>False</th>\n",
       "      <td>3643</td>\n",
       "      <td>45003</td>\n",
       "    </tr>\n",
       "    <tr>\n",
       "      <th>True</th>\n",
       "      <td>2869</td>\n",
       "      <td>14026</td>\n",
       "    </tr>\n",
       "  </tbody>\n",
       "</table>\n",
       "</div>"
      ],
      "text/plain": [
       "within_quantiles  False  True \n",
       "filtered                      \n",
       "False              3643  45003\n",
       "True               2869  14026"
      ]
     },
     "execution_count": 59,
     "metadata": {},
     "output_type": "execute_result"
    }
   ],
   "source": [
    "categories.head()"
   ]
  },
  {
   "cell_type": "code",
   "execution_count": 60,
   "metadata": {},
   "outputs": [
    {
     "data": {
      "text/plain": [
       "0.3116681110148212"
      ]
     },
     "execution_count": 60,
     "metadata": {},
     "output_type": "execute_result"
    }
   ],
   "source": [
    "categories.iloc[1,1] / categories.iloc[0,1]"
   ]
  },
  {
   "cell_type": "code",
   "execution_count": 61,
   "metadata": {},
   "outputs": [
    {
     "data": {
      "text/plain": [
       "3739.0"
      ]
     },
     "execution_count": 61,
     "metadata": {},
     "output_type": "execute_result"
    }
   ],
   "source": [
    "coords[coords.filtered].length.median()"
   ]
  },
  {
   "cell_type": "code",
   "execution_count": 68,
   "metadata": {},
   "outputs": [
    {
     "data": {
      "text/plain": [
       "1099.0"
      ]
     },
     "execution_count": 68,
     "metadata": {},
     "output_type": "execute_result"
    }
   ],
   "source": [
    "coords[coords.filtered].length.quantile(0.25)"
   ]
  },
  {
   "cell_type": "code",
   "execution_count": 69,
   "metadata": {},
   "outputs": [
    {
     "data": {
      "text/plain": [
       "13901.5"
      ]
     },
     "execution_count": 69,
     "metadata": {},
     "output_type": "execute_result"
    }
   ],
   "source": [
    "coords[coords.filtered].length.quantile(0.75)"
   ]
  },
  {
   "cell_type": "code",
   "execution_count": 65,
   "metadata": {},
   "outputs": [
    {
     "data": {
      "image/png": "[encoded data removed]",
      "text/plain": [
       "<matplotlib.figure.Figure at 0x1a113aa630>"
      ]
     },
     "metadata": {},
     "output_type": "display_data"
    }
   ],
   "source": [
    "fig, ax = plt.subplots(figsize=(5,2))\n",
    "(coords[coords.filtered].end - coords[coords.filtered].start).hist(bins = np.arange(0, 40000, 200), ax=ax)\n",
    "ax.grid(False)\n",
    "ax.set_ylabel('Number of peaks')\n",
    "ax.set_xlabel('Peak length (base pairs)')\n",
    "ax.set_xticks(np.arange(0, 50000, 10000))\n",
    "fig.tight_layout()\n",
    "fig.savefig('Peak_size.svg')\n",
    "fig.savefig('Peak_size.png', dpi=200)"
   ]
  },
  {
   "cell_type": "code",
   "execution_count": 107,
   "metadata": {},
   "outputs": [
    {
     "data": {
      "image/png": "[encoded data removed]",
      "text/plain": [
       "<matplotlib.figure.Figure at 0x1a1aa21e80>"
      ]
     },
     "metadata": {},
     "output_type": "display_data"
    }
   ],
   "source": [
    "fig, ax = plt.subplots(figsize=(3.5,1.8))\n",
    "(coords[coords.filtered].end - coords[coords.filtered].start).hist(bins = np.arange(0, 40000, 200), ax=ax)\n",
    "ax.grid(False)\n",
    "ax.set_ylabel('')\n",
    "ax.set_xlabel('')\n",
    "ax.set_xticks(np.arange(0, 50000, 20000))\n",
    "for t in ax.get_xticklabels():\n",
    "    t.set_visible(False)\n",
    "for t in ax.get_yticklabels():\n",
    "    t.set_visible(False)\n",
    "fig.tight_layout()\n",
    "fig.savefig('Peak_size_unlabelled.svg')\n",
    "fig.savefig('Peak_size_unlabelled.png', dpi=200)"
   ]
  },
  {
   "cell_type": "code",
   "execution_count": null,
   "metadata": {},
   "outputs": [],
   "source": []
  },
  {
   "cell_type": "code",
   "execution_count": null,
   "metadata": {},
   "outputs": [],
   "source": []
  },
  {
   "cell_type": "markdown",
   "metadata": {},
   "source": [
    "# Overlap with gene file"
   ]
  },
  {
   "cell_type": "code",
   "execution_count": 40,
   "metadata": {},
   "outputs": [
    {
     "name": "stdout",
     "output_type": "stream",
     "text": [
      "mkdir: ../../peak_calls/combined_bam_peaks/gene_overlap: File exists\r\n"
     ]
    }
   ],
   "source": [
    "!mkdir ../../peak_calls/combined_bam_peaks/gene_overlap"
   ]
  },
  {
   "cell_type": "code",
   "execution_count": 41,
   "metadata": {},
   "outputs": [
    {
     "name": "stdout",
     "output_type": "stream",
     "text": [
      "chr1\t100012840\t100014213\t.\t.\t+\r\n",
      "chr1\t100019476\t100022850\t.\t.\t+\r\n",
      "chr1\t100033590\t100040859\t.\t.\t+\r\n",
      "chr1\t100139451\t100152201\t.\t.\t+\r\n",
      "chr1\t100187056\t100195372\t.\t.\t-\r\n",
      "chr1\t100278113\t100279378\t.\t.\t+\r\n",
      "chr1\t100280521\t100280995\t.\t.\t+\r\n",
      "chr1\t100298480\t100299137\t.\t.\t+\r\n",
      "chr1\t100878009\t100890977\t.\t.\t-\r\n",
      "chr1\t100892070\t100894766\t.\t.\t-\r\n"
     ]
    }
   ],
   "source": [
    "!head ../../peak_calls/combined_bam_peaks/gl3_broad_annotated.bed"
   ]
  },
  {
   "cell_type": "code",
   "execution_count": 42,
   "metadata": {},
   "outputs": [],
   "source": [
    "!bedtools slop -b 500 -g ../../hg38.chrom.sizes -i /Volumes/Pegasus/shared_files/bed_files/hg38/hg38_cannonical.bed > /Volumes/Pegasus/shared_files/bed_files/hg38/hg38_cannonical_expanded.bed \n",
    "!bedtools intersect -wao -b /Volumes/Pegasus/shared_files/bed_files/hg38/hg38_cannonical_expanded.bed -a ../../peak_calls/combined_bam_peaks/gl3_broad_annotated_nofilter_strand_bias.bed > ../../peak_calls/combined_bam_peaks/gene_overlap/gl3_ovelap.tsv"
   ]
  },
  {
   "cell_type": "code",
   "execution_count": 43,
   "metadata": {},
   "outputs": [
    {
     "name": "stdout",
     "output_type": "stream",
     "text": [
      "chr1\t999593\t1000012\t.\t.\t-\tchr1\t998463\t1000611\tENST00000304952.10\t419\r\n",
      "chr1\t1329697\t1330567\t.\t.\t-\t.\t-1\t-1\t.\t0\r\n",
      "chr1\t1330839\t1336441\t.\t.\t-\tchr1\t1330813\t1335806\tENST00000339381.5\t4967\r\n",
      "chr1\t1330839\t1336441\t.\t.\t-\tchr1\t1334775\t1349612\tENST00000378891.9\t1666\r\n",
      "chr1\t1495885\t1496644\t.\t.\t+\tchr1\t1471268\t1496702\tENST00000308647.7\t759\r\n",
      "chr1\t1889699\t1891063\t.\t.\t-\tchr1\t1890970\t1893158\tENST00000412228.1\t93\r\n",
      "chr1\t1889699\t1891063\t.\t.\t-\tchr1\t1784784\t1891617\tENST00000610897.4\t1364\r\n",
      "chr1\t2185988\t2188552\t.\t.\t-\t.\t-1\t-1\t.\t0\r\n",
      "chr1\t2228718\t2232166\t.\t.\t+\tchr1\t2228194\t2310619\tENST00000378536.4\t3448\r\n",
      "chr1\t2375912\t2388528\t.\t.\t-\tchr1\t2320752\t2392207\tENST00000378531.7\t12616\r\n"
     ]
    }
   ],
   "source": [
    "!head ../../peak_calls/final_peaks/gene_overlap/gl3_ovelap.tsv"
   ]
  },
  {
   "cell_type": "code",
   "execution_count": 70,
   "metadata": {},
   "outputs": [],
   "source": [
    "overlaps = pd.read_csv('../../peak_calls/combined_bam_peaks/gene_overlap/gl3_ovelap.tsv', \n",
    "                       names = 'chr start end name value strand gene_chr gene_start gene_end transcript_id overlap'.split(),\n",
    "                       usecols = 'chr start end strand transcript_id'.split(), sep='\\t'\n",
    "                      )\n",
    "\n",
    "gene_data = pd.read_csv('/Volumes/Pegasus/shared_files/bed_files/hg38/hg38_GENCODE_v29.tsv', sep='\\t',\n",
    "                        names = 'transcript_id chr strand start end'.split(), usecols = 'transcript_id chr strand start end'.split(),\n",
    "                        skiprows =1\n",
    "                       )\n",
    "overlaps = overlaps.merge(gene_data, on = 'transcript_id', suffixes=['', '_gene'], how = 'left')"
   ]
  },
  {
   "cell_type": "code",
   "execution_count": 71,
   "metadata": {},
   "outputs": [],
   "source": [
    "overlaps['min_dist_to_start'] = (overlaps[['start', 'end']].subtract(overlaps.start_gene, axis=0)).abs().min(axis=1)\n",
    "overlaps['min_dist_to_end'] = (overlaps[['start', 'end']].subtract(overlaps.end_gene, axis=0)).abs().min(axis=1)"
   ]
  },
  {
   "cell_type": "code",
   "execution_count": 72,
   "metadata": {},
   "outputs": [],
   "source": [
    "# Calculate min distance from the ends of each interval to the promoter or terminator of its overlapping gene\n",
    "overlaps['min_dist_to_prom'] = np.nan\n",
    "overlaps['min_dist_to_term'] = np.nan\n",
    "\n",
    "overlaps.loc[overlaps.strand_gene == '+', 'min_dist_to_prom'] = overlaps.loc[overlaps.strand_gene == '+', 'min_dist_to_start']\n",
    "overlaps.loc[overlaps.strand_gene == '+', 'min_dist_to_term'] = overlaps.loc[overlaps.strand_gene == '+', 'min_dist_to_end']\n",
    "\n",
    "overlaps.loc[overlaps.strand_gene == '-', 'min_dist_to_prom'] = overlaps.loc[overlaps.strand_gene == '-', 'min_dist_to_end']\n",
    "overlaps.loc[overlaps.strand_gene == '-', 'min_dist_to_term'] = overlaps.loc[overlaps.strand_gene == '-', 'min_dist_to_start']"
   ]
  },
  {
   "cell_type": "code",
   "execution_count": 73,
   "metadata": {},
   "outputs": [],
   "source": [
    "# If the region overlaps the promoter or terminator, set the min distance to 0\n",
    "overlaps.loc[(overlaps.strand_gene == '+') & \n",
    "             (overlaps.start < overlaps.start_gene) & \n",
    "             (overlaps.end > overlaps.start_gene), 'min_dist_to_prom'] = 0\n",
    "\n",
    "overlaps.loc[(overlaps.strand_gene == '-') & \n",
    "             (overlaps.start < overlaps.end_gene) & \n",
    "             (overlaps.end > overlaps.end_gene), 'min_dist_to_prom'] = 0\n",
    "\n",
    "overlaps.loc[(overlaps.strand_gene == '-') & \n",
    "             (overlaps.start < overlaps.start_gene) & \n",
    "             (overlaps.end > overlaps.start_gene), 'min_dist_to_term'] = 0\n",
    "\n",
    "overlaps.loc[(overlaps.strand_gene == '+') & \n",
    "             (overlaps.start < overlaps.end_gene) & \n",
    "             (overlaps.end > overlaps.end_gene), 'min_dist_to_term'] = 0"
   ]
  },
  {
   "cell_type": "code",
   "execution_count": 74,
   "metadata": {},
   "outputs": [],
   "source": [
    "overlaps['ucsc_name'] = ucsc_index(overlaps)"
   ]
  },
  {
   "cell_type": "code",
   "execution_count": 75,
   "metadata": {},
   "outputs": [],
   "source": [
    "distances_to_ends = (overlaps\n",
    "                     .groupby('ucsc_name')\n",
    "                     [['min_dist_to_term', 'min_dist_to_prom']]\n",
    "                     .min())"
   ]
  },
  {
   "cell_type": "code",
   "execution_count": 76,
   "metadata": {},
   "outputs": [],
   "source": [
    "terminator_dist = 3000\n",
    "promoter_dist = 3000\n",
    "\n",
    "annotations = {}\n",
    "annotations['promoter_alone'] = set(distances_to_ends[((distances_to_ends.min_dist_to_term > terminator_dist) & \n",
    "                                                   (distances_to_ends.min_dist_to_prom <= promoter_dist))].index)\n",
    "annotations['terminator_alone'] = set(distances_to_ends[((distances_to_ends.min_dist_to_term <= terminator_dist) & \n",
    "                                                     (distances_to_ends.min_dist_to_prom > promoter_dist))].index)\n",
    "annotations['gene_body'] = set(distances_to_ends[((distances_to_ends.min_dist_to_term > terminator_dist) & \n",
    "                                              (distances_to_ends.min_dist_to_prom > promoter_dist))].index)\n",
    "annotations['promoter_and_terminator'] = set(distances_to_ends[((distances_to_ends.min_dist_to_term <= terminator_dist) & \n",
    "                                                            (distances_to_ends.min_dist_to_prom <= promoter_dist))].index)\n",
    "annotations['intergenic'] = set(overlaps[overlaps.chr_gene.isnull()].ucsc_name)\n"
   ]
  },
  {
   "cell_type": "code",
   "execution_count": 77,
   "metadata": {},
   "outputs": [],
   "source": [
    "peak_percents = {k:len(v)/sum(len(i) for i in annotations.values()) for k, v in annotations.items()}"
   ]
  },
  {
   "cell_type": "code",
   "execution_count": 78,
   "metadata": {},
   "outputs": [],
   "source": [
    "total_bases_hg38 = 3209286105\n",
    "bases_per_region = {\n",
    "    'promoter_alone': 337026562 - 179514614,\n",
    "    'terminator_alone': 337026562 - 179514614,\n",
    "    'promoter_and_terminator': 179514614,\n",
    "    'gene_body': 1406465624\n",
    "}\n",
    "genome_percents = {k: v/total_bases_hg38 for k,v in bases_per_region.items()}\n",
    "genome_percents['intergenic'] = 1 - sum(genome_percents.values())"
   ]
  },
  {
   "cell_type": "code",
   "execution_count": 104,
   "metadata": {},
   "outputs": [
    {
     "data": {
      "text/plain": [
       "1308281971.0"
      ]
     },
     "execution_count": 104,
     "metadata": {},
     "output_type": "execute_result"
    }
   ],
   "source": [
    "genome_percents['intergenic'] * total_bases_hg38"
   ]
  },
  {
   "cell_type": "code",
   "execution_count": 105,
   "metadata": {},
   "outputs": [
    {
     "data": {
      "text/plain": [
       "1901004134"
      ]
     },
     "execution_count": 105,
     "metadata": {},
     "output_type": "execute_result"
    }
   ],
   "source": [
    "sum(bases_per_region.values())"
   ]
  },
  {
   "cell_type": "code",
   "execution_count": 79,
   "metadata": {},
   "outputs": [],
   "source": [
    "n_peaks = {k: len(v) for k,v in annotations.items()}"
   ]
  },
  {
   "cell_type": "code",
   "execution_count": 80,
   "metadata": {},
   "outputs": [
    {
     "data": {
      "text/plain": [
       "{'gene_body': 11541,\n",
       " 'intergenic': 1409,\n",
       " 'promoter_alone': 1273,\n",
       " 'promoter_and_terminator': 3327,\n",
       " 'terminator_alone': 2362}"
      ]
     },
     "execution_count": 80,
     "metadata": {},
     "output_type": "execute_result"
    }
   ],
   "source": [
    "n_peaks"
   ]
  },
  {
   "cell_type": "code",
   "execution_count": 81,
   "metadata": {},
   "outputs": [],
   "source": [
    "expected = {k: int(np.round(v * sum(n_peaks.values()))) for k, v in genome_percents.items()}"
   ]
  },
  {
   "cell_type": "code",
   "execution_count": 82,
   "metadata": {},
   "outputs": [
    {
     "data": {
      "text/plain": [
       "(gene_body                  11541\n",
       " intergenic                  1409\n",
       " promoter_alone              1273\n",
       " promoter_and_terminator     3327\n",
       " terminator_alone            2362\n",
       " dtype: int64, gene_body                  8726\n",
       " intergenic                 8117\n",
       " promoter_alone              977\n",
       " promoter_and_terminator    1114\n",
       " terminator_alone            977\n",
       " dtype: int64)"
      ]
     },
     "execution_count": 82,
     "metadata": {},
     "output_type": "execute_result"
    }
   ],
   "source": [
    "pd.Series(n_peaks), pd.Series(expected)"
   ]
  },
  {
   "cell_type": "code",
   "execution_count": 83,
   "metadata": {
    "scrolled": true
   },
   "outputs": [
    {
     "data": {
      "text/plain": [
       "'\\nI went through some pains to get an actual p-value here, as it\\'s \\nclearly something so low that Python reduces it to numerical error.\\nUsing Wolfram Alpha, I calculated an \"exact\" value with the following query:\\nhttps://www.wolframalpha.com/input/?i=+GammaRegularized%282%2C+12900.96%2F2%29\\nWhich shows a p-value around 2.5e-2798 (that\\'s not a typo)\\n'"
      ]
     },
     "execution_count": 83,
     "metadata": {},
     "output_type": "execute_result"
    }
   ],
   "source": [
    "stats.chisquare(f_obs=pd.Series(n_peaks), f_exp=pd.Series(expected))\n",
    "\"\"\"\n",
    "I went through some pains to get an actual p-value here, as it's \n",
    "clearly something so low that Python reduces it to numerical error.\n",
    "Using Wolfram Alpha, I calculated an \"exact\" value with the following query:\n",
    "https://www.wolframalpha.com/input/?i=+GammaRegularized%282%2C+12900.96%2F2%29\n",
    "Which shows a p-value around 2.5e-2798 (that's not a typo)\n",
    "\"\"\""
   ]
  },
  {
   "cell_type": "code",
   "execution_count": 84,
   "metadata": {},
   "outputs": [],
   "source": [
    "percent_data = (pd.DataFrame({\n",
    "    'Genome': genome_percents,\n",
    "    'Peaks': peak_percents\n",
    "})\n",
    "    .reset_index()\n",
    "    .melt(id_vars = 'index')\n",
    "    .rename(columns = {'index': 'Region',\n",
    "                       'variable': 'Type',\n",
    "                       'value': 'Percent of regions'\n",
    "                      }))\n",
    "                      "
   ]
  },
  {
   "cell_type": "code",
   "execution_count": 85,
   "metadata": {},
   "outputs": [
    {
     "data": {
      "text/html": [
       "<div>\n",
       "<style scoped>\n",
       "    .dataframe tbody tr th:only-of-type {\n",
       "        vertical-align: middle;\n",
       "    }\n",
       "\n",
       "    .dataframe tbody tr th {\n",
       "        vertical-align: top;\n",
       "    }\n",
       "\n",
       "    .dataframe thead th {\n",
       "        text-align: right;\n",
       "    }\n",
       "</style>\n",
       "<table border=\"1\" class=\"dataframe\">\n",
       "  <thead>\n",
       "    <tr style=\"text-align: right;\">\n",
       "      <th></th>\n",
       "      <th>Region</th>\n",
       "      <th>Type</th>\n",
       "      <th>Percent of regions</th>\n",
       "    </tr>\n",
       "  </thead>\n",
       "  <tbody>\n",
       "    <tr>\n",
       "      <th>0</th>\n",
       "      <td>gene_body</td>\n",
       "      <td>Genome</td>\n",
       "      <td>0.438249</td>\n",
       "    </tr>\n",
       "    <tr>\n",
       "      <th>1</th>\n",
       "      <td>intergenic</td>\n",
       "      <td>Genome</td>\n",
       "      <td>0.407655</td>\n",
       "    </tr>\n",
       "    <tr>\n",
       "      <th>2</th>\n",
       "      <td>promoter_alone</td>\n",
       "      <td>Genome</td>\n",
       "      <td>0.049080</td>\n",
       "    </tr>\n",
       "    <tr>\n",
       "      <th>3</th>\n",
       "      <td>promoter_and_terminator</td>\n",
       "      <td>Genome</td>\n",
       "      <td>0.055936</td>\n",
       "    </tr>\n",
       "    <tr>\n",
       "      <th>4</th>\n",
       "      <td>terminator_alone</td>\n",
       "      <td>Genome</td>\n",
       "      <td>0.049080</td>\n",
       "    </tr>\n",
       "    <tr>\n",
       "      <th>5</th>\n",
       "      <td>gene_body</td>\n",
       "      <td>Peaks</td>\n",
       "      <td>0.579600</td>\n",
       "    </tr>\n",
       "    <tr>\n",
       "      <th>6</th>\n",
       "      <td>intergenic</td>\n",
       "      <td>Peaks</td>\n",
       "      <td>0.070761</td>\n",
       "    </tr>\n",
       "    <tr>\n",
       "      <th>7</th>\n",
       "      <td>promoter_alone</td>\n",
       "      <td>Peaks</td>\n",
       "      <td>0.063931</td>\n",
       "    </tr>\n",
       "    <tr>\n",
       "      <th>8</th>\n",
       "      <td>promoter_and_terminator</td>\n",
       "      <td>Peaks</td>\n",
       "      <td>0.167085</td>\n",
       "    </tr>\n",
       "    <tr>\n",
       "      <th>9</th>\n",
       "      <td>terminator_alone</td>\n",
       "      <td>Peaks</td>\n",
       "      <td>0.118622</td>\n",
       "    </tr>\n",
       "  </tbody>\n",
       "</table>\n",
       "</div>"
      ],
      "text/plain": [
       "                    Region    Type  Percent of regions\n",
       "0                gene_body  Genome            0.438249\n",
       "1               intergenic  Genome            0.407655\n",
       "2           promoter_alone  Genome            0.049080\n",
       "3  promoter_and_terminator  Genome            0.055936\n",
       "4         terminator_alone  Genome            0.049080\n",
       "5                gene_body   Peaks            0.579600\n",
       "6               intergenic   Peaks            0.070761\n",
       "7           promoter_alone   Peaks            0.063931\n",
       "8  promoter_and_terminator   Peaks            0.167085\n",
       "9         terminator_alone   Peaks            0.118622"
      ]
     },
     "execution_count": 85,
     "metadata": {},
     "output_type": "execute_result"
    }
   ],
   "source": [
    "percent_data"
   ]
  },
  {
   "cell_type": "code",
   "execution_count": 86,
   "metadata": {},
   "outputs": [
    {
     "data": {
      "text/html": [
       "<div>\n",
       "<style scoped>\n",
       "    .dataframe tbody tr th:only-of-type {\n",
       "        vertical-align: middle;\n",
       "    }\n",
       "\n",
       "    .dataframe tbody tr th {\n",
       "        vertical-align: top;\n",
       "    }\n",
       "\n",
       "    .dataframe thead th {\n",
       "        text-align: right;\n",
       "    }\n",
       "</style>\n",
       "<table border=\"1\" class=\"dataframe\">\n",
       "  <thead>\n",
       "    <tr style=\"text-align: right;\">\n",
       "      <th></th>\n",
       "      <th>Region</th>\n",
       "      <th>Type</th>\n",
       "      <th>Percent of regions</th>\n",
       "    </tr>\n",
       "  </thead>\n",
       "  <tbody>\n",
       "    <tr>\n",
       "      <th>0</th>\n",
       "      <td>gene_body</td>\n",
       "      <td>Genome</td>\n",
       "      <td>0.438249</td>\n",
       "    </tr>\n",
       "    <tr>\n",
       "      <th>1</th>\n",
       "      <td>intergenic</td>\n",
       "      <td>Genome</td>\n",
       "      <td>0.407655</td>\n",
       "    </tr>\n",
       "    <tr>\n",
       "      <th>2</th>\n",
       "      <td>promoter_alone</td>\n",
       "      <td>Genome</td>\n",
       "      <td>0.049080</td>\n",
       "    </tr>\n",
       "    <tr>\n",
       "      <th>3</th>\n",
       "      <td>promoter_and_terminator</td>\n",
       "      <td>Genome</td>\n",
       "      <td>0.055936</td>\n",
       "    </tr>\n",
       "    <tr>\n",
       "      <th>4</th>\n",
       "      <td>terminator_alone</td>\n",
       "      <td>Genome</td>\n",
       "      <td>0.049080</td>\n",
       "    </tr>\n",
       "    <tr>\n",
       "      <th>5</th>\n",
       "      <td>gene_body</td>\n",
       "      <td>Peaks</td>\n",
       "      <td>0.579600</td>\n",
       "    </tr>\n",
       "    <tr>\n",
       "      <th>6</th>\n",
       "      <td>intergenic</td>\n",
       "      <td>Peaks</td>\n",
       "      <td>0.070761</td>\n",
       "    </tr>\n",
       "    <tr>\n",
       "      <th>7</th>\n",
       "      <td>promoter_alone</td>\n",
       "      <td>Peaks</td>\n",
       "      <td>0.063931</td>\n",
       "    </tr>\n",
       "    <tr>\n",
       "      <th>8</th>\n",
       "      <td>promoter_and_terminator</td>\n",
       "      <td>Peaks</td>\n",
       "      <td>0.167085</td>\n",
       "    </tr>\n",
       "    <tr>\n",
       "      <th>9</th>\n",
       "      <td>terminator_alone</td>\n",
       "      <td>Peaks</td>\n",
       "      <td>0.118622</td>\n",
       "    </tr>\n",
       "  </tbody>\n",
       "</table>\n",
       "</div>"
      ],
      "text/plain": [
       "                    Region    Type  Percent of regions\n",
       "0                gene_body  Genome            0.438249\n",
       "1               intergenic  Genome            0.407655\n",
       "2           promoter_alone  Genome            0.049080\n",
       "3  promoter_and_terminator  Genome            0.055936\n",
       "4         terminator_alone  Genome            0.049080\n",
       "5                gene_body   Peaks            0.579600\n",
       "6               intergenic   Peaks            0.070761\n",
       "7           promoter_alone   Peaks            0.063931\n",
       "8  promoter_and_terminator   Peaks            0.167085\n",
       "9         terminator_alone   Peaks            0.118622"
      ]
     },
     "execution_count": 86,
     "metadata": {},
     "output_type": "execute_result"
    }
   ],
   "source": [
    "percent_data"
   ]
  },
  {
   "cell_type": "code",
   "execution_count": 87,
   "metadata": {
    "scrolled": true
   },
   "outputs": [
    {
     "data": {
      "text/html": [
       "<div>\n",
       "<style scoped>\n",
       "    .dataframe tbody tr th:only-of-type {\n",
       "        vertical-align: middle;\n",
       "    }\n",
       "\n",
       "    .dataframe tbody tr th {\n",
       "        vertical-align: top;\n",
       "    }\n",
       "\n",
       "    .dataframe thead th {\n",
       "        text-align: right;\n",
       "    }\n",
       "</style>\n",
       "<table border=\"1\" class=\"dataframe\">\n",
       "  <thead>\n",
       "    <tr style=\"text-align: right;\">\n",
       "      <th></th>\n",
       "      <th>Region</th>\n",
       "      <th>Type</th>\n",
       "      <th>Percent of regions</th>\n",
       "    </tr>\n",
       "  </thead>\n",
       "  <tbody>\n",
       "    <tr>\n",
       "      <th>0</th>\n",
       "      <td>gene_body</td>\n",
       "      <td>Genome</td>\n",
       "      <td>0.438249</td>\n",
       "    </tr>\n",
       "    <tr>\n",
       "      <th>1</th>\n",
       "      <td>intergenic</td>\n",
       "      <td>Genome</td>\n",
       "      <td>0.407655</td>\n",
       "    </tr>\n",
       "    <tr>\n",
       "      <th>2</th>\n",
       "      <td>promoter_alone</td>\n",
       "      <td>Genome</td>\n",
       "      <td>0.049080</td>\n",
       "    </tr>\n",
       "    <tr>\n",
       "      <th>3</th>\n",
       "      <td>promoter_and_terminator</td>\n",
       "      <td>Genome</td>\n",
       "      <td>0.055936</td>\n",
       "    </tr>\n",
       "    <tr>\n",
       "      <th>4</th>\n",
       "      <td>terminator_alone</td>\n",
       "      <td>Genome</td>\n",
       "      <td>0.049080</td>\n",
       "    </tr>\n",
       "    <tr>\n",
       "      <th>5</th>\n",
       "      <td>gene_body</td>\n",
       "      <td>Peaks</td>\n",
       "      <td>0.579600</td>\n",
       "    </tr>\n",
       "    <tr>\n",
       "      <th>6</th>\n",
       "      <td>intergenic</td>\n",
       "      <td>Peaks</td>\n",
       "      <td>0.070761</td>\n",
       "    </tr>\n",
       "    <tr>\n",
       "      <th>7</th>\n",
       "      <td>promoter_alone</td>\n",
       "      <td>Peaks</td>\n",
       "      <td>0.063931</td>\n",
       "    </tr>\n",
       "    <tr>\n",
       "      <th>8</th>\n",
       "      <td>promoter_and_terminator</td>\n",
       "      <td>Peaks</td>\n",
       "      <td>0.167085</td>\n",
       "    </tr>\n",
       "    <tr>\n",
       "      <th>9</th>\n",
       "      <td>terminator_alone</td>\n",
       "      <td>Peaks</td>\n",
       "      <td>0.118622</td>\n",
       "    </tr>\n",
       "  </tbody>\n",
       "</table>\n",
       "</div>"
      ],
      "text/plain": [
       "                    Region    Type  Percent of regions\n",
       "0                gene_body  Genome            0.438249\n",
       "1               intergenic  Genome            0.407655\n",
       "2           promoter_alone  Genome            0.049080\n",
       "3  promoter_and_terminator  Genome            0.055936\n",
       "4         terminator_alone  Genome            0.049080\n",
       "5                gene_body   Peaks            0.579600\n",
       "6               intergenic   Peaks            0.070761\n",
       "7           promoter_alone   Peaks            0.063931\n",
       "8  promoter_and_terminator   Peaks            0.167085\n",
       "9         terminator_alone   Peaks            0.118622"
      ]
     },
     "execution_count": 87,
     "metadata": {},
     "output_type": "execute_result"
    }
   ],
   "source": [
    "percent_data"
   ]
  },
  {
   "cell_type": "code",
   "execution_count": 88,
   "metadata": {},
   "outputs": [
    {
     "data": {
      "image/png": "[encoded data removed]",
      "text/plain": [
       "<matplotlib.figure.Figure at 0x1a13e10dd8>"
      ]
     },
     "metadata": {},
     "output_type": "display_data"
    }
   ],
   "source": [
    "fig, ax = plt.subplots(figsize=(4,2))\n",
    "sns.barplot(\n",
    "     y = 'Region',\n",
    "     hue = 'Type',\n",
    "     order = ['intergenic', 'gene_body', 'promoter_alone', 'terminator_alone', 'promoter_and_terminator'],\n",
    "     x = 'Percent of regions',\n",
    "     data = percent_data)\n",
    "ax.set_xlabel('Fraction of regions')\n",
    "ax.set_ylabel('')\n",
    "ticks = ax.xaxis.get_ticklabels()\n",
    "for t in ticks:\n",
    "    t.set_rotation(45)\n",
    "fig.savefig('peak_locations.svg')"
   ]
  },
  {
   "cell_type": "code",
   "execution_count": 89,
   "metadata": {},
   "outputs": [],
   "source": [
    "genes = pd.read_csv('/Volumes/Pegasus/shared_files/bed_files/hg38/hg38_cannonical.bed',\n",
    "                    names = ('chr', 'start', 'end', 'name'), sep = '\\t'\n",
    "                   )"
   ]
  },
  {
   "cell_type": "code",
   "execution_count": 90,
   "metadata": {},
   "outputs": [
    {
     "data": {
      "text/html": [
       "<div>\n",
       "<style scoped>\n",
       "    .dataframe tbody tr th:only-of-type {\n",
       "        vertical-align: middle;\n",
       "    }\n",
       "\n",
       "    .dataframe tbody tr th {\n",
       "        vertical-align: top;\n",
       "    }\n",
       "\n",
       "    .dataframe thead th {\n",
       "        text-align: right;\n",
       "    }\n",
       "</style>\n",
       "<table border=\"1\" class=\"dataframe\">\n",
       "  <thead>\n",
       "    <tr style=\"text-align: right;\">\n",
       "      <th></th>\n",
       "      <th>chr</th>\n",
       "      <th>start</th>\n",
       "      <th>end</th>\n",
       "      <th>name</th>\n",
       "    </tr>\n",
       "  </thead>\n",
       "  <tbody>\n",
       "    <tr>\n",
       "      <th>0</th>\n",
       "      <td>chr1</td>\n",
       "      <td>11868</td>\n",
       "      <td>14409</td>\n",
       "      <td>ENST00000456328.2</td>\n",
       "    </tr>\n",
       "    <tr>\n",
       "      <th>1</th>\n",
       "      <td>chr1</td>\n",
       "      <td>14403</td>\n",
       "      <td>29570</td>\n",
       "      <td>ENST00000488147.1</td>\n",
       "    </tr>\n",
       "    <tr>\n",
       "      <th>2</th>\n",
       "      <td>chr1</td>\n",
       "      <td>17368</td>\n",
       "      <td>17436</td>\n",
       "      <td>ENST00000619216.1</td>\n",
       "    </tr>\n",
       "    <tr>\n",
       "      <th>3</th>\n",
       "      <td>chr1</td>\n",
       "      <td>29553</td>\n",
       "      <td>31097</td>\n",
       "      <td>ENST00000473358.1</td>\n",
       "    </tr>\n",
       "    <tr>\n",
       "      <th>4</th>\n",
       "      <td>chr1</td>\n",
       "      <td>30365</td>\n",
       "      <td>30503</td>\n",
       "      <td>ENST00000607096.1</td>\n",
       "    </tr>\n",
       "  </tbody>\n",
       "</table>\n",
       "</div>"
      ],
      "text/plain": [
       "    chr  start    end               name\n",
       "0  chr1  11868  14409  ENST00000456328.2\n",
       "1  chr1  14403  29570  ENST00000488147.1\n",
       "2  chr1  17368  17436  ENST00000619216.1\n",
       "3  chr1  29553  31097  ENST00000473358.1\n",
       "4  chr1  30365  30503  ENST00000607096.1"
      ]
     },
     "execution_count": 90,
     "metadata": {},
     "output_type": "execute_result"
    }
   ],
   "source": [
    "genes.head()"
   ]
  },
  {
   "cell_type": "code",
   "execution_count": 91,
   "metadata": {},
   "outputs": [],
   "source": [
    "genes['length'] = genes.end - genes.start\n",
    "lengths = (genes.length - 7000)\n",
    "lengths[lengths < 0] = 0"
   ]
  },
  {
   "cell_type": "code",
   "execution_count": null,
   "metadata": {},
   "outputs": [],
   "source": []
  },
  {
   "cell_type": "code",
   "execution_count": 61,
   "metadata": {},
   "outputs": [
    {
     "data": {
      "text/plain": [
       "1406465624"
      ]
     },
     "execution_count": 61,
     "metadata": {},
     "output_type": "execute_result"
    }
   ],
   "source": [
    "lengths.sum()"
   ]
  },
  {
   "cell_type": "code",
   "execution_count": 92,
   "metadata": {},
   "outputs": [],
   "source": [
    "overlaps['site_annotation'] = np.nan\n",
    "overlaps.loc[overlaps.ucsc_name.isin(annotations['promoter_alone']), 'site_annotation'] = 'promoter_alone'\n",
    "overlaps.loc[overlaps.ucsc_name.isin(annotations['terminator_alone']), 'site_annotation'] = 'terminator_alone'\n",
    "overlaps.loc[overlaps.ucsc_name.isin(annotations['gene_body']), 'site_annotation'] = 'gene_body'\n",
    "overlaps.loc[overlaps.ucsc_name.isin(annotations['promoter_and_terminator']), 'site_annotation'] = 'promoter_and_terminator'\n",
    "overlaps.loc[overlaps.ucsc_name.isin(annotations['intergenic']), 'site_annotation'] = 'intergenic'\n"
   ]
  },
  {
   "cell_type": "code",
   "execution_count": 93,
   "metadata": {},
   "outputs": [],
   "source": [
    "coords['ucsc'] = ucsc_index(coords)"
   ]
  },
  {
   "cell_type": "code",
   "execution_count": 94,
   "metadata": {},
   "outputs": [],
   "source": [
    "coords['site_annotation'] = np.nan\n",
    "coords.loc[coords.ucsc.isin(annotations['promoter_alone']), 'site_annotation'] = 'promoter_alone'\n",
    "coords.loc[coords.ucsc.isin(annotations['terminator_alone']), 'site_annotation'] = 'terminator_alone'\n",
    "coords.loc[coords.ucsc.isin(annotations['gene_body']), 'site_annotation'] = 'gene_body'\n",
    "coords.loc[coords.ucsc.isin(annotations['promoter_and_terminator']), 'site_annotation'] = 'promoter_and_terminator'\n",
    "coords.loc[coords.ucsc.isin(annotations['intergenic']), 'site_annotation'] = 'intergenic'"
   ]
  },
  {
   "cell_type": "code",
   "execution_count": 65,
   "metadata": {},
   "outputs": [],
   "source": [
    "filtered = coords[(rh_sensitive & has_bias)]"
   ]
  },
  {
   "cell_type": "code",
   "execution_count": 66,
   "metadata": {},
   "outputs": [],
   "source": [
    "filtered.to_csv('../../peak_calls/combined_bam_peaks/gl3_consensus_annotated.tsv')"
   ]
  },
  {
   "cell_type": "markdown",
   "metadata": {},
   "source": [
    "# Redo with full gene set"
   ]
  },
  {
   "cell_type": "code",
   "execution_count": 67,
   "metadata": {},
   "outputs": [],
   "source": [
    "!bedtools intersect -wao -b /Volumes/Pegasus/shared_files/bed_files/hg38/hg38_cannonical_expanded.bed -a ../../peak_calls/combined_bam_peaks/gl3_broad_annotated_all_peaks.bed > ../../peak_calls/combined_bam_peaks/gene_overlap/gl3_overlap_all.tsv\n"
   ]
  },
  {
   "cell_type": "code",
   "execution_count": 95,
   "metadata": {},
   "outputs": [],
   "source": [
    "overlaps_all = pd.read_csv('../../peak_calls/combined_bam_peaks/gene_overlap/gl3_overlap_all.tsv', \n",
    "                           names = 'chr start end name value strand gene_chr gene_start gene_end transcript_id overlap'.split(),\n",
    "                           usecols = 'chr start end strand transcript_id'.split(), sep='\\t'\n",
    "                          )\n",
    "overlaps_all = overlaps_all.merge(gene_data, on = 'transcript_id', suffixes=['', '_gene'], how = 'left')\n"
   ]
  },
  {
   "cell_type": "code",
   "execution_count": 96,
   "metadata": {},
   "outputs": [],
   "source": [
    "\n",
    "overlaps_all['min_dist_to_start'] = (overlaps_all[['start', 'end']].subtract(overlaps_all.start_gene, axis=0)).abs().min(axis=1)\n",
    "overlaps_all['min_dist_to_end'] = (overlaps_all[['start', 'end']].subtract(overlaps_all.end_gene, axis=0)).abs().min(axis=1)\n",
    "\n",
    "# Calculate min distance from the ends of each interval to the promoter or terminator of its overlapping gene\n",
    "overlaps_all['min_dist_to_prom'] = np.nan\n",
    "overlaps_all['min_dist_to_term'] = np.nan\n",
    "\n",
    "overlaps_all.loc[overlaps_all.strand_gene == '+', 'min_dist_to_prom'] = overlaps_all.loc[overlaps_all.strand_gene == '+', 'min_dist_to_start']\n",
    "overlaps_all.loc[overlaps_all.strand_gene == '+', 'min_dist_to_term'] = overlaps_all.loc[overlaps_all.strand_gene == '+', 'min_dist_to_end']\n",
    "\n",
    "overlaps_all.loc[overlaps_all.strand_gene == '-', 'min_dist_to_prom'] = overlaps_all.loc[overlaps_all.strand_gene == '-', 'min_dist_to_end']\n",
    "overlaps_all.loc[overlaps_all.strand_gene == '-', 'min_dist_to_term'] = overlaps_all.loc[overlaps_all.strand_gene == '-', 'min_dist_to_start']\n",
    "\n",
    "# If the region overlaps_all the promoter or terminator, set the min distance to 0\n",
    "overlaps_all.loc[(overlaps_all.strand_gene == '+') & \n",
    "             (overlaps_all.start < overlaps_all.start_gene) & \n",
    "             (overlaps_all.end > overlaps_all.start_gene), 'min_dist_to_prom'] = 0\n",
    "\n",
    "overlaps_all.loc[(overlaps_all.strand_gene == '-') & \n",
    "             (overlaps_all.start < overlaps_all.end_gene) & \n",
    "             (overlaps_all.end > overlaps_all.end_gene), 'min_dist_to_prom'] = 0\n",
    "\n",
    "overlaps_all.loc[(overlaps_all.strand_gene == '-') & \n",
    "             (overlaps_all.start < overlaps_all.start_gene) & \n",
    "             (overlaps_all.end > overlaps_all.start_gene), 'min_dist_to_term'] = 0\n",
    "\n",
    "overlaps_all.loc[(overlaps_all.strand_gene == '+') & \n",
    "             (overlaps_all.start < overlaps_all.end_gene) & \n",
    "             (overlaps_all.end > overlaps_all.end_gene), 'min_dist_to_term'] = 0\n",
    "\n",
    "overlaps_all['ucsc_name'] = ucsc_index(overlaps_all)\n",
    "\n",
    "distances_to_ends = (overlaps_all\n",
    "                     .groupby('ucsc_name')\n",
    "                     [['min_dist_to_term', 'min_dist_to_prom']]\n",
    "                     .min())\n",
    "\n",
    "terminator_dist = 3000\n",
    "promoter_dist = 3000\n",
    "\n",
    "annotations_all = {}\n",
    "annotations_all['promoter_alone'] = set(distances_to_ends[((distances_to_ends.min_dist_to_term > terminator_dist) & \n",
    "                                                   (distances_to_ends.min_dist_to_prom <= promoter_dist))].index)\n",
    "annotations_all['terminator_alone'] = set(distances_to_ends[((distances_to_ends.min_dist_to_term <= terminator_dist) & \n",
    "                                                     (distances_to_ends.min_dist_to_prom > promoter_dist))].index)\n",
    "annotations_all['gene_body'] = set(distances_to_ends[((distances_to_ends.min_dist_to_term > terminator_dist) & \n",
    "                                              (distances_to_ends.min_dist_to_prom > promoter_dist))].index)\n",
    "annotations_all['promoter_and_terminator'] = set(distances_to_ends[((distances_to_ends.min_dist_to_term <= terminator_dist) & \n",
    "                                                            (distances_to_ends.min_dist_to_prom <= promoter_dist))].index)\n",
    "annotations_all['intergenic'] = set(overlaps_all[overlaps_all.chr_gene.isnull()].ucsc_name)"
   ]
  },
  {
   "cell_type": "code",
   "execution_count": 101,
   "metadata": {},
   "outputs": [
    {
     "data": {
      "text/plain": [
       "15228779"
      ]
     },
     "execution_count": 101,
     "metadata": {},
     "output_type": "execute_result"
    }
   ],
   "source": [
    "(overlaps_all[overlaps_all.chr_gene.isnull()].end - overlaps_all[overlaps_all.chr_gene.isnull()].start).sum()"
   ]
  },
  {
   "cell_type": "code",
   "execution_count": 102,
   "metadata": {},
   "outputs": [
    {
     "data": {
      "text/plain": [
       "15.228779"
      ]
     },
     "execution_count": 102,
     "metadata": {},
     "output_type": "execute_result"
    }
   ],
   "source": [
    "15228779 / 1e6"
   ]
  },
  {
   "cell_type": "code",
   "execution_count": 97,
   "metadata": {},
   "outputs": [],
   "source": [
    "peak_percents_all = {k:len(v)/sum(len(i) for i in annotations_all.values()) for k, v in annotations_all.items()}"
   ]
  },
  {
   "cell_type": "code",
   "execution_count": 98,
   "metadata": {},
   "outputs": [],
   "source": [
    "percent_data_all = (pd.DataFrame({\n",
    "    'Genome': genome_percents,\n",
    "    'Peaks': peak_percents_all\n",
    "})\n",
    "    .reset_index()\n",
    "    .melt(id_vars = 'index')\n",
    "    .rename(columns = {'index': 'Region',\n",
    "                       'variable': 'Type',\n",
    "                       'value': 'Percent of regions'\n",
    "                      }))\n",
    "                      "
   ]
  },
  {
   "cell_type": "code",
   "execution_count": 99,
   "metadata": {},
   "outputs": [
    {
     "data": {
      "image/png": "[encoded data removed]",
      "text/plain": [
       "<matplotlib.figure.Figure at 0x1a143410f0>"
      ]
     },
     "metadata": {},
     "output_type": "display_data"
    }
   ],
   "source": [
    "fig, ax = plt.subplots(figsize=(4,2))\n",
    "sns.barplot(\n",
    "     y = 'Region',\n",
    "     hue = 'Type',\n",
    "     order = ['intergenic', 'gene_body', 'promoter_alone', 'terminator_alone', 'promoter_and_terminator'],\n",
    "     x = 'Percent of regions',\n",
    "     data = percent_data_all)\n",
    "ax.set_xlabel('Fraction of regions')\n",
    "ax.set_ylabel('')\n",
    "ticks = ax.xaxis.get_ticklabels()\n",
    "for t in ticks:\n",
    "    t.set_rotation(45)"
   ]
  },
  {
   "cell_type": "code",
   "execution_count": 71,
   "metadata": {},
   "outputs": [
    {
     "data": {
      "text/html": [
       "<div>\n",
       "<style scoped>\n",
       "    .dataframe tbody tr th:only-of-type {\n",
       "        vertical-align: middle;\n",
       "    }\n",
       "\n",
       "    .dataframe tbody tr th {\n",
       "        vertical-align: top;\n",
       "    }\n",
       "\n",
       "    .dataframe thead th {\n",
       "        text-align: right;\n",
       "    }\n",
       "</style>\n",
       "<table border=\"1\" class=\"dataframe\">\n",
       "  <thead>\n",
       "    <tr style=\"text-align: right;\">\n",
       "      <th></th>\n",
       "      <th>Region</th>\n",
       "      <th>Type</th>\n",
       "      <th>Percent of regions</th>\n",
       "    </tr>\n",
       "  </thead>\n",
       "  <tbody>\n",
       "    <tr>\n",
       "      <th>0</th>\n",
       "      <td>gene_body</td>\n",
       "      <td>Genome</td>\n",
       "      <td>0.438249</td>\n",
       "    </tr>\n",
       "    <tr>\n",
       "      <th>1</th>\n",
       "      <td>intergenic</td>\n",
       "      <td>Genome</td>\n",
       "      <td>0.407655</td>\n",
       "    </tr>\n",
       "    <tr>\n",
       "      <th>2</th>\n",
       "      <td>promoter_alone</td>\n",
       "      <td>Genome</td>\n",
       "      <td>0.049080</td>\n",
       "    </tr>\n",
       "    <tr>\n",
       "      <th>3</th>\n",
       "      <td>promoter_and_terminator</td>\n",
       "      <td>Genome</td>\n",
       "      <td>0.055936</td>\n",
       "    </tr>\n",
       "    <tr>\n",
       "      <th>4</th>\n",
       "      <td>terminator_alone</td>\n",
       "      <td>Genome</td>\n",
       "      <td>0.049080</td>\n",
       "    </tr>\n",
       "    <tr>\n",
       "      <th>5</th>\n",
       "      <td>gene_body</td>\n",
       "      <td>Peaks</td>\n",
       "      <td>0.567268</td>\n",
       "    </tr>\n",
       "    <tr>\n",
       "      <th>6</th>\n",
       "      <td>intergenic</td>\n",
       "      <td>Peaks</td>\n",
       "      <td>0.068186</td>\n",
       "    </tr>\n",
       "    <tr>\n",
       "      <th>7</th>\n",
       "      <td>promoter_alone</td>\n",
       "      <td>Peaks</td>\n",
       "      <td>0.068127</td>\n",
       "    </tr>\n",
       "    <tr>\n",
       "      <th>8</th>\n",
       "      <td>promoter_and_terminator</td>\n",
       "      <td>Peaks</td>\n",
       "      <td>0.171589</td>\n",
       "    </tr>\n",
       "    <tr>\n",
       "      <th>9</th>\n",
       "      <td>terminator_alone</td>\n",
       "      <td>Peaks</td>\n",
       "      <td>0.124830</td>\n",
       "    </tr>\n",
       "  </tbody>\n",
       "</table>\n",
       "</div>"
      ],
      "text/plain": [
       "                    Region    Type  Percent of regions\n",
       "0                gene_body  Genome            0.438249\n",
       "1               intergenic  Genome            0.407655\n",
       "2           promoter_alone  Genome            0.049080\n",
       "3  promoter_and_terminator  Genome            0.055936\n",
       "4         terminator_alone  Genome            0.049080\n",
       "5                gene_body   Peaks            0.567268\n",
       "6               intergenic   Peaks            0.068186\n",
       "7           promoter_alone   Peaks            0.068127\n",
       "8  promoter_and_terminator   Peaks            0.171589\n",
       "9         terminator_alone   Peaks            0.124830"
      ]
     },
     "execution_count": 71,
     "metadata": {},
     "output_type": "execute_result"
    }
   ],
   "source": [
    "percent_data"
   ]
  },
  {
   "cell_type": "code",
   "execution_count": 72,
   "metadata": {},
   "outputs": [
    {
     "data": {
      "text/html": [
       "<div>\n",
       "<style scoped>\n",
       "    .dataframe tbody tr th:only-of-type {\n",
       "        vertical-align: middle;\n",
       "    }\n",
       "\n",
       "    .dataframe tbody tr th {\n",
       "        vertical-align: top;\n",
       "    }\n",
       "\n",
       "    .dataframe thead th {\n",
       "        text-align: right;\n",
       "    }\n",
       "</style>\n",
       "<table border=\"1\" class=\"dataframe\">\n",
       "  <thead>\n",
       "    <tr style=\"text-align: right;\">\n",
       "      <th></th>\n",
       "      <th>Region</th>\n",
       "      <th>Type</th>\n",
       "      <th>Percent of regions</th>\n",
       "    </tr>\n",
       "  </thead>\n",
       "  <tbody>\n",
       "    <tr>\n",
       "      <th>0</th>\n",
       "      <td>gene_body</td>\n",
       "      <td>Genome</td>\n",
       "      <td>0.438249</td>\n",
       "    </tr>\n",
       "    <tr>\n",
       "      <th>1</th>\n",
       "      <td>intergenic</td>\n",
       "      <td>Genome</td>\n",
       "      <td>0.407655</td>\n",
       "    </tr>\n",
       "    <tr>\n",
       "      <th>2</th>\n",
       "      <td>promoter_alone</td>\n",
       "      <td>Genome</td>\n",
       "      <td>0.049080</td>\n",
       "    </tr>\n",
       "    <tr>\n",
       "      <th>3</th>\n",
       "      <td>promoter_and_terminator</td>\n",
       "      <td>Genome</td>\n",
       "      <td>0.055936</td>\n",
       "    </tr>\n",
       "    <tr>\n",
       "      <th>4</th>\n",
       "      <td>terminator_alone</td>\n",
       "      <td>Genome</td>\n",
       "      <td>0.049080</td>\n",
       "    </tr>\n",
       "    <tr>\n",
       "      <th>5</th>\n",
       "      <td>gene_body</td>\n",
       "      <td>Peaks</td>\n",
       "      <td>0.596360</td>\n",
       "    </tr>\n",
       "    <tr>\n",
       "      <th>6</th>\n",
       "      <td>intergenic</td>\n",
       "      <td>Peaks</td>\n",
       "      <td>0.125570</td>\n",
       "    </tr>\n",
       "    <tr>\n",
       "      <th>7</th>\n",
       "      <td>promoter_alone</td>\n",
       "      <td>Peaks</td>\n",
       "      <td>0.079584</td>\n",
       "    </tr>\n",
       "    <tr>\n",
       "      <th>8</th>\n",
       "      <td>promoter_and_terminator</td>\n",
       "      <td>Peaks</td>\n",
       "      <td>0.117041</td>\n",
       "    </tr>\n",
       "    <tr>\n",
       "      <th>9</th>\n",
       "      <td>terminator_alone</td>\n",
       "      <td>Peaks</td>\n",
       "      <td>0.081445</td>\n",
       "    </tr>\n",
       "  </tbody>\n",
       "</table>\n",
       "</div>"
      ],
      "text/plain": [
       "                    Region    Type  Percent of regions\n",
       "0                gene_body  Genome            0.438249\n",
       "1               intergenic  Genome            0.407655\n",
       "2           promoter_alone  Genome            0.049080\n",
       "3  promoter_and_terminator  Genome            0.055936\n",
       "4         terminator_alone  Genome            0.049080\n",
       "5                gene_body   Peaks            0.596360\n",
       "6               intergenic   Peaks            0.125570\n",
       "7           promoter_alone   Peaks            0.079584\n",
       "8  promoter_and_terminator   Peaks            0.117041\n",
       "9         terminator_alone   Peaks            0.081445"
      ]
     },
     "execution_count": 72,
     "metadata": {},
     "output_type": "execute_result"
    }
   ],
   "source": [
    "percent_data_all"
   ]
  },
  {
   "cell_type": "code",
   "execution_count": 70,
   "metadata": {},
   "outputs": [
    {
     "data": {
      "image/png": "[encoded data removed]",
      "text/plain": [
       "<matplotlib.figure.Figure at 0x111175f28>"
      ]
     },
     "metadata": {},
     "output_type": "display_data"
    }
   ],
   "source": [
    "fig, ax = plt.subplots(figsize=(4,2))\n",
    "sns.barplot(\n",
    "     y = 'Region',\n",
    "     hue = 'Type',\n",
    "     order = ['intergenic', 'gene_body', 'promoter_alone', 'terminator_alone', 'promoter_and_terminator'],\n",
    "     x = 'Percent of regions',\n",
    "     data = percent_data)\n",
    "ax.set_xlabel('Fraction of regions')\n",
    "ax.set_ylabel('')\n",
    "ticks = ax.xaxis.get_ticklabels()\n",
    "for t in ticks:\n",
    "    t.set_rotation(45)\n",
    "fig.savefig('peak_locations.svg')"
   ]
  },
  {
   "cell_type": "code",
   "execution_count": null,
   "metadata": {},
   "outputs": [],
   "source": []
  }
 ],
 "metadata": {
  "kernelspec": {
   "display_name": "Python 3",
   "language": "python",
   "name": "python3"
  },
  "language_info": {
   "codemirror_mode": {
    "name": "ipython",
    "version": 3
   },
   "file_extension": ".py",
   "mimetype": "text/x-python",
   "name": "python",
   "nbconvert_exporter": "python",
   "pygments_lexer": "ipython3",
   "version": "3.6.8"
  }
 },
 "nbformat": 4,
 "nbformat_minor": 2
}
