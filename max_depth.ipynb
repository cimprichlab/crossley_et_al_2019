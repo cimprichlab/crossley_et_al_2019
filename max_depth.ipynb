{
 "cells": [
  {
   "cell_type": "code",
   "execution_count": 1,
   "metadata": {},
   "outputs": [],
   "source": [
    "import glob\n",
    "import re\n",
    "import json \n",
    "import functools\n",
    "\n",
    "import pandas as pd\n",
    "import numpy as np\n",
    "from matplotlib import pyplot as plt\n",
    "import matplotlib as mpl\n",
    "\n",
    "mpl.rc('font', size=12, family='Arial')"
   ]
  },
  {
   "cell_type": "code",
   "execution_count": 2,
   "metadata": {},
   "outputs": [],
   "source": [
    "with open('../../pair_counts.json') as f:\n",
    "    read_pairs = json.load(f)\n",
    "million_mapped = {k: v/2e6 for k, v in read_pairs.items()}"
   ]
  },
  {
   "cell_type": "code",
   "execution_count": 3,
   "metadata": {},
   "outputs": [],
   "source": [
    "with open('../../mean_spikein_counts.json', 'r') as f:\n",
    "    mean_spike_counts = json.load(f)"
   ]
  },
  {
   "cell_type": "code",
   "execution_count": 4,
   "metadata": {},
   "outputs": [],
   "source": [
    "def ucsc_index(df):\n",
    "    return df.chr.str.cat(df.start.astype(str).str.cat(df.end.astype(str).str.cat(df.strand.astype(str), sep=';'), sep='-'), sep=':')\n"
   ]
  },
  {
   "cell_type": "code",
   "execution_count": 5,
   "metadata": {},
   "outputs": [],
   "source": [
    "def get_max_depths(file_path, extension='.cov'):\n",
    "    files = glob.glob(f'{file_path}*{extension}')\n",
    "    data = {\n",
    "    re.findall('([^/]+).([mp]).cov', f)[0]: \n",
    "        pd.read_csv(f, names =('chr', 'start', 'end', 'name', 'value', 'strand', 'max_coverage'), sep='\\t')\n",
    "    for f in files\n",
    "    }\n",
    "    p_data = {\n",
    "    'chr': list(data.values())[0].chr,\n",
    "    'start': list(data.values())[0].start,\n",
    "    'end': list(data.values())[0].end,\n",
    "    'strand': list(data.values())[0].strand\n",
    "    }\n",
    "\n",
    "    m_data = {\n",
    "        'chr': list(data.values())[0].chr,\n",
    "        'start': list(data.values())[0].start,\n",
    "        'end': list(data.values())[0].end,\n",
    "        'strand': list(data.values())[0].strand\n",
    "    }\n",
    "\n",
    "    for sample_name, counts in data.items():\n",
    "        if sample_name[1] == 'p':\n",
    "            p_data[sample_name[0]] = pd.to_numeric(counts['max_coverage'], errors='coerce')\n",
    "        if sample_name[1] == 'm':\n",
    "            m_data[sample_name[0]] = pd.to_numeric(counts['max_coverage'], errors='coerce') \n",
    "    p_data = pd.DataFrame(p_data)\n",
    "    m_data = pd.DataFrame(m_data)\n",
    "    sense = m_data.copy()\n",
    "    sense[sense.strand == '-'] = p_data[sense.strand == '-']\n",
    "    antisense = p_data.copy()\n",
    "    antisense[antisense.strand == '-'] = m_data[antisense.strand == '-']\n",
    "    sense['ucsc_name']= ucsc_index(sense)\n",
    "    antisense['ucsc_name']= ucsc_index(antisense)\n",
    "    return sense, antisense"
   ]
  },
  {
   "cell_type": "code",
   "execution_count": 6,
   "metadata": {},
   "outputs": [],
   "source": [
    "sense, antisense = get_max_depths('../../max_read_depths/gl3_peaks/')\n",
    "sense_genes, antisense_genes = get_max_depths('../../max_read_depths/genes/')"
   ]
  },
  {
   "cell_type": "code",
   "execution_count": 7,
   "metadata": {},
   "outputs": [],
   "source": [
    "common_cols = set(sense.columns) & mean_spike_counts.keys()"
   ]
  },
  {
   "cell_type": "code",
   "execution_count": 8,
   "metadata": {},
   "outputs": [],
   "source": [
    "norm_sense = sense.copy()"
   ]
  },
  {
   "cell_type": "code",
   "execution_count": 9,
   "metadata": {},
   "outputs": [],
   "source": [
    "copy_number = pd.read_csv('../../max_read_depths/peak_copy_numbers.bed', sep='\\t', \n",
    "                          names = 'chr start end name value strand copy_number'.split()\n",
    "                         )\n",
    "copy_number['ucsc_name'] = ucsc_index(copy_number)\n",
    "norm_sense.loc[:, common_cols] = norm_sense.loc[:, common_cols] / pd.Series(mean_spike_counts)[common_cols]\n",
    "norm_sense = norm_sense.merge(copy_number[['ucsc_name', 'copy_number']], how='left')\n",
    "norm_sense = norm_sense[norm_sense.copy_number > 0]"
   ]
  },
  {
   "cell_type": "code",
   "execution_count": null,
   "metadata": {},
   "outputs": [],
   "source": []
  },
  {
   "cell_type": "code",
   "execution_count": 10,
   "metadata": {},
   "outputs": [],
   "source": [
    "for i in common_cols:\n",
    "    norm_sense.loc[:, i] = 3.76 *(norm_sense.loc[:, i]/norm_sense.copy_number)"
   ]
  },
  {
   "cell_type": "code",
   "execution_count": 11,
   "metadata": {},
   "outputs": [],
   "source": [
    "sorted_norm_sense = norm_sense.iloc[norm_sense[['dmso_2', 'dmso_3', 'drb_2', 'drb_3', 'gl3_2', 'gl3_3']].mean(axis=1).argsort()[::-1], :]"
   ]
  },
  {
   "cell_type": "code",
   "execution_count": 12,
   "metadata": {},
   "outputs": [
    {
     "data": {
      "text/html": [
       "<div>\n",
       "<style scoped>\n",
       "    .dataframe tbody tr th:only-of-type {\n",
       "        vertical-align: middle;\n",
       "    }\n",
       "\n",
       "    .dataframe tbody tr th {\n",
       "        vertical-align: top;\n",
       "    }\n",
       "\n",
       "    .dataframe thead th {\n",
       "        text-align: right;\n",
       "    }\n",
       "</style>\n",
       "<table border=\"1\" class=\"dataframe\">\n",
       "  <thead>\n",
       "    <tr style=\"text-align: right;\">\n",
       "      <th></th>\n",
       "      <th>chr</th>\n",
       "      <th>dmso_2</th>\n",
       "      <th>dmso_3</th>\n",
       "      <th>dmso_in</th>\n",
       "      <th>drb_2</th>\n",
       "      <th>drb_3</th>\n",
       "      <th>drb_in</th>\n",
       "      <th>drb_rh</th>\n",
       "      <th>end</th>\n",
       "      <th>gl3_2</th>\n",
       "      <th>gl3_3</th>\n",
       "      <th>gl3_in</th>\n",
       "      <th>gl3_rh</th>\n",
       "      <th>start</th>\n",
       "      <th>strand</th>\n",
       "      <th>ucsc_name</th>\n",
       "      <th>copy_number</th>\n",
       "    </tr>\n",
       "  </thead>\n",
       "  <tbody>\n",
       "    <tr>\n",
       "      <th>14040</th>\n",
       "      <td>chr7</td>\n",
       "      <td>NaN</td>\n",
       "      <td>NaN</td>\n",
       "      <td>0.256364</td>\n",
       "      <td>0.000294</td>\n",
       "      <td>0.000326</td>\n",
       "      <td>4.0</td>\n",
       "      <td>0.007581</td>\n",
       "      <td>12391360</td>\n",
       "      <td>NaN</td>\n",
       "      <td>NaN</td>\n",
       "      <td>0.313333</td>\n",
       "      <td>0.005562</td>\n",
       "      <td>12390967</td>\n",
       "      <td>+</td>\n",
       "      <td>chr7:12390967-12391360;+</td>\n",
       "      <td>4.0</td>\n",
       "    </tr>\n",
       "  </tbody>\n",
       "</table>\n",
       "</div>"
      ],
      "text/plain": [
       "        chr  dmso_2  dmso_3   dmso_in     drb_2     drb_3  drb_in    drb_rh  \\\n",
       "14040  chr7     NaN     NaN  0.256364  0.000294  0.000326     4.0  0.007581   \n",
       "\n",
       "            end  gl3_2  gl3_3    gl3_in    gl3_rh     start strand  \\\n",
       "14040  12391360    NaN    NaN  0.313333  0.005562  12390967      +   \n",
       "\n",
       "                      ucsc_name  copy_number  \n",
       "14040  chr7:12390967-12391360;+          4.0  "
      ]
     },
     "execution_count": 12,
     "metadata": {},
     "output_type": "execute_result"
    }
   ],
   "source": [
    "sorted_norm_sense[sorted_norm_sense.ucsc_name == 'chr7:12390967-12391360;+']"
   ]
  },
  {
   "cell_type": "code",
   "execution_count": 13,
   "metadata": {},
   "outputs": [
    {
     "data": {
      "image/png": "[encoded data removed]",
      "text/plain": [
       "<matplotlib.figure.Figure at 0x11576b630>"
      ]
     },
     "metadata": {},
     "output_type": "display_data"
    }
   ],
   "source": [
    "fig, ax = plt.subplots(figsize=(3,3))\n",
    "\n",
    "ax.hist(((sorted_norm_sense.gl3_2 + sorted_norm_sense.gl3_3)/2).dropna(), \n",
    "        bins = 10 ** np.arange(-4,  0, 0.1), \n",
    "        alpha=0.5, color='blue')\n",
    "\n",
    "ax.set_xscale('log')\n",
    "ax.set_xticklabels('')\n",
    "ax.set_yticklabels('')\n",
    "fig.savefig('Unannotated_gl3_fractions.svg')"
   ]
  },
  {
   "cell_type": "code",
   "execution_count": 14,
   "metadata": {},
   "outputs": [
    {
     "data": {
      "text/plain": [
       "114.56680733513483"
      ]
     },
     "execution_count": 14,
     "metadata": {},
     "output_type": "execute_result"
    }
   ],
   "source": [
    "1/((sorted_norm_sense.gl3_2 + sorted_norm_sense.gl3_3)/2).dropna().mean()"
   ]
  },
  {
   "cell_type": "code",
   "execution_count": 15,
   "metadata": {},
   "outputs": [
    {
     "data": {
      "image/png": "[encoded data removed]",
      "text/plain": [
       "<matplotlib.figure.Figure at 0x113204f28>"
      ]
     },
     "metadata": {},
     "output_type": "display_data"
    }
   ],
   "source": [
    "fig, ax = plt.subplots(figsize=(3,3))\n",
    "\n",
    "ax.hist(((sorted_norm_sense.gl3_2 + sorted_norm_sense.gl3_3)/2).dropna(), \n",
    "        bins = 10 ** np.arange(-4,  0, 0.1), \n",
    "        alpha=0.5, color='blue')\n",
    "\n",
    "ax.set_xscale('log')\n",
    "fig.savefig('Annotated_gl3_fractions.png')"
   ]
  },
  {
   "cell_type": "code",
   "execution_count": 16,
   "metadata": {},
   "outputs": [
    {
     "data": {
      "text/plain": [
       "Text(0.5,0,'Approx allelic fraction')"
      ]
     },
     "execution_count": 16,
     "metadata": {},
     "output_type": "execute_result"
    },
    {
     "data": {
      "image/png": "[encoded data removed]",
      "text/plain": [
       "<matplotlib.figure.Figure at 0x113e62a58>"
      ]
     },
     "metadata": {},
     "output_type": "display_data"
    }
   ],
   "source": [
    "fig, ax = plt.subplots(nrows=2,sharex=True, sharey=True, figsize=(3,3))\n",
    "\n",
    "ax[0].hist((sorted_norm_sense.dmso_3.dropna()), \n",
    "        bins = 10 ** np.arange(-4,  0, 0.1), \n",
    "        alpha=0.5, color='blue')\n",
    "ax[0].hist((sorted_norm_sense.dmso_2.dropna()), \n",
    "        bins = 10 ** np.arange(-4,  0, 0.1), \n",
    "        alpha=0.5, color='blue')\n",
    "ax[0].axvline(x=0.00443)\n",
    "ax[1].hist((sorted_norm_sense.drb_2.dropna()), \n",
    "        bins = 10 ** np.arange(-4,  0, 0.1), \n",
    "        alpha=0.5, color = 'red')\n",
    "ax[1].hist((sorted_norm_sense.drb_3.dropna()), \n",
    "        bins = 10 ** np.arange(-4,  0, 0.1), \n",
    "        alpha=0.5, color = 'red')\n",
    "\n",
    "\n",
    "for a in ax:\n",
    "    a.set_xscale('log')\n",
    "\n",
    "ax[0].set_ylabel('DMSO peaks')\n",
    "ax[1].set_ylabel('DRB peaks')\n",
    "ax[1].set_xlabel('Approx allelic fraction')\n",
    "#fig.tight_layout()"
   ]
  },
  {
   "cell_type": "code",
   "execution_count": 17,
   "metadata": {},
   "outputs": [
    {
     "data": {
      "image/png": "[encoded data removed]",
      "text/plain": [
       "<matplotlib.figure.Figure at 0x11425d7b8>"
      ]
     },
     "metadata": {},
     "output_type": "display_data"
    }
   ],
   "source": [
    "fig, ax = plt.subplots(nrows=2,sharex=True, sharey=True, figsize=(3,3))\n",
    "\n",
    "ax[0].hist((sorted_norm_sense.dmso_3.dropna()), \n",
    "        bins = 10 ** np.arange(-4,  0, 0.1), \n",
    "        alpha=0.5, color='blue')\n",
    "ax[0].hist((sorted_norm_sense.dmso_2.dropna()), \n",
    "        bins = 10 ** np.arange(-4,  0, 0.1), \n",
    "        alpha=0.5, color='blue')\n",
    "\n",
    "ax[1].hist((sorted_norm_sense.drb_2.dropna()), \n",
    "        bins = 10 ** np.arange(-4,  0, 0.1), \n",
    "        alpha=0.5, color = 'red')\n",
    "ax[1].hist((sorted_norm_sense.drb_3.dropna()), \n",
    "        bins = 10 ** np.arange(-4,  0, 0.1), \n",
    "        alpha=0.5, color = 'red')\n",
    "\n",
    "\n",
    "for a in ax:\n",
    "    a.set_xscale('log')\n",
    "\n",
    "ax[0].set_ylabel('DMSO peaks')\n",
    "ax[1].set_ylabel('DRB peaks')\n",
    "ax[1].set_xlabel('Approx allelic fraction')\n",
    "#fig.tight_layout()\n",
    "fig.savefig('Allelic_fraction.svg')"
   ]
  },
  {
   "cell_type": "code",
   "execution_count": 18,
   "metadata": {},
   "outputs": [],
   "source": [
    "gene_data = pd.read_csv('/Volumes/Pegasus/shared_files/bed_files/hg38/hg38_cannonical_GENCODE_v29_symbols.tsv', sep='\\t',\n",
    "                        names = ('transcript_id', 'symbol', 'gencode_2', 'chr', 'strand', 'start', 'end', \n",
    "                                 'cd_start', 'cd_end', 'exon_count', 'exon_starts', 'exon_ends', 'prot_id', 'align_id'),\n",
    "                        usecols = ('chr', 'start', 'end', 'strand', 'symbol', 'align_id', 'transcript_id'), header = 0\n",
    "                       )"
   ]
  },
  {
   "cell_type": "code",
   "execution_count": 19,
   "metadata": {},
   "outputs": [],
   "source": [
    "gene_data['ucsc_name'] = ucsc_index(gene_data)"
   ]
  },
  {
   "cell_type": "code",
   "execution_count": 20,
   "metadata": {},
   "outputs": [
    {
     "data": {
      "text/html": [
       "<div>\n",
       "<style scoped>\n",
       "    .dataframe tbody tr th:only-of-type {\n",
       "        vertical-align: middle;\n",
       "    }\n",
       "\n",
       "    .dataframe tbody tr th {\n",
       "        vertical-align: top;\n",
       "    }\n",
       "\n",
       "    .dataframe thead th {\n",
       "        text-align: right;\n",
       "    }\n",
       "</style>\n",
       "<table border=\"1\" class=\"dataframe\">\n",
       "  <thead>\n",
       "    <tr style=\"text-align: right;\">\n",
       "      <th></th>\n",
       "      <th>transcript_id</th>\n",
       "      <th>symbol</th>\n",
       "      <th>chr</th>\n",
       "      <th>strand</th>\n",
       "      <th>start</th>\n",
       "      <th>end</th>\n",
       "      <th>align_id</th>\n",
       "      <th>ucsc_name</th>\n",
       "    </tr>\n",
       "  </thead>\n",
       "  <tbody>\n",
       "    <tr>\n",
       "      <th>0</th>\n",
       "      <td>ENST00000367772.8</td>\n",
       "      <td>SCYL3</td>\n",
       "      <td>chr1</td>\n",
       "      <td>-</td>\n",
       "      <td>169853073</td>\n",
       "      <td>169893959</td>\n",
       "      <td>uc001ggs.5</td>\n",
       "      <td>chr1:169853073-169893959;-</td>\n",
       "    </tr>\n",
       "    <tr>\n",
       "      <th>1</th>\n",
       "      <td>ENST00000359326.8</td>\n",
       "      <td>C1orf112</td>\n",
       "      <td>chr1</td>\n",
       "      <td>+</td>\n",
       "      <td>169795048</td>\n",
       "      <td>169854080</td>\n",
       "      <td>uc001ggp.4</td>\n",
       "      <td>chr1:169795048-169854080;+</td>\n",
       "    </tr>\n",
       "    <tr>\n",
       "      <th>2</th>\n",
       "      <td>ENST00000374005.7</td>\n",
       "      <td>FGR</td>\n",
       "      <td>chr1</td>\n",
       "      <td>-</td>\n",
       "      <td>27612063</td>\n",
       "      <td>27635277</td>\n",
       "      <td>uc001bom.4</td>\n",
       "      <td>chr1:27612063-27635277;-</td>\n",
       "    </tr>\n",
       "    <tr>\n",
       "      <th>3</th>\n",
       "      <td>ENST00000367429.8</td>\n",
       "      <td>CFH</td>\n",
       "      <td>chr1</td>\n",
       "      <td>+</td>\n",
       "      <td>196651877</td>\n",
       "      <td>196747504</td>\n",
       "      <td>uc001gtj.4</td>\n",
       "      <td>chr1:196651877-196747504;+</td>\n",
       "    </tr>\n",
       "    <tr>\n",
       "      <th>4</th>\n",
       "      <td>ENST00000003583.12</td>\n",
       "      <td>STPG1</td>\n",
       "      <td>chr1</td>\n",
       "      <td>-</td>\n",
       "      <td>24357004</td>\n",
       "      <td>24413725</td>\n",
       "      <td>uc001bja.4</td>\n",
       "      <td>chr1:24357004-24413725;-</td>\n",
       "    </tr>\n",
       "  </tbody>\n",
       "</table>\n",
       "</div>"
      ],
      "text/plain": [
       "        transcript_id    symbol   chr strand      start        end  \\\n",
       "0   ENST00000367772.8     SCYL3  chr1      -  169853073  169893959   \n",
       "1   ENST00000359326.8  C1orf112  chr1      +  169795048  169854080   \n",
       "2   ENST00000374005.7       FGR  chr1      -   27612063   27635277   \n",
       "3   ENST00000367429.8       CFH  chr1      +  196651877  196747504   \n",
       "4  ENST00000003583.12     STPG1  chr1      -   24357004   24413725   \n",
       "\n",
       "     align_id                   ucsc_name  \n",
       "0  uc001ggs.5  chr1:169853073-169893959;-  \n",
       "1  uc001ggp.4  chr1:169795048-169854080;+  \n",
       "2  uc001bom.4    chr1:27612063-27635277;-  \n",
       "3  uc001gtj.4  chr1:196651877-196747504;+  \n",
       "4  uc001bja.4    chr1:24357004-24413725;-  "
      ]
     },
     "execution_count": 20,
     "metadata": {},
     "output_type": "execute_result"
    }
   ],
   "source": [
    "gene_data.head()"
   ]
  },
  {
   "cell_type": "code",
   "execution_count": 21,
   "metadata": {},
   "outputs": [],
   "source": [
    "overlaps = pd.read_csv('../../peak_calls/combined_bam_peaks/gene_overlap/gl3_ovelap.tsv', \n",
    "                       names = 'chr start end name value strand gene_chr gene_start gene_end transcript_id overlap'.split(),\n",
    "                       usecols = 'chr start end strand transcript_id'.split(), sep='\\t'\n",
    "                      )\n"
   ]
  },
  {
   "cell_type": "code",
   "execution_count": 22,
   "metadata": {},
   "outputs": [],
   "source": [
    "overlaps['ucsc_name'] = ucsc_index(overlaps)"
   ]
  },
  {
   "cell_type": "code",
   "execution_count": 23,
   "metadata": {},
   "outputs": [],
   "source": [
    "with_symbols = sorted_norm_sense.merge(overlaps[['transcript_id', 'ucsc_name']], how = 'left').merge(gene_data[['transcript_id', 'symbol']], how='left')"
   ]
  },
  {
   "cell_type": "code",
   "execution_count": 24,
   "metadata": {},
   "outputs": [
    {
     "data": {
      "text/html": [
       "<div>\n",
       "<style scoped>\n",
       "    .dataframe tbody tr th:only-of-type {\n",
       "        vertical-align: middle;\n",
       "    }\n",
       "\n",
       "    .dataframe tbody tr th {\n",
       "        vertical-align: top;\n",
       "    }\n",
       "\n",
       "    .dataframe thead th {\n",
       "        text-align: right;\n",
       "    }\n",
       "</style>\n",
       "<table border=\"1\" class=\"dataframe\">\n",
       "  <thead>\n",
       "    <tr style=\"text-align: right;\">\n",
       "      <th></th>\n",
       "      <th>chr</th>\n",
       "      <th>dmso_2</th>\n",
       "      <th>dmso_3</th>\n",
       "      <th>dmso_in</th>\n",
       "      <th>drb_2</th>\n",
       "      <th>drb_3</th>\n",
       "      <th>drb_in</th>\n",
       "      <th>drb_rh</th>\n",
       "      <th>end</th>\n",
       "      <th>gl3_2</th>\n",
       "      <th>gl3_3</th>\n",
       "      <th>gl3_in</th>\n",
       "      <th>gl3_rh</th>\n",
       "      <th>start</th>\n",
       "      <th>strand</th>\n",
       "      <th>ucsc_name</th>\n",
       "      <th>copy_number</th>\n",
       "      <th>transcript_id</th>\n",
       "      <th>symbol</th>\n",
       "    </tr>\n",
       "  </thead>\n",
       "  <tbody>\n",
       "    <tr>\n",
       "      <th>0</th>\n",
       "      <td>chr6</td>\n",
       "      <td>0.177527</td>\n",
       "      <td>0.131990</td>\n",
       "      <td>1.919441</td>\n",
       "      <td>0.097180</td>\n",
       "      <td>0.118927</td>\n",
       "      <td>46.0</td>\n",
       "      <td>0.228586</td>\n",
       "      <td>157323465</td>\n",
       "      <td>0.165344</td>\n",
       "      <td>0.137515</td>\n",
       "      <td>3.470769</td>\n",
       "      <td>0.328594</td>\n",
       "      <td>157310368</td>\n",
       "      <td>-</td>\n",
       "      <td>chr6:157310368-157323465;-</td>\n",
       "      <td>13.0</td>\n",
       "      <td>ENST00000603032.1</td>\n",
       "      <td>AL390955.2</td>\n",
       "    </tr>\n",
       "    <tr>\n",
       "      <th>1</th>\n",
       "      <td>chr6</td>\n",
       "      <td>0.177527</td>\n",
       "      <td>0.131990</td>\n",
       "      <td>1.919441</td>\n",
       "      <td>0.097180</td>\n",
       "      <td>0.118927</td>\n",
       "      <td>46.0</td>\n",
       "      <td>0.228586</td>\n",
       "      <td>157323465</td>\n",
       "      <td>0.165344</td>\n",
       "      <td>0.137515</td>\n",
       "      <td>3.470769</td>\n",
       "      <td>0.328594</td>\n",
       "      <td>157310368</td>\n",
       "      <td>-</td>\n",
       "      <td>chr6:157310368-157323465;-</td>\n",
       "      <td>13.0</td>\n",
       "      <td>ENST00000400788.8</td>\n",
       "      <td>TMEM242</td>\n",
       "    </tr>\n",
       "    <tr>\n",
       "      <th>2</th>\n",
       "      <td>chr19</td>\n",
       "      <td>0.085765</td>\n",
       "      <td>0.066706</td>\n",
       "      <td>0.683636</td>\n",
       "      <td>0.071821</td>\n",
       "      <td>0.067248</td>\n",
       "      <td>5.0</td>\n",
       "      <td>0.272903</td>\n",
       "      <td>3985487</td>\n",
       "      <td>0.130810</td>\n",
       "      <td>0.070049</td>\n",
       "      <td>1.566667</td>\n",
       "      <td>0.589586</td>\n",
       "      <td>3974449</td>\n",
       "      <td>-</td>\n",
       "      <td>chr19:3974449-3985487;-</td>\n",
       "      <td>2.0</td>\n",
       "      <td>ENST00000384048.1</td>\n",
       "      <td>SNORD37</td>\n",
       "    </tr>\n",
       "    <tr>\n",
       "      <th>3</th>\n",
       "      <td>chr19</td>\n",
       "      <td>0.085765</td>\n",
       "      <td>0.066706</td>\n",
       "      <td>0.683636</td>\n",
       "      <td>0.071821</td>\n",
       "      <td>0.067248</td>\n",
       "      <td>5.0</td>\n",
       "      <td>0.272903</td>\n",
       "      <td>3985487</td>\n",
       "      <td>0.130810</td>\n",
       "      <td>0.070049</td>\n",
       "      <td>1.566667</td>\n",
       "      <td>0.589586</td>\n",
       "      <td>3974449</td>\n",
       "      <td>-</td>\n",
       "      <td>chr19:3974449-3985487;-</td>\n",
       "      <td>2.0</td>\n",
       "      <td>ENST00000309311.6</td>\n",
       "      <td>EEF2</td>\n",
       "    </tr>\n",
       "    <tr>\n",
       "      <th>4</th>\n",
       "      <td>chr8</td>\n",
       "      <td>0.099409</td>\n",
       "      <td>0.060432</td>\n",
       "      <td>2.990909</td>\n",
       "      <td>0.070938</td>\n",
       "      <td>0.077694</td>\n",
       "      <td>27.0</td>\n",
       "      <td>1.334194</td>\n",
       "      <td>127229303</td>\n",
       "      <td>0.095230</td>\n",
       "      <td>0.075521</td>\n",
       "      <td>3.603333</td>\n",
       "      <td>0.862130</td>\n",
       "      <td>127187733</td>\n",
       "      <td>-</td>\n",
       "      <td>chr8:127187733-127229303;-</td>\n",
       "      <td>4.0</td>\n",
       "      <td>.</td>\n",
       "      <td>NaN</td>\n",
       "    </tr>\n",
       "    <tr>\n",
       "      <th>5</th>\n",
       "      <td>chr5</td>\n",
       "      <td>0.088201</td>\n",
       "      <td>0.052837</td>\n",
       "      <td>0.512727</td>\n",
       "      <td>0.072704</td>\n",
       "      <td>0.071492</td>\n",
       "      <td>7.0</td>\n",
       "      <td>0.424516</td>\n",
       "      <td>171419233</td>\n",
       "      <td>0.106218</td>\n",
       "      <td>0.068954</td>\n",
       "      <td>0.940000</td>\n",
       "      <td>1.145799</td>\n",
       "      <td>171387702</td>\n",
       "      <td>+</td>\n",
       "      <td>chr5:171387702-171419233;+</td>\n",
       "      <td>4.0</td>\n",
       "      <td>ENST00000517671.5</td>\n",
       "      <td>NPM1</td>\n",
       "    </tr>\n",
       "    <tr>\n",
       "      <th>6</th>\n",
       "      <td>chr5</td>\n",
       "      <td>0.088201</td>\n",
       "      <td>0.052837</td>\n",
       "      <td>0.512727</td>\n",
       "      <td>0.072704</td>\n",
       "      <td>0.071492</td>\n",
       "      <td>7.0</td>\n",
       "      <td>0.424516</td>\n",
       "      <td>171419233</td>\n",
       "      <td>0.106218</td>\n",
       "      <td>0.068954</td>\n",
       "      <td>0.940000</td>\n",
       "      <td>1.145799</td>\n",
       "      <td>171387702</td>\n",
       "      <td>+</td>\n",
       "      <td>chr5:171387702-171419233;+</td>\n",
       "      <td>4.0</td>\n",
       "      <td>ENST00000274625.5</td>\n",
       "      <td>FGF18</td>\n",
       "    </tr>\n",
       "    <tr>\n",
       "      <th>7</th>\n",
       "      <td>chr7</td>\n",
       "      <td>0.075369</td>\n",
       "      <td>0.062524</td>\n",
       "      <td>0.569697</td>\n",
       "      <td>0.039639</td>\n",
       "      <td>0.028292</td>\n",
       "      <td>5.0</td>\n",
       "      <td>0.090968</td>\n",
       "      <td>44806213</td>\n",
       "      <td>0.130461</td>\n",
       "      <td>0.085615</td>\n",
       "      <td>1.462222</td>\n",
       "      <td>0.222485</td>\n",
       "      <td>44796510</td>\n",
       "      <td>+</td>\n",
       "      <td>chr7:44796510-44806213;+</td>\n",
       "      <td>3.0</td>\n",
       "      <td>ENST00000468812.5</td>\n",
       "      <td>PPIA</td>\n",
       "    </tr>\n",
       "    <tr>\n",
       "      <th>8</th>\n",
       "      <td>chr11</td>\n",
       "      <td>0.071633</td>\n",
       "      <td>0.056800</td>\n",
       "      <td>0.512727</td>\n",
       "      <td>0.052100</td>\n",
       "      <td>0.062351</td>\n",
       "      <td>7.0</td>\n",
       "      <td>0.955161</td>\n",
       "      <td>65450484</td>\n",
       "      <td>0.091044</td>\n",
       "      <td>0.078075</td>\n",
       "      <td>0.940000</td>\n",
       "      <td>2.119172</td>\n",
       "      <td>65421722</td>\n",
       "      <td>+</td>\n",
       "      <td>chr11:65421722-65450484;+</td>\n",
       "      <td>4.0</td>\n",
       "      <td>ENST00000620348.1</td>\n",
       "      <td>RF01955</td>\n",
       "    </tr>\n",
       "    <tr>\n",
       "      <th>9</th>\n",
       "      <td>chr11</td>\n",
       "      <td>0.071633</td>\n",
       "      <td>0.056800</td>\n",
       "      <td>0.512727</td>\n",
       "      <td>0.052100</td>\n",
       "      <td>0.062351</td>\n",
       "      <td>7.0</td>\n",
       "      <td>0.955161</td>\n",
       "      <td>65450484</td>\n",
       "      <td>0.091044</td>\n",
       "      <td>0.078075</td>\n",
       "      <td>0.940000</td>\n",
       "      <td>2.119172</td>\n",
       "      <td>65421722</td>\n",
       "      <td>+</td>\n",
       "      <td>chr11:65421722-65450484;+</td>\n",
       "      <td>4.0</td>\n",
       "      <td>ENST00000620525.1</td>\n",
       "      <td>RF01956</td>\n",
       "    </tr>\n",
       "    <tr>\n",
       "      <th>10</th>\n",
       "      <td>chr11</td>\n",
       "      <td>0.071633</td>\n",
       "      <td>0.056800</td>\n",
       "      <td>0.512727</td>\n",
       "      <td>0.052100</td>\n",
       "      <td>0.062351</td>\n",
       "      <td>7.0</td>\n",
       "      <td>0.955161</td>\n",
       "      <td>65450484</td>\n",
       "      <td>0.091044</td>\n",
       "      <td>0.078075</td>\n",
       "      <td>0.940000</td>\n",
       "      <td>2.119172</td>\n",
       "      <td>65421722</td>\n",
       "      <td>+</td>\n",
       "      <td>chr11:65421722-65450484;+</td>\n",
       "      <td>4.0</td>\n",
       "      <td>ENST00000613347.1</td>\n",
       "      <td>RF01957</td>\n",
       "    </tr>\n",
       "    <tr>\n",
       "      <th>11</th>\n",
       "      <td>chr11</td>\n",
       "      <td>0.071633</td>\n",
       "      <td>0.056800</td>\n",
       "      <td>0.512727</td>\n",
       "      <td>0.052100</td>\n",
       "      <td>0.062351</td>\n",
       "      <td>7.0</td>\n",
       "      <td>0.955161</td>\n",
       "      <td>65450484</td>\n",
       "      <td>0.091044</td>\n",
       "      <td>0.078075</td>\n",
       "      <td>0.940000</td>\n",
       "      <td>2.119172</td>\n",
       "      <td>65421722</td>\n",
       "      <td>+</td>\n",
       "      <td>chr11:65421722-65450484;+</td>\n",
       "      <td>4.0</td>\n",
       "      <td>ENST00000616315.2</td>\n",
       "      <td>NEAT1</td>\n",
       "    </tr>\n",
       "    <tr>\n",
       "      <th>12</th>\n",
       "      <td>chr11</td>\n",
       "      <td>0.071633</td>\n",
       "      <td>0.056800</td>\n",
       "      <td>0.512727</td>\n",
       "      <td>0.052100</td>\n",
       "      <td>0.062351</td>\n",
       "      <td>7.0</td>\n",
       "      <td>0.955161</td>\n",
       "      <td>65450484</td>\n",
       "      <td>0.091044</td>\n",
       "      <td>0.078075</td>\n",
       "      <td>0.940000</td>\n",
       "      <td>2.119172</td>\n",
       "      <td>65421722</td>\n",
       "      <td>+</td>\n",
       "      <td>chr11:65421722-65450484;+</td>\n",
       "      <td>4.0</td>\n",
       "      <td>ENST00000384994.1</td>\n",
       "      <td>MIR612</td>\n",
       "    </tr>\n",
       "    <tr>\n",
       "      <th>13</th>\n",
       "      <td>chr11</td>\n",
       "      <td>0.071633</td>\n",
       "      <td>0.056800</td>\n",
       "      <td>0.512727</td>\n",
       "      <td>0.052100</td>\n",
       "      <td>0.062351</td>\n",
       "      <td>7.0</td>\n",
       "      <td>0.955161</td>\n",
       "      <td>65450484</td>\n",
       "      <td>0.091044</td>\n",
       "      <td>0.078075</td>\n",
       "      <td>0.940000</td>\n",
       "      <td>2.119172</td>\n",
       "      <td>65421722</td>\n",
       "      <td>+</td>\n",
       "      <td>chr11:65421722-65450484;+</td>\n",
       "      <td>4.0</td>\n",
       "      <td>ENST00000616984.1</td>\n",
       "      <td>RF01684</td>\n",
       "    </tr>\n",
       "    <tr>\n",
       "      <th>14</th>\n",
       "      <td>chr14</td>\n",
       "      <td>0.078618</td>\n",
       "      <td>0.052837</td>\n",
       "      <td>0.455758</td>\n",
       "      <td>0.043171</td>\n",
       "      <td>0.036562</td>\n",
       "      <td>4.0</td>\n",
       "      <td>0.131398</td>\n",
       "      <td>75284295</td>\n",
       "      <td>0.103950</td>\n",
       "      <td>0.081237</td>\n",
       "      <td>0.626667</td>\n",
       "      <td>0.689704</td>\n",
       "      <td>75276896</td>\n",
       "      <td>+</td>\n",
       "      <td>chr14:75276896-75284295;+</td>\n",
       "      <td>3.0</td>\n",
       "      <td>ENST00000303562.8</td>\n",
       "      <td>FOS</td>\n",
       "    </tr>\n",
       "    <tr>\n",
       "      <th>15</th>\n",
       "      <td>chr1</td>\n",
       "      <td>0.068222</td>\n",
       "      <td>0.054158</td>\n",
       "      <td>0.797576</td>\n",
       "      <td>0.057300</td>\n",
       "      <td>0.055713</td>\n",
       "      <td>5.0</td>\n",
       "      <td>0.242581</td>\n",
       "      <td>150580339</td>\n",
       "      <td>0.087904</td>\n",
       "      <td>0.071021</td>\n",
       "      <td>1.253333</td>\n",
       "      <td>0.363393</td>\n",
       "      <td>150558846</td>\n",
       "      <td>-</td>\n",
       "      <td>chr1:150558846-150580339;-</td>\n",
       "      <td>3.0</td>\n",
       "      <td>ENST00000580341.2</td>\n",
       "      <td>RN7SL473P</td>\n",
       "    </tr>\n",
       "    <tr>\n",
       "      <th>16</th>\n",
       "      <td>chr1</td>\n",
       "      <td>0.068222</td>\n",
       "      <td>0.054158</td>\n",
       "      <td>0.797576</td>\n",
       "      <td>0.057300</td>\n",
       "      <td>0.055713</td>\n",
       "      <td>5.0</td>\n",
       "      <td>0.242581</td>\n",
       "      <td>150580339</td>\n",
       "      <td>0.087904</td>\n",
       "      <td>0.071021</td>\n",
       "      <td>1.253333</td>\n",
       "      <td>0.363393</td>\n",
       "      <td>150558846</td>\n",
       "      <td>-</td>\n",
       "      <td>chr1:150558846-150580339;-</td>\n",
       "      <td>3.0</td>\n",
       "      <td>ENST00000369026.2</td>\n",
       "      <td>MCL1</td>\n",
       "    </tr>\n",
       "    <tr>\n",
       "      <th>17</th>\n",
       "      <td>chr1</td>\n",
       "      <td>0.068222</td>\n",
       "      <td>0.054158</td>\n",
       "      <td>0.797576</td>\n",
       "      <td>0.057300</td>\n",
       "      <td>0.055713</td>\n",
       "      <td>5.0</td>\n",
       "      <td>0.242581</td>\n",
       "      <td>150580339</td>\n",
       "      <td>0.087904</td>\n",
       "      <td>0.071021</td>\n",
       "      <td>1.253333</td>\n",
       "      <td>0.363393</td>\n",
       "      <td>150558846</td>\n",
       "      <td>-</td>\n",
       "      <td>chr1:150558846-150580339;-</td>\n",
       "      <td>3.0</td>\n",
       "      <td>ENST00000271643.8</td>\n",
       "      <td>ADAMTSL4</td>\n",
       "    </tr>\n",
       "    <tr>\n",
       "      <th>18</th>\n",
       "      <td>chr1</td>\n",
       "      <td>0.068222</td>\n",
       "      <td>0.054158</td>\n",
       "      <td>0.797576</td>\n",
       "      <td>0.057300</td>\n",
       "      <td>0.055713</td>\n",
       "      <td>5.0</td>\n",
       "      <td>0.242581</td>\n",
       "      <td>150580339</td>\n",
       "      <td>0.087904</td>\n",
       "      <td>0.071021</td>\n",
       "      <td>1.253333</td>\n",
       "      <td>0.363393</td>\n",
       "      <td>150558846</td>\n",
       "      <td>-</td>\n",
       "      <td>chr1:150558846-150580339;-</td>\n",
       "      <td>3.0</td>\n",
       "      <td>ENST00000617352.1</td>\n",
       "      <td>ADAMTSL4-AS1</td>\n",
       "    </tr>\n",
       "    <tr>\n",
       "      <th>19</th>\n",
       "      <td>chr1</td>\n",
       "      <td>0.068222</td>\n",
       "      <td>0.054158</td>\n",
       "      <td>0.797576</td>\n",
       "      <td>0.057300</td>\n",
       "      <td>0.055713</td>\n",
       "      <td>5.0</td>\n",
       "      <td>0.242581</td>\n",
       "      <td>150580339</td>\n",
       "      <td>0.087904</td>\n",
       "      <td>0.071021</td>\n",
       "      <td>1.253333</td>\n",
       "      <td>0.363393</td>\n",
       "      <td>150558846</td>\n",
       "      <td>-</td>\n",
       "      <td>chr1:150558846-150580339;-</td>\n",
       "      <td>3.0</td>\n",
       "      <td>ENST00000581811.2</td>\n",
       "      <td>RN7SL600P</td>\n",
       "    </tr>\n",
       "  </tbody>\n",
       "</table>\n",
       "</div>"
      ],
      "text/plain": [
       "      chr    dmso_2    dmso_3   dmso_in     drb_2     drb_3  drb_in    drb_rh  \\\n",
       "0    chr6  0.177527  0.131990  1.919441  0.097180  0.118927    46.0  0.228586   \n",
       "1    chr6  0.177527  0.131990  1.919441  0.097180  0.118927    46.0  0.228586   \n",
       "2   chr19  0.085765  0.066706  0.683636  0.071821  0.067248     5.0  0.272903   \n",
       "3   chr19  0.085765  0.066706  0.683636  0.071821  0.067248     5.0  0.272903   \n",
       "4    chr8  0.099409  0.060432  2.990909  0.070938  0.077694    27.0  1.334194   \n",
       "5    chr5  0.088201  0.052837  0.512727  0.072704  0.071492     7.0  0.424516   \n",
       "6    chr5  0.088201  0.052837  0.512727  0.072704  0.071492     7.0  0.424516   \n",
       "7    chr7  0.075369  0.062524  0.569697  0.039639  0.028292     5.0  0.090968   \n",
       "8   chr11  0.071633  0.056800  0.512727  0.052100  0.062351     7.0  0.955161   \n",
       "9   chr11  0.071633  0.056800  0.512727  0.052100  0.062351     7.0  0.955161   \n",
       "10  chr11  0.071633  0.056800  0.512727  0.052100  0.062351     7.0  0.955161   \n",
       "11  chr11  0.071633  0.056800  0.512727  0.052100  0.062351     7.0  0.955161   \n",
       "12  chr11  0.071633  0.056800  0.512727  0.052100  0.062351     7.0  0.955161   \n",
       "13  chr11  0.071633  0.056800  0.512727  0.052100  0.062351     7.0  0.955161   \n",
       "14  chr14  0.078618  0.052837  0.455758  0.043171  0.036562     4.0  0.131398   \n",
       "15   chr1  0.068222  0.054158  0.797576  0.057300  0.055713     5.0  0.242581   \n",
       "16   chr1  0.068222  0.054158  0.797576  0.057300  0.055713     5.0  0.242581   \n",
       "17   chr1  0.068222  0.054158  0.797576  0.057300  0.055713     5.0  0.242581   \n",
       "18   chr1  0.068222  0.054158  0.797576  0.057300  0.055713     5.0  0.242581   \n",
       "19   chr1  0.068222  0.054158  0.797576  0.057300  0.055713     5.0  0.242581   \n",
       "\n",
       "          end     gl3_2     gl3_3    gl3_in    gl3_rh      start strand  \\\n",
       "0   157323465  0.165344  0.137515  3.470769  0.328594  157310368      -   \n",
       "1   157323465  0.165344  0.137515  3.470769  0.328594  157310368      -   \n",
       "2     3985487  0.130810  0.070049  1.566667  0.589586    3974449      -   \n",
       "3     3985487  0.130810  0.070049  1.566667  0.589586    3974449      -   \n",
       "4   127229303  0.095230  0.075521  3.603333  0.862130  127187733      -   \n",
       "5   171419233  0.106218  0.068954  0.940000  1.145799  171387702      +   \n",
       "6   171419233  0.106218  0.068954  0.940000  1.145799  171387702      +   \n",
       "7    44806213  0.130461  0.085615  1.462222  0.222485   44796510      +   \n",
       "8    65450484  0.091044  0.078075  0.940000  2.119172   65421722      +   \n",
       "9    65450484  0.091044  0.078075  0.940000  2.119172   65421722      +   \n",
       "10   65450484  0.091044  0.078075  0.940000  2.119172   65421722      +   \n",
       "11   65450484  0.091044  0.078075  0.940000  2.119172   65421722      +   \n",
       "12   65450484  0.091044  0.078075  0.940000  2.119172   65421722      +   \n",
       "13   65450484  0.091044  0.078075  0.940000  2.119172   65421722      +   \n",
       "14   75284295  0.103950  0.081237  0.626667  0.689704   75276896      +   \n",
       "15  150580339  0.087904  0.071021  1.253333  0.363393  150558846      -   \n",
       "16  150580339  0.087904  0.071021  1.253333  0.363393  150558846      -   \n",
       "17  150580339  0.087904  0.071021  1.253333  0.363393  150558846      -   \n",
       "18  150580339  0.087904  0.071021  1.253333  0.363393  150558846      -   \n",
       "19  150580339  0.087904  0.071021  1.253333  0.363393  150558846      -   \n",
       "\n",
       "                     ucsc_name  copy_number      transcript_id        symbol  \n",
       "0   chr6:157310368-157323465;-         13.0  ENST00000603032.1    AL390955.2  \n",
       "1   chr6:157310368-157323465;-         13.0  ENST00000400788.8       TMEM242  \n",
       "2      chr19:3974449-3985487;-          2.0  ENST00000384048.1       SNORD37  \n",
       "3      chr19:3974449-3985487;-          2.0  ENST00000309311.6          EEF2  \n",
       "4   chr8:127187733-127229303;-          4.0                  .           NaN  \n",
       "5   chr5:171387702-171419233;+          4.0  ENST00000517671.5          NPM1  \n",
       "6   chr5:171387702-171419233;+          4.0  ENST00000274625.5         FGF18  \n",
       "7     chr7:44796510-44806213;+          3.0  ENST00000468812.5          PPIA  \n",
       "8    chr11:65421722-65450484;+          4.0  ENST00000620348.1       RF01955  \n",
       "9    chr11:65421722-65450484;+          4.0  ENST00000620525.1       RF01956  \n",
       "10   chr11:65421722-65450484;+          4.0  ENST00000613347.1       RF01957  \n",
       "11   chr11:65421722-65450484;+          4.0  ENST00000616315.2         NEAT1  \n",
       "12   chr11:65421722-65450484;+          4.0  ENST00000384994.1        MIR612  \n",
       "13   chr11:65421722-65450484;+          4.0  ENST00000616984.1       RF01684  \n",
       "14   chr14:75276896-75284295;+          3.0  ENST00000303562.8           FOS  \n",
       "15  chr1:150558846-150580339;-          3.0  ENST00000580341.2     RN7SL473P  \n",
       "16  chr1:150558846-150580339;-          3.0  ENST00000369026.2          MCL1  \n",
       "17  chr1:150558846-150580339;-          3.0  ENST00000271643.8      ADAMTSL4  \n",
       "18  chr1:150558846-150580339;-          3.0  ENST00000617352.1  ADAMTSL4-AS1  \n",
       "19  chr1:150558846-150580339;-          3.0  ENST00000581811.2     RN7SL600P  "
      ]
     },
     "execution_count": 24,
     "metadata": {},
     "output_type": "execute_result"
    }
   ],
   "source": [
    "with_symbols.head(20)"
   ]
  },
  {
   "cell_type": "code",
   "execution_count": 25,
   "metadata": {},
   "outputs": [
    {
     "data": {
      "text/plain": [
       "1       0.154759\n",
       "2983    0.014212\n",
       "dtype: float64"
      ]
     },
     "execution_count": 25,
     "metadata": {},
     "output_type": "execute_result"
    }
   ],
   "source": [
    "with_symbols.loc[with_symbols.symbol == 'TMEM242', ['dmso_2', 'dmso_3']].mean(axis=1)"
   ]
  },
  {
   "cell_type": "code",
   "execution_count": 26,
   "metadata": {},
   "outputs": [
    {
     "data": {
      "text/plain": [
       "158    0.040963\n",
       "dtype: float64"
      ]
     },
     "execution_count": 26,
     "metadata": {},
     "output_type": "execute_result"
    }
   ],
   "source": [
    "with_symbols.loc[with_symbols.symbol == 'ACTB', ['dmso_2', 'dmso_3']].mean(axis=1)"
   ]
  },
  {
   "cell_type": "code",
   "execution_count": 27,
   "metadata": {},
   "outputs": [
    {
     "data": {
      "text/plain": [
       "551    0.029935\n",
       "dtype: float64"
      ]
     },
     "execution_count": 27,
     "metadata": {},
     "output_type": "execute_result"
    }
   ],
   "source": [
    "with_symbols.loc[with_symbols.symbol == 'MYC', ['gl3_2', 'gl3_3']].mean(axis=1)"
   ]
  },
  {
   "cell_type": "code",
   "execution_count": 28,
   "metadata": {},
   "outputs": [
    {
     "data": {
      "text/plain": [
       "88    0.057663\n",
       "dtype: float64"
      ]
     },
     "execution_count": 28,
     "metadata": {},
     "output_type": "execute_result"
    }
   ],
   "source": [
    "with_symbols.loc[with_symbols.symbol == 'RPL13A', ['gl3_2', 'gl3_3']].mean(axis=1)"
   ]
  },
  {
   "cell_type": "code",
   "execution_count": 29,
   "metadata": {},
   "outputs": [
    {
     "data": {
      "text/plain": [
       "11    0.084559\n",
       "dtype: float64"
      ]
     },
     "execution_count": 29,
     "metadata": {},
     "output_type": "execute_result"
    }
   ],
   "source": [
    "with_symbols.loc[with_symbols.symbol == 'NEAT1', ['gl3_2', 'gl3_3']].mean(axis=1)"
   ]
  },
  {
   "cell_type": "code",
   "execution_count": 30,
   "metadata": {},
   "outputs": [
    {
     "data": {
      "text/plain": [
       "54    0.063231\n",
       "dtype: float64"
      ]
     },
     "execution_count": 30,
     "metadata": {},
     "output_type": "execute_result"
    }
   ],
   "source": [
    "with_symbols.loc[with_symbols.symbol == 'RPL37', ['gl3_2', 'gl3_3']].mean(axis=1)"
   ]
  },
  {
   "cell_type": "code",
   "execution_count": 31,
   "metadata": {},
   "outputs": [
    {
     "data": {
      "text/plain": [
       "Series([], dtype: float64)"
      ]
     },
     "execution_count": 31,
     "metadata": {},
     "output_type": "execute_result"
    }
   ],
   "source": [
    "with_symbols.loc[with_symbols.symbol == 'MLKL', ['gl3_2', 'gl3_3']].mean(axis=1)"
   ]
  },
  {
   "cell_type": "code",
   "execution_count": 32,
   "metadata": {},
   "outputs": [
    {
     "data": {
      "text/plain": [
       "Series([], dtype: float64)"
      ]
     },
     "execution_count": 32,
     "metadata": {},
     "output_type": "execute_result"
    }
   ],
   "source": [
    "with_symbols.loc[with_symbols.symbol == 'ZNF544', ['gl3_2', 'gl3_3']].mean(axis=1)"
   ]
  },
  {
   "cell_type": "code",
   "execution_count": 33,
   "metadata": {},
   "outputs": [],
   "source": [
    "repeat_data = pd.read_csv('/Volumes/Pegasus/shared_files/bed_files/hg38/repeats/hg38_all_rna_repeats.tsv',\n",
    "                           sep = '\\t', \n",
    "                          skiprows=1,\n",
    "                         )\n",
    "                         "
   ]
  },
  {
   "cell_type": "code",
   "execution_count": 34,
   "metadata": {},
   "outputs": [],
   "source": [
    "new_names = {'genoName':'chr', 'genoStart':'start', 'genoEnd':'end'}\n",
    "repeat_data = repeat_data[['genoName', 'genoStart', 'genoEnd', 'strand', 'repName', 'repClass', 'repFamily']].rename(columns=new_names)"
   ]
  },
  {
   "cell_type": "code",
   "execution_count": 35,
   "metadata": {},
   "outputs": [],
   "source": [
    "repeat_data['ucsc_name'] = ucsc_index(repeat_data)"
   ]
  },
  {
   "cell_type": "code",
   "execution_count": 36,
   "metadata": {},
   "outputs": [
    {
     "ename": "NameError",
     "evalue": "name 'sense_reps' is not defined",
     "output_type": "error",
     "traceback": [
      "\u001b[0;31m---------------------------------------------------------------------------\u001b[0m",
      "\u001b[0;31mNameError\u001b[0m                                 Traceback (most recent call last)",
      "\u001b[0;32m<ipython-input-36-25a5d88c2c99>\u001b[0m in \u001b[0;36m<module>\u001b[0;34m()\u001b[0m\n\u001b[0;32m----> 1\u001b[0;31m \u001b[0msense_reps\u001b[0m \u001b[0;34m=\u001b[0m \u001b[0msense_reps\u001b[0m\u001b[0;34m.\u001b[0m\u001b[0mmerge\u001b[0m\u001b[0;34m(\u001b[0m\u001b[0mrepeat_data\u001b[0m\u001b[0;34m[\u001b[0m\u001b[0;34m[\u001b[0m\u001b[0;34m'ucsc_name'\u001b[0m\u001b[0;34m,\u001b[0m \u001b[0;34m'repName'\u001b[0m\u001b[0;34m]\u001b[0m\u001b[0;34m]\u001b[0m\u001b[0;34m,\u001b[0m \u001b[0mon\u001b[0m\u001b[0;34m=\u001b[0m\u001b[0;34m[\u001b[0m\u001b[0;34m'ucsc_name'\u001b[0m\u001b[0;34m]\u001b[0m\u001b[0;34m,\u001b[0m \u001b[0mhow\u001b[0m \u001b[0;34m=\u001b[0m\u001b[0;34m'left'\u001b[0m\u001b[0;34m)\u001b[0m\u001b[0;34m\u001b[0m\u001b[0;34m\u001b[0m\u001b[0m\n\u001b[0m",
      "\u001b[0;31mNameError\u001b[0m: name 'sense_reps' is not defined"
     ]
    }
   ],
   "source": [
    "sense_reps = sense_reps.merge(repeat_data[['ucsc_name', 'repName']], on=['ucsc_name'], how ='left')"
   ]
  },
  {
   "cell_type": "code",
   "execution_count": 37,
   "metadata": {},
   "outputs": [
    {
     "ename": "NameError",
     "evalue": "name 'sense_reps' is not defined",
     "output_type": "error",
     "traceback": [
      "\u001b[0;31m---------------------------------------------------------------------------\u001b[0m",
      "\u001b[0;31mNameError\u001b[0m                                 Traceback (most recent call last)",
      "\u001b[0;32m<ipython-input-37-06f30993d530>\u001b[0m in \u001b[0;36m<module>\u001b[0;34m()\u001b[0m\n\u001b[0;32m----> 1\u001b[0;31m \u001b[0msense_reps\u001b[0m\u001b[0;34m.\u001b[0m\u001b[0mdropna\u001b[0m\u001b[0;34m(\u001b[0m\u001b[0;34m)\u001b[0m\u001b[0;34m.\u001b[0m\u001b[0msort_values\u001b[0m\u001b[0;34m(\u001b[0m\u001b[0;34m'gl3_2'\u001b[0m\u001b[0;34m,\u001b[0m \u001b[0mascending\u001b[0m\u001b[0;34m=\u001b[0m\u001b[0;32mFalse\u001b[0m\u001b[0;34m)\u001b[0m\u001b[0;34m\u001b[0m\u001b[0;34m\u001b[0m\u001b[0m\n\u001b[0m",
      "\u001b[0;31mNameError\u001b[0m: name 'sense_reps' is not defined"
     ]
    }
   ],
   "source": [
    "sense_reps.dropna().sort_values('gl3_2', ascending=False)"
   ]
  },
  {
   "cell_type": "code",
   "execution_count": 38,
   "metadata": {},
   "outputs": [
    {
     "ename": "NameError",
     "evalue": "name 'sense_reps' is not defined",
     "output_type": "error",
     "traceback": [
      "\u001b[0;31m---------------------------------------------------------------------------\u001b[0m",
      "\u001b[0;31mNameError\u001b[0m                                 Traceback (most recent call last)",
      "\u001b[0;32m<ipython-input-38-e76d6240bba8>\u001b[0m in \u001b[0;36m<module>\u001b[0;34m()\u001b[0m\n\u001b[0;32m----> 1\u001b[0;31m \u001b[0msense_reps\u001b[0m\u001b[0;34m.\u001b[0m\u001b[0miloc\u001b[0m\u001b[0;34m[\u001b[0m\u001b[0msense_reps\u001b[0m\u001b[0;34m[\u001b[0m\u001b[0;34m[\u001b[0m\u001b[0;34m'dmso_2'\u001b[0m\u001b[0;34m,\u001b[0m \u001b[0;34m'dmso_3'\u001b[0m\u001b[0;34m,\u001b[0m \u001b[0;34m'drb_2'\u001b[0m\u001b[0;34m,\u001b[0m \u001b[0;34m'drb_3'\u001b[0m\u001b[0;34m,\u001b[0m \u001b[0;34m'gl3_2'\u001b[0m\u001b[0;34m,\u001b[0m \u001b[0;34m'gl3_3'\u001b[0m\u001b[0;34m]\u001b[0m\u001b[0;34m]\u001b[0m\u001b[0;34m.\u001b[0m\u001b[0mmean\u001b[0m\u001b[0;34m(\u001b[0m\u001b[0maxis\u001b[0m\u001b[0;34m=\u001b[0m\u001b[0;36m1\u001b[0m\u001b[0;34m)\u001b[0m\u001b[0;34m.\u001b[0m\u001b[0margsort\u001b[0m\u001b[0;34m(\u001b[0m\u001b[0;34m)\u001b[0m\u001b[0;34m[\u001b[0m\u001b[0;34m:\u001b[0m\u001b[0;34m:\u001b[0m\u001b[0;34m-\u001b[0m\u001b[0;36m1\u001b[0m\u001b[0;34m]\u001b[0m\u001b[0;34m,\u001b[0m \u001b[0;34m:\u001b[0m\u001b[0;34m]\u001b[0m\u001b[0;34m.\u001b[0m\u001b[0mdropna\u001b[0m\u001b[0;34m(\u001b[0m\u001b[0;34m)\u001b[0m\u001b[0;34m\u001b[0m\u001b[0;34m\u001b[0m\u001b[0m\n\u001b[0m",
      "\u001b[0;31mNameError\u001b[0m: name 'sense_reps' is not defined"
     ]
    }
   ],
   "source": [
    "sense_reps.iloc[sense_reps[['dmso_2', 'dmso_3', 'drb_2', 'drb_3', 'gl3_2', 'gl3_3']].mean(axis=1).argsort()[::-1], :].dropna()"
   ]
  },
  {
   "cell_type": "code",
   "execution_count": 37,
   "metadata": {},
   "outputs": [
    {
     "data": {
      "text/plain": [
       "chr                                chr7\n",
       "dmso_2                              NaN\n",
       "dmso_3                              NaN\n",
       "dmso_in                        0.256364\n",
       "drb_2                       0.000294348\n",
       "drb_3                       0.000326446\n",
       "drb_in                                4\n",
       "drb_rh                       0.00758065\n",
       "end                            12391360\n",
       "gl3_2                               NaN\n",
       "gl3_3                               NaN\n",
       "gl3_in                         0.313333\n",
       "gl3_rh                       0.00556213\n",
       "start                          12390967\n",
       "strand                                +\n",
       "ucsc_name      chr7:12390967-12391360;+\n",
       "copy_number                           4\n",
       "Name: 14040, dtype: object"
      ]
     },
     "execution_count": 37,
     "metadata": {},
     "output_type": "execute_result"
    }
   ],
   "source": [
    "sorted_norm_sense.loc[14040, :]"
   ]
  },
  {
   "cell_type": "code",
   "execution_count": 38,
   "metadata": {},
   "outputs": [
    {
     "data": {
      "text/plain": [
       "158.23421365204783"
      ]
     },
     "execution_count": 38,
     "metadata": {},
     "output_type": "execute_result"
    }
   ],
   "source": [
    "1/(sorted_norm_sense.loc[:, ['gl3_2', 'gl3_3']].mean(axis=1).dropna()[1:].median())"
   ]
  },
  {
   "cell_type": "code",
   "execution_count": 39,
   "metadata": {},
   "outputs": [
    {
     "data": {
      "text/plain": [
       "301.05994199911214"
      ]
     },
     "execution_count": 39,
     "metadata": {},
     "output_type": "execute_result"
    }
   ],
   "source": [
    "1/(sorted_norm_sense.loc[:, ['drb_2', 'drb_3']].mean(axis=1).dropna()[1:].median())"
   ]
  },
  {
   "cell_type": "code",
   "execution_count": 40,
   "metadata": {},
   "outputs": [
    {
     "data": {
      "text/plain": [
       "188.18428623595508"
      ]
     },
     "execution_count": 40,
     "metadata": {},
     "output_type": "execute_result"
    }
   ],
   "source": [
    "1/(sorted_norm_sense.loc[:, ['dmso_2', 'dmso_3']].mean(axis=1).dropna()[1:].median())"
   ]
  },
  {
   "cell_type": "code",
   "execution_count": 41,
   "metadata": {},
   "outputs": [],
   "source": [
    "probs = sorted_norm_sense.loc[:, ['gl3_2', 'gl3_3']].mean(axis=1).dropna()[1:]"
   ]
  },
  {
   "cell_type": "code",
   "execution_count": 42,
   "metadata": {},
   "outputs": [
    {
     "data": {
      "text/plain": [
       "16884"
      ]
     },
     "execution_count": 42,
     "metadata": {},
     "output_type": "execute_result"
    }
   ],
   "source": [
    "len(probs)"
   ]
  },
  {
   "cell_type": "code",
   "execution_count": 43,
   "metadata": {},
   "outputs": [],
   "source": [
    "test_matrix = np.zeros((len(probs), 20000))"
   ]
  },
  {
   "cell_type": "code",
   "execution_count": 44,
   "metadata": {},
   "outputs": [
    {
     "name": "stdout",
     "output_type": "stream",
     "text": [
      "0.0\n",
      "0.005922767116796968\n",
      "0.011845534233593935\n",
      "0.017768301350390904\n",
      "0.02369106846718787\n",
      "0.029613835583984838\n",
      "0.03553660270078181\n",
      "0.04145936981757877\n",
      "0.04738213693437574\n",
      "0.053304904051172705\n",
      "0.059227671167969675\n",
      "0.06515043828476665\n",
      "0.07107320540156362\n",
      "0.07699597251836057\n",
      "0.08291873963515754\n",
      "0.08884150675195451\n",
      "0.09476427386875148\n",
      "0.10068704098554845\n",
      "0.10660980810234541\n",
      "0.11253257521914238\n",
      "0.11845534233593935\n",
      "0.12437810945273632\n",
      "0.1303008765695333\n",
      "0.13622364368633025\n",
      "0.14214641080312723\n",
      "0.1480691779199242\n",
      "0.15399194503672115\n",
      "0.15991471215351813\n",
      "0.16583747927031509\n",
      "0.17176024638711207\n",
      "0.17768301350390903\n",
      "0.18360578062070598\n",
      "0.18952854773750297\n",
      "0.19545131485429992\n",
      "0.2013740819710969\n",
      "0.20729684908789386\n",
      "0.21321961620469082\n",
      "0.2191423833214878\n",
      "0.22506515043828476\n",
      "0.23098791755508175\n",
      "0.2369106846718787\n",
      "0.24283345178867566\n",
      "0.24875621890547264\n",
      "0.2546789860222696\n",
      "0.2606017531390666\n",
      "0.26652452025586354\n",
      "0.2724472873726605\n",
      "0.27837005448945745\n",
      "0.28429282160625446\n",
      "0.2902155887230514\n",
      "0.2961383558398484\n",
      "0.30206112295664533\n",
      "0.3079838900734423\n",
      "0.3139066571902393\n",
      "0.31982942430703626\n",
      "0.3257521914238332\n",
      "0.33167495854063017\n",
      "0.33759772565742713\n",
      "0.34352049277422414\n",
      "0.3494432598910211\n",
      "0.35536602700781805\n",
      "0.361288794124615\n",
      "0.36721156124141197\n",
      "0.373134328358209\n",
      "0.37905709547500593\n",
      "0.3849798625918029\n",
      "0.39090262970859985\n",
      "0.3968253968253968\n",
      "0.4027481639421938\n",
      "0.40867093105899077\n",
      "0.41459369817578773\n",
      "0.4205164652925847\n",
      "0.42643923240938164\n",
      "0.43236199952617865\n",
      "0.4382847666429756\n",
      "0.44420753375977257\n",
      "0.4501303008765695\n",
      "0.4560530679933665\n",
      "0.4619758351101635\n",
      "0.46789860222696045\n",
      "0.4738213693437574\n",
      "0.47974413646055436\n",
      "0.4856669035773513\n",
      "0.49158967069414833\n",
      "0.4975124378109453\n",
      "0.5034352049277422\n",
      "0.5093579720445393\n",
      "0.5152807391613362\n",
      "0.5212035062781332\n",
      "0.5271262733949301\n",
      "0.5330490405117271\n",
      "0.538971807628524\n",
      "0.544894574745321\n",
      "0.550817341862118\n",
      "0.5567401089789149\n",
      "0.5626628760957119\n",
      "0.5685856432125089\n",
      "0.5745084103293059\n",
      "0.5804311774461028\n",
      "0.5863539445628998\n",
      "0.5922767116796968\n",
      "0.5981994787964937\n",
      "0.6041222459132907\n",
      "0.6100450130300876\n",
      "0.6159677801468846\n",
      "0.6218905472636815\n",
      "0.6278133143804786\n",
      "0.6337360814972756\n",
      "0.6396588486140725\n",
      "0.6455816157308695\n",
      "0.6515043828476664\n",
      "0.6574271499644634\n",
      "0.6633499170812603\n",
      "0.6692726841980573\n",
      "0.6751954513148543\n",
      "0.6811182184316512\n",
      "0.6870409855484483\n",
      "0.6929637526652452\n",
      "0.6988865197820422\n",
      "0.7048092868988391\n",
      "0.7107320540156361\n",
      "0.7166548211324331\n",
      "0.72257758824923\n",
      "0.728500355366027\n",
      "0.7344231224828239\n",
      "0.7403458895996209\n",
      "0.746268656716418\n",
      "0.7521914238332149\n",
      "0.7581141909500119\n",
      "0.7640369580668088\n",
      "0.7699597251836058\n",
      "0.7758824923004027\n",
      "0.7818052594171997\n",
      "0.7877280265339967\n",
      "0.7936507936507936\n",
      "0.7995735607675906\n",
      "0.8054963278843876\n",
      "0.8114190950011846\n",
      "0.8173418621179815\n",
      "0.8232646292347785\n",
      "0.8291873963515755\n",
      "0.8351101634683724\n",
      "0.8410329305851694\n",
      "0.8469556977019663\n",
      "0.8528784648187633\n",
      "0.8588012319355602\n",
      "0.8647239990523573\n",
      "0.8706467661691543\n",
      "0.8765695332859512\n",
      "0.8824923004027482\n",
      "0.8884150675195451\n",
      "0.8943378346363421\n",
      "0.900260601753139\n",
      "0.906183368869936\n",
      "0.912106135986733\n",
      "0.9180289031035299\n",
      "0.923951670220327\n",
      "0.9298744373371239\n",
      "0.9357972044539209\n",
      "0.9417199715707179\n",
      "0.9476427386875148\n",
      "0.9535655058043118\n",
      "0.9594882729211087\n",
      "0.9654110400379057\n",
      "0.9713338071547026\n",
      "0.9772565742714996\n",
      "0.9831793413882967\n",
      "0.9891021085050936\n",
      "0.9950248756218906\n"
     ]
    }
   ],
   "source": [
    "for i in range(len(probs)):\n",
    "    if not i % 100:\n",
    "        print(i / len(probs))\n",
    "    test_matrix[i, :] = (np.random.random(test_matrix.shape[1]) < probs.iloc[i])"
   ]
  },
  {
   "cell_type": "code",
   "execution_count": 45,
   "metadata": {},
   "outputs": [
    {
     "data": {
      "text/plain": [
       "101.0"
      ]
     },
     "execution_count": 45,
     "metadata": {},
     "output_type": "execute_result"
    }
   ],
   "source": [
    "min(test_matrix.sum(axis=0))"
   ]
  },
  {
   "cell_type": "code",
   "execution_count": 46,
   "metadata": {},
   "outputs": [
    {
     "data": {
      "text/plain": [
       "146.9709"
      ]
     },
     "execution_count": 46,
     "metadata": {},
     "output_type": "execute_result"
    }
   ],
   "source": [
    "test_matrix.sum(axis=0).mean()"
   ]
  },
  {
   "cell_type": "code",
   "execution_count": 47,
   "metadata": {},
   "outputs": [
    {
     "data": {
      "text/plain": [
       "197.0"
      ]
     },
     "execution_count": 47,
     "metadata": {},
     "output_type": "execute_result"
    }
   ],
   "source": [
    "max(test_matrix.sum(axis=0))"
   ]
  },
  {
   "cell_type": "code",
   "execution_count": 48,
   "metadata": {},
   "outputs": [],
   "source": [
    "test_matrix = test_matrix.T"
   ]
  },
  {
   "cell_type": "code",
   "execution_count": 49,
   "metadata": {},
   "outputs": [
    {
     "ename": "NameError",
     "evalue": "name 'allele_counts' is not defined",
     "output_type": "error",
     "traceback": [
      "\u001b[0;31m---------------------------------------------------------------------------\u001b[0m",
      "\u001b[0;31mNameError\u001b[0m                                 Traceback (most recent call last)",
      "\u001b[0;32m<ipython-input-49-aabed774ea6f>\u001b[0m in \u001b[0;36m<module>\u001b[0;34m()\u001b[0m\n\u001b[0;32m----> 1\u001b[0;31m \u001b[0mtotal_counts\u001b[0m \u001b[0;34m=\u001b[0m \u001b[0mallele_counts\u001b[0m\u001b[0;34m.\u001b[0m\u001b[0msum\u001b[0m\u001b[0;34m(\u001b[0m\u001b[0maxis\u001b[0m\u001b[0;34m=\u001b[0m\u001b[0;36m1\u001b[0m\u001b[0;34m)\u001b[0m\u001b[0;34m\u001b[0m\u001b[0;34m\u001b[0m\u001b[0m\n\u001b[0m",
      "\u001b[0;31mNameError\u001b[0m: name 'allele_counts' is not defined"
     ]
    }
   ],
   "source": [
    "total_counts = allele_counts.sum(axis=1)"
   ]
  },
  {
   "cell_type": "code",
   "execution_count": 50,
   "metadata": {},
   "outputs": [
    {
     "ename": "NameError",
     "evalue": "name 'total_counts' is not defined",
     "output_type": "error",
     "traceback": [
      "\u001b[0;31m---------------------------------------------------------------------------\u001b[0m",
      "\u001b[0;31mNameError\u001b[0m                                 Traceback (most recent call last)",
      "\u001b[0;32m<ipython-input-50-f6f6d848b039>\u001b[0m in \u001b[0;36m<module>\u001b[0;34m()\u001b[0m\n\u001b[0;32m----> 1\u001b[0;31m \u001b[0;34m(\u001b[0m\u001b[0;34m(\u001b[0m\u001b[0mtotal_counts\u001b[0m \u001b[0;34m<\u001b[0m \u001b[0;36m300\u001b[0m\u001b[0;34m)\u001b[0m \u001b[0;34m&\u001b[0m \u001b[0;34m(\u001b[0m\u001b[0mtotal_counts\u001b[0m \u001b[0;34m>=\u001b[0m \u001b[0;36m280\u001b[0m\u001b[0;34m)\u001b[0m\u001b[0;34m)\u001b[0m\u001b[0;34m.\u001b[0m\u001b[0mmean\u001b[0m\u001b[0;34m(\u001b[0m\u001b[0;34m)\u001b[0m\u001b[0;34m\u001b[0m\u001b[0;34m\u001b[0m\u001b[0m\n\u001b[0m",
      "\u001b[0;31mNameError\u001b[0m: name 'total_counts' is not defined"
     ]
    }
   ],
   "source": [
    "((total_counts < 300) & (total_counts >= 280)).mean()"
   ]
  },
  {
   "cell_type": "code",
   "execution_count": 51,
   "metadata": {},
   "outputs": [
    {
     "data": {
      "image/png": "[encoded data removed]",
      "text/plain": [
       "<matplotlib.figure.Figure at 0x115d64ba8>"
      ]
     },
     "metadata": {},
     "output_type": "display_data"
    }
   ],
   "source": [
    "fig, ax = plt.subplots(figsize=(3, 3))\n",
    "allele_counts = test_matrix[(len(test_matrix)//2):, :] + test_matrix[:len(test_matrix)//2, :]\n",
    "ax.hist(allele_counts.sum(axis=1), normed=True, bins = np.arange(200,400,20))\n",
    "ax.set_xlabel('Expected positive peaks')\n",
    "ax.set_ylabel('Fraction of simulated diploid cells')\n",
    "fig.savefig('Simulated-R-Loop-Counts.svg')"
   ]
  },
  {
   "cell_type": "code",
   "execution_count": 55,
   "metadata": {
    "scrolled": true
   },
   "outputs": [
    {
     "data": {
      "text/plain": [
       "(array([   0,    1,  188, 1804, 4343, 2997,  620,   47,    0]),\n",
       " array([200, 220, 240, 260, 280, 300, 320, 340, 360, 380]))"
      ]
     },
     "execution_count": 55,
     "metadata": {},
     "output_type": "execute_result"
    }
   ],
   "source": [
    "np.histogram(allele_counts.sum(axis=1), bins = np.arange(200,400,20))"
   ]
  },
  {
   "cell_type": "code",
   "execution_count": 56,
   "metadata": {},
   "outputs": [
    {
     "data": {
      "text/plain": [
       "10000"
      ]
     },
     "execution_count": 56,
     "metadata": {},
     "output_type": "execute_result"
    }
   ],
   "source": [
    "len(allele_counts)"
   ]
  },
  {
   "cell_type": "code",
   "execution_count": 214,
   "metadata": {
    "scrolled": true
   },
   "outputs": [
    {
     "data": {
      "text/plain": [
       "294.13429"
      ]
     },
     "execution_count": 214,
     "metadata": {},
     "output_type": "execute_result"
    }
   ],
   "source": [
    "np.mean(allele_counts.sum(axis=1))"
   ]
  },
  {
   "cell_type": "code",
   "execution_count": 215,
   "metadata": {},
   "outputs": [
    {
     "data": {
      "text/plain": [
       "17.042184020714597"
      ]
     },
     "execution_count": 215,
     "metadata": {},
     "output_type": "execute_result"
    }
   ],
   "source": [
    "np.std(allele_counts.sum(axis=1))"
   ]
  },
  {
   "cell_type": "code",
   "execution_count": 213,
   "metadata": {},
   "outputs": [
    {
     "data": {
      "text/plain": [
       "(261.0, 328.0)"
      ]
     },
     "execution_count": 213,
     "metadata": {},
     "output_type": "execute_result"
    }
   ],
   "source": [
    "np.percentile(allele_counts.sum(axis=1), 2.5), np.percentile(allele_counts.sum(axis=1), 97.5)"
   ]
  },
  {
   "cell_type": "code",
   "execution_count": 258,
   "metadata": {},
   "outputs": [
    {
     "data": {
      "text/plain": [
       "array([0.0096612 , 0.01001093, 0.00939891, ..., 0.00935519, 0.00900546,\n",
       "       0.0090929 ])"
      ]
     },
     "execution_count": 258,
     "metadata": {},
     "output_type": "execute_result"
    }
   ],
   "source": [
    "test_matrix.mean(axis=0)"
   ]
  },
  {
   "cell_type": "code",
   "execution_count": 244,
   "metadata": {},
   "outputs": [
    {
     "data": {
      "text/plain": [
       "array([0.93789791, 0.3246606 , 0.98181779, ..., 0.77410987, 0.17887379,\n",
       "       0.40856849])"
      ]
     },
     "execution_count": 244,
     "metadata": {},
     "output_type": "execute_result"
    }
   ],
   "source": [
    "np.random.random((100000))"
   ]
  },
  {
   "cell_type": "code",
   "execution_count": 247,
   "metadata": {},
   "outputs": [
    {
     "data": {
      "text/plain": [
       "733.0"
      ]
     },
     "execution_count": 247,
     "metadata": {},
     "output_type": "execute_result"
    }
   ],
   "source": [
    "test_matrix[4, :].sum()"
   ]
  },
  {
   "cell_type": "code",
   "execution_count": null,
   "metadata": {},
   "outputs": [],
   "source": []
  }
 ],
 "metadata": {
  "kernelspec": {
   "display_name": "Python 3",
   "language": "python",
   "name": "python3"
  },
  "language_info": {
   "codemirror_mode": {
    "name": "ipython",
    "version": 3
   },
   "file_extension": ".py",
   "mimetype": "text/x-python",
   "name": "python",
   "nbconvert_exporter": "python",
   "pygments_lexer": "ipython3",
   "version": "3.6.8"
  }
 },
 "nbformat": 4,
 "nbformat_minor": 2
}
