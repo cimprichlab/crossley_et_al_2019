{
 "cells": [
  {
   "cell_type": "code",
   "execution_count": 1,
   "metadata": {},
   "outputs": [],
   "source": [
    "%matplotlib inline\n",
    "\n",
    "import json\n",
    "import glob\n",
    "import re\n",
    "import itertools\n",
    "import functools\n",
    "\n",
    "import pandas as pd\n",
    "import numpy as np\n",
    "import matplotlib as mpl\n",
    "from matplotlib import pyplot as plt\n",
    "import seaborn as sns\n",
    "from scipy import stats\n",
    "\n",
    "mpl.rc('font', family='Arial', size=12)"
   ]
  },
  {
   "cell_type": "code",
   "execution_count": 3,
   "metadata": {},
   "outputs": [],
   "source": [
    "regions = pd.read_hdf('region_data.hdf')"
   ]
  },
  {
   "cell_type": "code",
   "execution_count": 4,
   "metadata": {},
   "outputs": [
    {
     "data": {
      "text/html": [
       "<div>\n",
       "<style scoped>\n",
       "    .dataframe tbody tr th:only-of-type {\n",
       "        vertical-align: middle;\n",
       "    }\n",
       "\n",
       "    .dataframe tbody tr th {\n",
       "        vertical-align: top;\n",
       "    }\n",
       "\n",
       "    .dataframe thead th {\n",
       "        text-align: right;\n",
       "    }\n",
       "</style>\n",
       "<table border=\"1\" class=\"dataframe\">\n",
       "  <thead>\n",
       "    <tr style=\"text-align: right;\">\n",
       "      <th></th>\n",
       "      <th>ucsc_name</th>\n",
       "      <th>distance_from_tss</th>\n",
       "      <th>value</th>\n",
       "      <th>speed_compared_to_avg</th>\n",
       "      <th>est_time</th>\n",
       "      <th>z_score</th>\n",
       "      <th>chr</th>\n",
       "      <th>start</th>\n",
       "      <th>end</th>\n",
       "      <th>strand</th>\n",
       "      <th>region_start</th>\n",
       "      <th>region_end</th>\n",
       "    </tr>\n",
       "  </thead>\n",
       "  <tbody>\n",
       "    <tr>\n",
       "      <th>15</th>\n",
       "      <td>chr10:118297929-118342320;-</td>\n",
       "      <td>7.5</td>\n",
       "      <td>0.258502</td>\n",
       "      <td>ns</td>\n",
       "      <td>37.938144</td>\n",
       "      <td>0.724711</td>\n",
       "      <td>chr10</td>\n",
       "      <td>118297929</td>\n",
       "      <td>118342320</td>\n",
       "      <td>-</td>\n",
       "      <td>118334320</td>\n",
       "      <td>118334820</td>\n",
       "    </tr>\n",
       "    <tr>\n",
       "      <th>16</th>\n",
       "      <td>chr10:118297929-118342320;-</td>\n",
       "      <td>8.0</td>\n",
       "      <td>0.187937</td>\n",
       "      <td>ns</td>\n",
       "      <td>37.800687</td>\n",
       "      <td>0.022173</td>\n",
       "      <td>chr10</td>\n",
       "      <td>118297929</td>\n",
       "      <td>118342320</td>\n",
       "      <td>-</td>\n",
       "      <td>118333820</td>\n",
       "      <td>118334320</td>\n",
       "    </tr>\n",
       "    <tr>\n",
       "      <th>17</th>\n",
       "      <td>chr10:118297929-118342320;-</td>\n",
       "      <td>8.5</td>\n",
       "      <td>0.104001</td>\n",
       "      <td>ns</td>\n",
       "      <td>37.663230</td>\n",
       "      <td>-0.813502</td>\n",
       "      <td>chr10</td>\n",
       "      <td>118297929</td>\n",
       "      <td>118342320</td>\n",
       "      <td>-</td>\n",
       "      <td>118333320</td>\n",
       "      <td>118333820</td>\n",
       "    </tr>\n",
       "    <tr>\n",
       "      <th>18</th>\n",
       "      <td>chr10:118297929-118342320;-</td>\n",
       "      <td>9.0</td>\n",
       "      <td>0.059831</td>\n",
       "      <td>faster</td>\n",
       "      <td>37.525773</td>\n",
       "      <td>-1.253261</td>\n",
       "      <td>chr10</td>\n",
       "      <td>118297929</td>\n",
       "      <td>118342320</td>\n",
       "      <td>-</td>\n",
       "      <td>118332820</td>\n",
       "      <td>118333320</td>\n",
       "    </tr>\n",
       "    <tr>\n",
       "      <th>19</th>\n",
       "      <td>chr10:118297929-118342320;-</td>\n",
       "      <td>9.5</td>\n",
       "      <td>0.343333</td>\n",
       "      <td>slower</td>\n",
       "      <td>37.388316</td>\n",
       "      <td>2.608990</td>\n",
       "      <td>chr10</td>\n",
       "      <td>118297929</td>\n",
       "      <td>118342320</td>\n",
       "      <td>-</td>\n",
       "      <td>118332320</td>\n",
       "      <td>118332820</td>\n",
       "    </tr>\n",
       "  </tbody>\n",
       "</table>\n",
       "</div>"
      ],
      "text/plain": [
       "                      ucsc_name  distance_from_tss     value  \\\n",
       "15  chr10:118297929-118342320;-                7.5  0.258502   \n",
       "16  chr10:118297929-118342320;-                8.0  0.187937   \n",
       "17  chr10:118297929-118342320;-                8.5  0.104001   \n",
       "18  chr10:118297929-118342320;-                9.0  0.059831   \n",
       "19  chr10:118297929-118342320;-                9.5  0.343333   \n",
       "\n",
       "   speed_compared_to_avg   est_time   z_score    chr      start        end  \\\n",
       "15                    ns  37.938144  0.724711  chr10  118297929  118342320   \n",
       "16                    ns  37.800687  0.022173  chr10  118297929  118342320   \n",
       "17                    ns  37.663230 -0.813502  chr10  118297929  118342320   \n",
       "18                faster  37.525773 -1.253261  chr10  118297929  118342320   \n",
       "19                slower  37.388316  2.608990  chr10  118297929  118342320   \n",
       "\n",
       "   strand  region_start  region_end  \n",
       "15      -     118334320   118334820  \n",
       "16      -     118333820   118334320  \n",
       "17      -     118333320   118333820  \n",
       "18      -     118332820   118333320  \n",
       "19      -     118332320   118332820  "
      ]
     },
     "execution_count": 4,
     "metadata": {},
     "output_type": "execute_result"
    }
   ],
   "source": [
    "regions.head()"
   ]
  },
  {
   "cell_type": "code",
   "execution_count": 18,
   "metadata": {},
   "outputs": [],
   "source": [
    "regions['gene_length'] = (regions.end - regions.start)"
   ]
  },
  {
   "cell_type": "code",
   "execution_count": 22,
   "metadata": {},
   "outputs": [],
   "source": [
    "regions['pct_through'] = regions.distance_from_tss / (regions.gene_length / 1e3)"
   ]
  },
  {
   "cell_type": "code",
   "execution_count": null,
   "metadata": {},
   "outputs": [],
   "source": []
  },
  {
   "cell_type": "code",
   "execution_count": 6,
   "metadata": {},
   "outputs": [
    {
     "data": {
      "text/plain": [
       "<matplotlib.axes._subplots.AxesSubplot at 0x10d3d8fd0>"
      ]
     },
     "execution_count": 6,
     "metadata": {},
     "output_type": "execute_result"
    },
    {
     "data": {
      "image/png": "[encoded data removed]",
      "text/plain": [
       "<matplotlib.figure.Figure at 0x10d3ff5c0>"
      ]
     },
     "metadata": {},
     "output_type": "display_data"
    }
   ],
   "source": [
    "regions.plot.scatter('distance_from_tss', 'est_time')"
   ]
  },
  {
   "cell_type": "code",
   "execution_count": 24,
   "metadata": {},
   "outputs": [
    {
     "data": {
      "text/plain": [
       "speed_compared_to_avg\n",
       "faster    0.523710\n",
       "ns        0.600088\n",
       "slower    0.598552\n",
       "Name: pct_through, dtype: float64"
      ]
     },
     "execution_count": 24,
     "metadata": {},
     "output_type": "execute_result"
    }
   ],
   "source": [
    "regions.groupby('speed_compared_to_avg').pct_through.mean()"
   ]
  },
  {
   "cell_type": "code",
   "execution_count": 25,
   "metadata": {},
   "outputs": [
    {
     "data": {
      "text/plain": [
       "KruskalResult(statistic=128.39955180623355, pvalue=1.3133835904064363e-28)"
      ]
     },
     "execution_count": 25,
     "metadata": {},
     "output_type": "execute_result"
    }
   ],
   "source": [
    "stats.kruskal(regions.loc[regions.speed_compared_to_avg == 'slower', 'pct_through'], \n",
    "              regions.loc[regions.speed_compared_to_avg == 'ns', 'pct_through'], \n",
    "              regions.loc[regions.speed_compared_to_avg == 'faster', 'pct_through'])"
   ]
  },
  {
   "cell_type": "code",
   "execution_count": 26,
   "metadata": {},
   "outputs": [
    {
     "data": {
      "image/png": "[encoded data removed]",
      "text/plain": [
       "<matplotlib.figure.Figure at 0x1a15ee1160>"
      ]
     },
     "metadata": {},
     "output_type": "display_data"
    }
   ],
   "source": [
    "fig,ax = plt.subplots(figsize=(3.5,1.5))\n",
    "sns.violinplot(\n",
    " x = 'speed_compared_to_avg',\n",
    " y = 'pct_through',\n",
    " data = regions,\n",
    " order = ['faster', 'ns', 'slower'],\n",
    " palette=['#cf363f','#abcdef', '#6366cf'],\n",
    " ax=ax\n",
    ")\n",
    "ax.set_ylabel('Distance from TSS', fontsize=12)\n",
    "ax.set_xlabel('')\n",
    "ax.set_xticklabels(['Less stable', 'NS', 'More stable'], fontsize=12)\n",
    "fig.tight_layout()\n",
    "fig.savefig('Correlation_to_position.svg', transparent=True)"
   ]
  },
  {
   "cell_type": "code",
   "execution_count": 28,
   "metadata": {},
   "outputs": [
    {
     "data": {
      "image/png": "[encoded data removed]",
      "text/plain": [
       "<matplotlib.figure.Figure at 0x10484a518>"
      ]
     },
     "metadata": {},
     "output_type": "display_data"
    }
   ],
   "source": [
    "fig,ax = plt.subplots(figsize=(3.5,1.5))\n",
    "sns.violinplot(\n",
    " x = 'speed_compared_to_avg',\n",
    " y = 'pct_through',\n",
    " data = regions,\n",
    " order = ['faster', 'ns', 'slower'],\n",
    " palette=['#cf363f','#abcdef', '#6366cf'],\n",
    " ax=ax\n",
    ")\n",
    "ax.set_ylabel('', fontsize=12)\n",
    "ax.set_xlabel('')\n",
    "ax.set_xticklabels(['', '', ''], fontsize=12)\n",
    "ax.set_yticklabels('')\n",
    "fig.tight_layout()\n",
    "fig.savefig('Correlation_to_position_nolabel.svg', transparent=True)"
   ]
  },
  {
   "cell_type": "code",
   "execution_count": 16,
   "metadata": {},
   "outputs": [
    {
     "name": "stdout",
     "output_type": "stream",
     "text": [
      "cimprich@cimprichserver.stanford.edu:/Volumes/Pegasus/DRIP_spike_in/qdrip/notebooks/lifetimes\r\n"
     ]
    }
   ],
   "source": [
    "!echo $(whoami)@$HOSTNAME:$(pwd)"
   ]
  },
  {
   "cell_type": "code",
   "execution_count": null,
   "metadata": {},
   "outputs": [],
   "source": []
  }
 ],
 "metadata": {
  "kernelspec": {
   "display_name": "Python 3",
   "language": "python",
   "name": "python3"
  },
  "language_info": {
   "codemirror_mode": {
    "name": "ipython",
    "version": 3
   },
   "file_extension": ".py",
   "mimetype": "text/x-python",
   "name": "python",
   "nbconvert_exporter": "python",
   "pygments_lexer": "ipython3",
   "version": "3.6.8"
  }
 },
 "nbformat": 4,
 "nbformat_minor": 2
}
