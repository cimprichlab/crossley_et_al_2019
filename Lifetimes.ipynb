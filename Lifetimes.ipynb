{
 "cells": [
  {
   "cell_type": "code",
   "execution_count": 1,
   "metadata": {},
   "outputs": [
    {
     "name": "stderr",
     "output_type": "stream",
     "text": [
      "/Users/cimprich/anaconda/lib/python3.6/site-packages/statsmodels/compat/pandas.py:56: FutureWarning: The pandas.core.datetools module is deprecated and will be removed in a future version. Please use the pandas.tseries module instead.\n",
      "  from pandas.core import datetools\n"
     ]
    }
   ],
   "source": [
    "%matplotlib inline\n",
    "\n",
    "import json\n",
    "import glob\n",
    "import re\n",
    "import itertools\n",
    "import functools\n",
    "\n",
    "import pandas as pd\n",
    "import numpy as np\n",
    "from matplotlib import pyplot as plt\n",
    "import matplotlib as mpl\n",
    "import seaborn as sns\n",
    "import statsmodels.api as sm"
   ]
  },
  {
   "cell_type": "code",
   "execution_count": 2,
   "metadata": {},
   "outputs": [],
   "source": [
    "mpl.rc('font', family='Arial', size=12)\n",
    "mpl.rc('text', usetex=False)"
   ]
  },
  {
   "cell_type": "code",
   "execution_count": 3,
   "metadata": {},
   "outputs": [],
   "source": [
    "with open('../../pair_counts.json') as f:\n",
    "    read_pairs = json.load(f)\n",
    "million_mapped = {k: v/2e6 for k, v in read_pairs.items()}\n",
    "with open('../../mean_spikein_counts.json', 'r') as f:\n",
    "    mean_spike_counts = json.load(f)"
   ]
  },
  {
   "cell_type": "code",
   "execution_count": 4,
   "metadata": {},
   "outputs": [],
   "source": [
    "used_regions = pd.read_csv('../../natural_timecourse/genes_with_drip_peak.bed', sep='\\t',\n",
    "                           names = ('chr', 'start', 'end', 'name', 'value', 'strand')\n",
    "                          )"
   ]
  },
  {
   "cell_type": "code",
   "execution_count": 5,
   "metadata": {},
   "outputs": [],
   "source": [
    "associated_peaks = pd.read_csv('../../natural_timecourse/genes_and_drip_peaks_together.bed', sep='\\t',\n",
    "                            names = ('chr_gene', 'start_gene', 'end_gene', 'name_gene', 'expr', 'strand_gene',\n",
    "                                     'chr_peak', 'start_peak', 'end_peak', 'x', 'y', 'strand_peak', 'overlap'\n",
    "                                    ),\n",
    "                            usecols = ('chr_gene', 'start_gene', 'end_gene', 'name_gene', 'expr', 'strand_gene',\n",
    "                                       'chr_peak', 'start_peak', 'end_peak', 'strand_peak', 'overlap'\n",
    "                                      )\n",
    "                           )"
   ]
  },
  {
   "cell_type": "code",
   "execution_count": 6,
   "metadata": {},
   "outputs": [
    {
     "data": {
      "text/html": [
       "<div>\n",
       "<style scoped>\n",
       "    .dataframe tbody tr th:only-of-type {\n",
       "        vertical-align: middle;\n",
       "    }\n",
       "\n",
       "    .dataframe tbody tr th {\n",
       "        vertical-align: top;\n",
       "    }\n",
       "\n",
       "    .dataframe thead th {\n",
       "        text-align: right;\n",
       "    }\n",
       "</style>\n",
       "<table border=\"1\" class=\"dataframe\">\n",
       "  <thead>\n",
       "    <tr style=\"text-align: right;\">\n",
       "      <th></th>\n",
       "      <th>chr_gene</th>\n",
       "      <th>start_gene</th>\n",
       "      <th>end_gene</th>\n",
       "      <th>name_gene</th>\n",
       "      <th>expr</th>\n",
       "      <th>strand_gene</th>\n",
       "      <th>chr_peak</th>\n",
       "      <th>start_peak</th>\n",
       "      <th>end_peak</th>\n",
       "      <th>strand_peak</th>\n",
       "      <th>overlap</th>\n",
       "    </tr>\n",
       "  </thead>\n",
       "  <tbody>\n",
       "    <tr>\n",
       "      <th>0</th>\n",
       "      <td>chr1</td>\n",
       "      <td>1324766</td>\n",
       "      <td>1328897</td>\n",
       "      <td>ENST00000343938.8</td>\n",
       "      <td>146</td>\n",
       "      <td>+</td>\n",
       "      <td>chr1</td>\n",
       "      <td>1328847</td>\n",
       "      <td>1337532</td>\n",
       "      <td>-</td>\n",
       "      <td>50</td>\n",
       "    </tr>\n",
       "    <tr>\n",
       "      <th>1</th>\n",
       "      <td>chr1</td>\n",
       "      <td>1331313</td>\n",
       "      <td>1335306</td>\n",
       "      <td>ENST00000339381.5</td>\n",
       "      <td>37</td>\n",
       "      <td>+</td>\n",
       "      <td>chr1</td>\n",
       "      <td>1328847</td>\n",
       "      <td>1337532</td>\n",
       "      <td>-</td>\n",
       "      <td>3993</td>\n",
       "    </tr>\n",
       "    <tr>\n",
       "      <th>2</th>\n",
       "      <td>chr1</td>\n",
       "      <td>1335275</td>\n",
       "      <td>1349112</td>\n",
       "      <td>ENST00000378891.9</td>\n",
       "      <td>493</td>\n",
       "      <td>-</td>\n",
       "      <td>chr1</td>\n",
       "      <td>1328847</td>\n",
       "      <td>1337532</td>\n",
       "      <td>-</td>\n",
       "      <td>2257</td>\n",
       "    </tr>\n",
       "    <tr>\n",
       "      <th>3</th>\n",
       "      <td>chr1</td>\n",
       "      <td>1785284</td>\n",
       "      <td>1891117</td>\n",
       "      <td>ENST00000610897.4</td>\n",
       "      <td>2382</td>\n",
       "      <td>-</td>\n",
       "      <td>chr1</td>\n",
       "      <td>1829772</td>\n",
       "      <td>1830294</td>\n",
       "      <td>-</td>\n",
       "      <td>522</td>\n",
       "    </tr>\n",
       "    <tr>\n",
       "      <th>4</th>\n",
       "      <td>chr1</td>\n",
       "      <td>1785284</td>\n",
       "      <td>1891117</td>\n",
       "      <td>ENST00000610897.4</td>\n",
       "      <td>2382</td>\n",
       "      <td>-</td>\n",
       "      <td>chr1</td>\n",
       "      <td>1856627</td>\n",
       "      <td>1858640</td>\n",
       "      <td>-</td>\n",
       "      <td>2013</td>\n",
       "    </tr>\n",
       "  </tbody>\n",
       "</table>\n",
       "</div>"
      ],
      "text/plain": [
       "  chr_gene  start_gene  end_gene          name_gene  expr strand_gene  \\\n",
       "0     chr1     1324766   1328897  ENST00000343938.8   146           +   \n",
       "1     chr1     1331313   1335306  ENST00000339381.5    37           +   \n",
       "2     chr1     1335275   1349112  ENST00000378891.9   493           -   \n",
       "3     chr1     1785284   1891117  ENST00000610897.4  2382           -   \n",
       "4     chr1     1785284   1891117  ENST00000610897.4  2382           -   \n",
       "\n",
       "  chr_peak  start_peak  end_peak strand_peak  overlap  \n",
       "0     chr1     1328847   1337532           -       50  \n",
       "1     chr1     1328847   1337532           -     3993  \n",
       "2     chr1     1328847   1337532           -     2257  \n",
       "3     chr1     1829772   1830294           -      522  \n",
       "4     chr1     1856627   1858640           -     2013  "
      ]
     },
     "execution_count": 6,
     "metadata": {},
     "output_type": "execute_result"
    }
   ],
   "source": [
    "associated_peaks.head()"
   ]
  },
  {
   "cell_type": "code",
   "execution_count": 7,
   "metadata": {},
   "outputs": [],
   "source": [
    "def ucsc_index(df):\n",
    "    return df.chr.str.cat(df.start.astype(str).str.cat(df.end.astype(str).str.cat(df.strand, sep=';'), sep='-'), sep=':')\n"
   ]
  },
  {
   "cell_type": "code",
   "execution_count": 8,
   "metadata": {},
   "outputs": [],
   "source": [
    "used_regions['ucsc_name'] = ucsc_index(used_regions)"
   ]
  },
  {
   "cell_type": "code",
   "execution_count": 9,
   "metadata": {},
   "outputs": [
    {
     "data": {
      "text/plain": [
       "{'chr_gene': 'chr',\n",
       " 'chr_peak': 'chr_peak',\n",
       " 'end_gene': 'end',\n",
       " 'end_peak': 'end_peak',\n",
       " 'expr': 'expr',\n",
       " 'name_gene': 'name',\n",
       " 'overlap': 'overlap',\n",
       " 'start_gene': 'start',\n",
       " 'start_peak': 'start_peak',\n",
       " 'strand_gene': 'strand',\n",
       " 'strand_peak': 'strand_peak'}"
      ]
     },
     "execution_count": 9,
     "metadata": {},
     "output_type": "execute_result"
    }
   ],
   "source": [
    "{i:i.replace('_gene', '') for i in associated_peaks.columns}"
   ]
  },
  {
   "cell_type": "code",
   "execution_count": 10,
   "metadata": {},
   "outputs": [],
   "source": [
    "associated_peaks['ucsc_index'] = ucsc_index(associated_peaks.rename(columns={i:i.replace('_gene', '') for i in associated_peaks.columns}))"
   ]
  },
  {
   "cell_type": "code",
   "execution_count": 11,
   "metadata": {},
   "outputs": [],
   "source": [
    "region_mask = pd.read_hdf('region_mask.hdf')"
   ]
  },
  {
   "cell_type": "code",
   "execution_count": 12,
   "metadata": {},
   "outputs": [
    {
     "data": {
      "text/plain": [
       "(array([  0.,   0.,   3.,   0.,   0.,   0.,   0.,   0.,   0.,   1.,   0.,\n",
       "          0.,   0.,   0.,   0.,   0.,   0.,   1.,   0.,   0.,   0.,   0.,\n",
       "          0.,   1.,   0.,   2.,   0.,   0.,   0.,   0.,   2.,   1.,   0.,\n",
       "          2.,   0.,   1.,   0.,   0.,   2.,   1.,   0.,   1.,   2.,   2.,\n",
       "          0.,   1.,   2.,   5.,   1.,   0.,   2.,   1.,   2.,   4.,   4.,\n",
       "          2.,   5.,   5.,   6.,   4.,   7.,   5.,   6.,   8.,   8.,   7.,\n",
       "          7.,   6.,  17.,  10.,   5.,  11.,  14.,  18.,  19.,  19.,  18.,\n",
       "         23.,  20.,  20.,  22.,  41.,  32.,  36.,  45.,  66.,  57.,  65.,\n",
       "         86.,  86., 103., 123., 153., 198., 259., 225., 333., 437., 864.]),\n",
       " array([0.  , 0.01, 0.02, 0.03, 0.04, 0.05, 0.06, 0.07, 0.08, 0.09, 0.1 ,\n",
       "        0.11, 0.12, 0.13, 0.14, 0.15, 0.16, 0.17, 0.18, 0.19, 0.2 , 0.21,\n",
       "        0.22, 0.23, 0.24, 0.25, 0.26, 0.27, 0.28, 0.29, 0.3 , 0.31, 0.32,\n",
       "        0.33, 0.34, 0.35, 0.36, 0.37, 0.38, 0.39, 0.4 , 0.41, 0.42, 0.43,\n",
       "        0.44, 0.45, 0.46, 0.47, 0.48, 0.49, 0.5 , 0.51, 0.52, 0.53, 0.54,\n",
       "        0.55, 0.56, 0.57, 0.58, 0.59, 0.6 , 0.61, 0.62, 0.63, 0.64, 0.65,\n",
       "        0.66, 0.67, 0.68, 0.69, 0.7 , 0.71, 0.72, 0.73, 0.74, 0.75, 0.76,\n",
       "        0.77, 0.78, 0.79, 0.8 , 0.81, 0.82, 0.83, 0.84, 0.85, 0.86, 0.87,\n",
       "        0.88, 0.89, 0.9 , 0.91, 0.92, 0.93, 0.94, 0.95, 0.96, 0.97, 0.98,\n",
       "        0.99]),\n",
       " <a list of 99 Patch objects>)"
      ]
     },
     "execution_count": 12,
     "metadata": {},
     "output_type": "execute_result"
    },
    {
     "data": {
      "image/png": "[encoded data removed]",
      "text/plain": [
       "<matplotlib.figure.Figure at 0x1c15ba9668>"
      ]
     },
     "metadata": {},
     "output_type": "display_data"
    }
   ],
   "source": [
    "fig,ax=plt.subplots()\n",
    "ax.hist(region_mask.isna().mean(axis=1), bins=np.arange(0, 1.0, 0.01))"
   ]
  },
  {
   "cell_type": "markdown",
   "metadata": {},
   "source": [
    "# Load data"
   ]
  },
  {
   "cell_type": "code",
   "execution_count": 13,
   "metadata": {},
   "outputs": [],
   "source": [
    "def read_matrix_file(f):\n",
    "    temp = pd.read_csv(f, compression='gzip', comment='@', sep='\\t', header=None)\n",
    "    # Generate a UCSC style description of the peak coordinates\n",
    "    ucsc_idx = (temp.iloc[:, 0].str.cat(\n",
    "                    temp.iloc[:, 1].astype(str).str.cat(\n",
    "                        temp.iloc[:, 2].astype(str).str.cat( \n",
    "                            temp.iloc[:, 5].astype(str), sep = ';'),\n",
    "                    sep= '-'), \n",
    "                sep=':'))\n",
    "    # Drop the first 6 columns, which here act as a descriptor\n",
    "    temp = temp.set_index(ucsc_idx).drop(range(6), axis=1).fillna(0)\n",
    "    temp.columns = temp.columns - 6\n",
    "    return temp"
   ]
  },
  {
   "cell_type": "code",
   "execution_count": 14,
   "metadata": {},
   "outputs": [],
   "source": [
    "def load_from_directory(directory, file_ext = 'temp'):\n",
    "    file_extractor = re.compile(f'/([^/]+)\\.([mp]){file_ext}')\n",
    "    data = {}\n",
    "    for file in glob.glob(f'{directory}/*{file_ext}'):\n",
    "        data[file_extractor.findall(file)[0]] = read_matrix_file(file)\n",
    "    return data"
   ]
  },
  {
   "cell_type": "code",
   "execution_count": 15,
   "metadata": {},
   "outputs": [],
   "source": [
    "raw_data = load_from_directory('../../natural_timecourse/overlaps/')"
   ]
  },
  {
   "cell_type": "code",
   "execution_count": 16,
   "metadata": {},
   "outputs": [
    {
     "data": {
      "text/plain": [
       "dict_keys([('dmso_2', 'm'), ('dmso_2', 'p'), ('dmso_3', 'm'), ('dmso_3', 'p'), ('dmso_in', 'm'), ('dmso_in', 'p'), ('drb_2', 'm'), ('drb_2', 'p'), ('drb_3', 'm'), ('drb_3', 'p'), ('drb_in', 'm'), ('drb_in', 'p'), ('drb_rh', 'm'), ('drb_rh', 'p')])"
      ]
     },
     "execution_count": 16,
     "metadata": {},
     "output_type": "execute_result"
    }
   ],
   "source": [
    "raw_data.keys()"
   ]
  },
  {
   "cell_type": "code",
   "execution_count": 17,
   "metadata": {},
   "outputs": [],
   "source": [
    "def seperate_sense_antisense(raw_data):\n",
    "    sense_data = {k[0]: v.copy() for k,v in raw_data.items() if k[1] == 'm'}\n",
    "    antisense_data = {k[0]: v.copy() for k,v in raw_data.items() if k[1] == 'p'}\n",
    "    for sample_name, mat in sense_data.items():\n",
    "        mat.loc[mat.index.str.contains(';-'), :] = raw_data[(sample_name, 'p')].loc[mat.index.str.contains(';-'), :]\n",
    "    for sample_name, mat in antisense_data.items():\n",
    "        mat.loc[mat.index.str.contains(';-'), :] = raw_data[(sample_name, 'm')].loc[mat.index.str.contains(';-'), :]\n",
    "    return sense_data, antisense_data"
   ]
  },
  {
   "cell_type": "code",
   "execution_count": 18,
   "metadata": {},
   "outputs": [],
   "source": [
    "sense, antisense = seperate_sense_antisense(raw_data)"
   ]
  },
  {
   "cell_type": "markdown",
   "metadata": {},
   "source": [
    "# Analysis with spikeins "
   ]
  },
  {
   "cell_type": "code",
   "execution_count": 19,
   "metadata": {},
   "outputs": [],
   "source": [
    "mean_dmso = (sense['dmso_2']/mean_spike_counts['dmso_2'] + \n",
    "             sense['dmso_3']/mean_spike_counts['dmso_3'])/2\n",
    "mean_drb = (sense['drb_2']/mean_spike_counts['drb_2'] + \n",
    "             sense['drb_3']/mean_spike_counts['drb_3'])/2"
   ]
  },
  {
   "cell_type": "code",
   "execution_count": 20,
   "metadata": {},
   "outputs": [
    {
     "data": {
      "text/plain": [
       "[<matplotlib.lines.Line2D at 0x1c2342c9b0>]"
      ]
     },
     "execution_count": 20,
     "metadata": {},
     "output_type": "execute_result"
    },
    {
     "data": {
      "image/png": "[encoded data removed]",
      "text/plain": [
       "<matplotlib.figure.Figure at 0x1c27f6a358>"
      ]
     },
     "metadata": {},
     "output_type": "display_data"
    }
   ],
   "source": [
    "plt.plot(np.nanmean(mean_dmso * region_mask, axis=0))\n",
    "plt.plot(np.nanmean(mean_drb * region_mask, axis=0))"
   ]
  },
  {
   "cell_type": "code",
   "execution_count": 21,
   "metadata": {},
   "outputs": [],
   "source": [
    "pct_remaining = mean_drb / mean_dmso"
   ]
  },
  {
   "cell_type": "code",
   "execution_count": 22,
   "metadata": {},
   "outputs": [],
   "source": [
    "pct_remaining[pct_remaining == np.inf] = np.nan\n",
    "pct_remaining[pct_remaining == -np.inf] = np.nan"
   ]
  },
  {
   "cell_type": "code",
   "execution_count": 23,
   "metadata": {},
   "outputs": [],
   "source": [
    "def bootstrap_samples(mat, n_samples, agg_func = np.mean, verbose=False, sample_name = ''):\n",
    "    agg_func = functools.partial(agg_func, axis=0)\n",
    "    boot_samples = np.empty((n_samples, mat.shape[1]), dtype=np.float32)\n",
    "    for i in range(n_samples):\n",
    "        if verbose and not i % (n_samples // 25):\n",
    "            print(sample_name, (i / n_samples) * 100)\n",
    "        boot_samples[i, :] = agg_func(mat[np.random.choice(len(mat), len(mat), replace=True), :])\n",
    "    return boot_samples"
   ]
  },
  {
   "cell_type": "code",
   "execution_count": 24,
   "metadata": {},
   "outputs": [],
   "source": [
    "filtered_data = (pct_remaining * region_mask)"
   ]
  },
  {
   "cell_type": "code",
   "execution_count": 25,
   "metadata": {},
   "outputs": [],
   "source": [
    "filtered_data = filtered_data.loc[filtered_data.isna().sum(axis=1) < 400, :]"
   ]
  },
  {
   "cell_type": "code",
   "execution_count": 26,
   "metadata": {},
   "outputs": [
    {
     "name": "stdout",
     "output_type": "stream",
     "text": [
      "DMSO_vs_DRB 0.0\n"
     ]
    },
    {
     "name": "stderr",
     "output_type": "stream",
     "text": [
      "/Users/cimprich/anaconda/lib/python3.6/site-packages/ipykernel_launcher.py:7: RuntimeWarning: Mean of empty slice\n",
      "  import sys\n"
     ]
    },
    {
     "name": "stdout",
     "output_type": "stream",
     "text": [
      "DMSO_vs_DRB 4.0\n",
      "DMSO_vs_DRB 8.0\n",
      "DMSO_vs_DRB 12.0\n",
      "DMSO_vs_DRB 16.0\n",
      "DMSO_vs_DRB 20.0\n",
      "DMSO_vs_DRB 24.0\n",
      "DMSO_vs_DRB 28.000000000000004\n",
      "DMSO_vs_DRB 32.0\n",
      "DMSO_vs_DRB 36.0\n",
      "DMSO_vs_DRB 40.0\n",
      "DMSO_vs_DRB 44.0\n",
      "DMSO_vs_DRB 48.0\n",
      "DMSO_vs_DRB 52.0\n",
      "DMSO_vs_DRB 56.00000000000001\n",
      "DMSO_vs_DRB 60.0\n",
      "DMSO_vs_DRB 64.0\n",
      "DMSO_vs_DRB 68.0\n",
      "DMSO_vs_DRB 72.0\n",
      "DMSO_vs_DRB 76.0\n",
      "DMSO_vs_DRB 80.0\n",
      "DMSO_vs_DRB 84.0\n",
      "DMSO_vs_DRB 88.0\n",
      "DMSO_vs_DRB 92.0\n",
      "DMSO_vs_DRB 96.0\n"
     ]
    }
   ],
   "source": [
    "boot_samples = bootstrap_samples((filtered_data).as_matrix(),\n",
    "                                 10000, \n",
    "                                 agg_func=np.nanmean, \n",
    "                                 verbose=True, \n",
    "                                 sample_name= 'DMSO_vs_DRB')"
   ]
  },
  {
   "cell_type": "code",
   "execution_count": 27,
   "metadata": {},
   "outputs": [],
   "source": [
    "def mean_95_ci(ax, mat, x = None, color='blue'):\n",
    "    if x is None:\n",
    "        x = np.arange(0, mat.shape[1], 1)\n",
    "    ax.plot(x, mat.mean(axis=0), color=color)\n",
    "    ax.fill_between(x, \n",
    "                    np.percentile(mat, 2.5, axis=0), \n",
    "                    np.percentile(mat, 97.5, axis=0),\n",
    "                    alpha = 0.5, color=color)"
   ]
  },
  {
   "cell_type": "code",
   "execution_count": 28,
   "metadata": {},
   "outputs": [
    {
     "name": "stderr",
     "output_type": "stream",
     "text": [
      "/Users/cimprich/anaconda/lib/python3.6/site-packages/numpy/lib/function_base.py:4291: RuntimeWarning: Invalid value encountered in percentile\n",
      "  interpolation=interpolation)\n"
     ]
    },
    {
     "data": {
      "text/plain": [
       "Text(0.5,0,'')"
      ]
     },
     "execution_count": 28,
     "metadata": {},
     "output_type": "execute_result"
    },
    {
     "data": {
      "image/png": "[encoded data removed]",
      "text/plain": [
       "<matplotlib.figure.Figure at 0x1c28817cc0>"
      ]
     },
     "metadata": {},
     "output_type": "display_data"
    }
   ],
   "source": [
    "fig, ax = plt.subplots()\n",
    "\n",
    "mean_95_ci(ax, boot_samples, x=np.arange(0, 200, 0.5))\n",
    "ax.set_xlim(20, 140)\n",
    "#ax.set_ylim(0, 1)\n",
    "ax.set_xlabel('')"
   ]
  },
  {
   "cell_type": "code",
   "execution_count": 29,
   "metadata": {},
   "outputs": [],
   "source": [
    "raw_data = pd.melt((pct_remaining * region_mask).reset_index(), id_vars = 'index').dropna()"
   ]
  },
  {
   "cell_type": "code",
   "execution_count": 30,
   "metadata": {},
   "outputs": [
    {
     "data": {
      "text/plain": [
       "(0, 1)"
      ]
     },
     "execution_count": 30,
     "metadata": {},
     "output_type": "execute_result"
    },
    {
     "data": {
      "image/png": "[encoded data removed]",
      "text/plain": [
       "<matplotlib.figure.Figure at 0x1c15b6a160>"
      ]
     },
     "metadata": {},
     "output_type": "display_data"
    }
   ],
   "source": [
    "fig, ax = plt.subplots()\n",
    "\n",
    "mask = (raw_data.variable > 40) & (raw_data.variable < 280) & ( raw_data.value < 1)\n",
    "\n",
    "ax.hexbin(raw_data.variable[mask] / 2, raw_data.value[mask], bins='log', cmap='Greys')\n",
    "ax.set_xlim(20, 100)\n",
    "ax.set_ylim(0, 1)"
   ]
  },
  {
   "cell_type": "markdown",
   "metadata": {},
   "source": [
    "# Use exact transcription rates"
   ]
  },
  {
   "cell_type": "code",
   "execution_count": 31,
   "metadata": {},
   "outputs": [],
   "source": [
    "transcription_rates = pd.read_csv('elongation_rates.csv')\n",
    "gene_data = pd.read_csv('/Volumes/Pegasus/shared_files/bed_files/hg38/hg38_cannonical_GENCODE_v29_symbols.tsv', sep='\\t',\n",
    "                        names = ('transcript_id', 'name', 'gencode_2', 'chr', 'strand', 'start', 'end', \n",
    "                                 'cd_start', 'cd_end', 'exon_count', 'exon_starts', 'exon_ends', 'prot_id', 'align_id'),\n",
    "                        usecols = ('chr', 'start', 'end', 'strand', 'name', 'align_id', 'transcript_id'), header = 0\n",
    "                       )\n",
    "gene_data['ucsc_name'] = ucsc_index(gene_data)\n",
    "transcription_rates = transcription_rates.merge(gene_data[['name', 'transcript_id', 'ucsc_name']])"
   ]
  },
  {
   "cell_type": "code",
   "execution_count": 32,
   "metadata": {},
   "outputs": [],
   "source": [
    "filtered_regions = used_regions.set_index('ucsc_name').loc[list(filtered_data.index), :]\n",
    "filtered_regions = filtered_regions.merge(transcription_rates[['transcript_id', 'Velocity', 'Confidence Interval']].rename(columns = {'transcript_id': 'name', \n",
    "                                                                                                                   'Velocity': 'velocity', \n",
    "                                                                                                                   'Confidence Interval': 'confidence_interval'}),\n",
    "                       \n",
    "                      \n",
    "                      )\n",
    "filtered_regions['ucsc_name'] = ucsc_index(filtered_regions)"
   ]
  },
  {
   "cell_type": "code",
   "execution_count": 33,
   "metadata": {},
   "outputs": [],
   "source": [
    "data_with_txn_rates = filtered_data.loc[filtered_regions.ucsc_name, :]"
   ]
  },
  {
   "cell_type": "code",
   "execution_count": 34,
   "metadata": {},
   "outputs": [
    {
     "name": "stdout",
     "output_type": "stream",
     "text": [
      "DMSO_vs_DRB 0.0\n",
      "DMSO_vs_DRB 4.0\n",
      "DMSO_vs_DRB 8.0\n",
      "DMSO_vs_DRB 12.0\n"
     ]
    },
    {
     "name": "stderr",
     "output_type": "stream",
     "text": [
      "/Users/cimprich/anaconda/lib/python3.6/site-packages/ipykernel_launcher.py:7: RuntimeWarning: Mean of empty slice\n",
      "  import sys\n"
     ]
    },
    {
     "name": "stdout",
     "output_type": "stream",
     "text": [
      "DMSO_vs_DRB 16.0\n",
      "DMSO_vs_DRB 20.0\n",
      "DMSO_vs_DRB 24.0\n",
      "DMSO_vs_DRB 28.000000000000004\n",
      "DMSO_vs_DRB 32.0\n",
      "DMSO_vs_DRB 36.0\n",
      "DMSO_vs_DRB 40.0\n",
      "DMSO_vs_DRB 44.0\n",
      "DMSO_vs_DRB 48.0\n",
      "DMSO_vs_DRB 52.0\n",
      "DMSO_vs_DRB 56.00000000000001\n",
      "DMSO_vs_DRB 60.0\n",
      "DMSO_vs_DRB 64.0\n",
      "DMSO_vs_DRB 68.0\n",
      "DMSO_vs_DRB 72.0\n",
      "DMSO_vs_DRB 76.0\n",
      "DMSO_vs_DRB 80.0\n",
      "DMSO_vs_DRB 84.0\n",
      "DMSO_vs_DRB 88.0\n",
      "DMSO_vs_DRB 92.0\n",
      "DMSO_vs_DRB 96.0\n"
     ]
    }
   ],
   "source": [
    "boot_samples = bootstrap_samples((data_with_txn_rates).as_matrix(),\n",
    "                                 #10000,\n",
    "                                 2000, \n",
    "                                 agg_func=np.nanmean, \n",
    "                                 verbose=True, \n",
    "                                 sample_name= 'DMSO_vs_DRB')"
   ]
  },
  {
   "cell_type": "code",
   "execution_count": 35,
   "metadata": {},
   "outputs": [
    {
     "name": "stderr",
     "output_type": "stream",
     "text": [
      "/Users/cimprich/anaconda/lib/python3.6/site-packages/numpy/lib/function_base.py:4291: RuntimeWarning: Invalid value encountered in percentile\n",
      "  interpolation=interpolation)\n"
     ]
    },
    {
     "data": {
      "text/plain": [
       "Text(0.5,0,'')"
      ]
     },
     "execution_count": 35,
     "metadata": {},
     "output_type": "execute_result"
    },
    {
     "data": {
      "image/png": "[encoded data removed]",
      "text/plain": [
       "<matplotlib.figure.Figure at 0x1c16bc4d68>"
      ]
     },
     "metadata": {},
     "output_type": "display_data"
    }
   ],
   "source": [
    "fig, ax = plt.subplots()\n",
    "\n",
    "mean_95_ci(ax, boot_samples, x=np.arange(0, 200, 0.5))\n",
    "ax.set_xlabel('')"
   ]
  },
  {
   "cell_type": "code",
   "execution_count": 36,
   "metadata": {},
   "outputs": [],
   "source": [
    "time_without_txn = pd.melt((pct_remaining * region_mask).reset_index(), id_vars = 'index').dropna()\n",
    "time_without_txn = time_without_txn.rename(columns = {'index':'ucsc_name', 'variable': 'distance_from_tss'}).merge(filtered_regions[['ucsc_name', 'velocity']])\n",
    "time_without_txn['distance_from_tss'] = pd.to_numeric(time_without_txn['distance_from_tss'])\n",
    "time_without_txn['distance_from_tss'] = time_without_txn.distance_from_tss * 0.5"
   ]
  },
  {
   "cell_type": "code",
   "execution_count": 37,
   "metadata": {},
   "outputs": [],
   "source": [
    "time_without_txn['transcription_front'] = 40 * time_without_txn.velocity"
   ]
  },
  {
   "cell_type": "code",
   "execution_count": 38,
   "metadata": {},
   "outputs": [],
   "source": [
    "time_without_txn['est_time'] = (time_without_txn.transcription_front - time_without_txn.distance_from_tss)/(time_without_txn.velocity)"
   ]
  },
  {
   "cell_type": "code",
   "execution_count": 39,
   "metadata": {},
   "outputs": [],
   "source": [
    "within_limits = ((time_without_txn.distance_from_tss >= 20) & (time_without_txn.est_time > 0))"
   ]
  },
  {
   "cell_type": "code",
   "execution_count": 40,
   "metadata": {},
   "outputs": [],
   "source": [
    "time_without_txn['time_bin'] = pd.cut(time_without_txn.est_time, np.arange(0, 45, 0.5))"
   ]
  },
  {
   "cell_type": "code",
   "execution_count": 41,
   "metadata": {},
   "outputs": [],
   "source": [
    "reshaped = (time_without_txn[within_limits]\n",
    "      .groupby(['ucsc_name',\n",
    "                pd.cut(time_without_txn[within_limits].est_time, \n",
    "                       np.arange(0, 45, 0.5))\n",
    "               ]\n",
    "              )\n",
    "      .value\n",
    "      .mean()\n",
    "      .unstack()\n",
    "     )"
   ]
  },
  {
   "cell_type": "code",
   "execution_count": 42,
   "metadata": {},
   "outputs": [
    {
     "data": {
      "text/html": [
       "<div>\n",
       "<style scoped>\n",
       "    .dataframe tbody tr th:only-of-type {\n",
       "        vertical-align: middle;\n",
       "    }\n",
       "\n",
       "    .dataframe tbody tr th {\n",
       "        vertical-align: top;\n",
       "    }\n",
       "\n",
       "    .dataframe thead th {\n",
       "        text-align: right;\n",
       "    }\n",
       "</style>\n",
       "<table border=\"1\" class=\"dataframe\">\n",
       "  <thead>\n",
       "    <tr style=\"text-align: right;\">\n",
       "      <th>est_time</th>\n",
       "      <th>(0.0, 0.5]</th>\n",
       "      <th>(0.5, 1.0]</th>\n",
       "      <th>(1.0, 1.5]</th>\n",
       "      <th>(1.5, 2.0]</th>\n",
       "      <th>(2.0, 2.5]</th>\n",
       "      <th>(2.5, 3.0]</th>\n",
       "      <th>(3.0, 3.5]</th>\n",
       "      <th>(3.5, 4.0]</th>\n",
       "      <th>(4.0, 4.5]</th>\n",
       "      <th>(4.5, 5.0]</th>\n",
       "      <th>...</th>\n",
       "      <th>(33.0, 33.5]</th>\n",
       "      <th>(33.5, 34.0]</th>\n",
       "      <th>(34.0, 34.5]</th>\n",
       "      <th>(34.5, 35.0]</th>\n",
       "      <th>(35.0, 35.5]</th>\n",
       "      <th>(35.5, 36.0]</th>\n",
       "      <th>(36.0, 36.5]</th>\n",
       "      <th>(36.5, 37.0]</th>\n",
       "      <th>(37.0, 37.5]</th>\n",
       "      <th>(37.5, 38.0]</th>\n",
       "    </tr>\n",
       "    <tr>\n",
       "      <th>ucsc_name</th>\n",
       "      <th></th>\n",
       "      <th></th>\n",
       "      <th></th>\n",
       "      <th></th>\n",
       "      <th></th>\n",
       "      <th></th>\n",
       "      <th></th>\n",
       "      <th></th>\n",
       "      <th></th>\n",
       "      <th></th>\n",
       "      <th></th>\n",
       "      <th></th>\n",
       "      <th></th>\n",
       "      <th></th>\n",
       "      <th></th>\n",
       "      <th></th>\n",
       "      <th></th>\n",
       "      <th></th>\n",
       "      <th></th>\n",
       "      <th></th>\n",
       "      <th></th>\n",
       "    </tr>\n",
       "  </thead>\n",
       "  <tbody>\n",
       "    <tr>\n",
       "      <th>chr10:100188297-100229619;-</th>\n",
       "      <td>NaN</td>\n",
       "      <td>NaN</td>\n",
       "      <td>NaN</td>\n",
       "      <td>NaN</td>\n",
       "      <td>NaN</td>\n",
       "      <td>NaN</td>\n",
       "      <td>NaN</td>\n",
       "      <td>NaN</td>\n",
       "      <td>NaN</td>\n",
       "      <td>NaN</td>\n",
       "      <td>...</td>\n",
       "      <td>NaN</td>\n",
       "      <td>NaN</td>\n",
       "      <td>NaN</td>\n",
       "      <td>NaN</td>\n",
       "      <td>NaN</td>\n",
       "      <td>NaN</td>\n",
       "      <td>NaN</td>\n",
       "      <td>NaN</td>\n",
       "      <td>NaN</td>\n",
       "      <td>NaN</td>\n",
       "    </tr>\n",
       "    <tr>\n",
       "      <th>chr10:102776248-102816267;+</th>\n",
       "      <td>NaN</td>\n",
       "      <td>NaN</td>\n",
       "      <td>NaN</td>\n",
       "      <td>NaN</td>\n",
       "      <td>NaN</td>\n",
       "      <td>NaN</td>\n",
       "      <td>NaN</td>\n",
       "      <td>NaN</td>\n",
       "      <td>NaN</td>\n",
       "      <td>NaN</td>\n",
       "      <td>...</td>\n",
       "      <td>NaN</td>\n",
       "      <td>NaN</td>\n",
       "      <td>NaN</td>\n",
       "      <td>NaN</td>\n",
       "      <td>NaN</td>\n",
       "      <td>NaN</td>\n",
       "      <td>NaN</td>\n",
       "      <td>NaN</td>\n",
       "      <td>NaN</td>\n",
       "      <td>NaN</td>\n",
       "    </tr>\n",
       "    <tr>\n",
       "      <th>chr10:112374017-112428376;+</th>\n",
       "      <td>NaN</td>\n",
       "      <td>NaN</td>\n",
       "      <td>NaN</td>\n",
       "      <td>NaN</td>\n",
       "      <td>NaN</td>\n",
       "      <td>NaN</td>\n",
       "      <td>NaN</td>\n",
       "      <td>NaN</td>\n",
       "      <td>NaN</td>\n",
       "      <td>NaN</td>\n",
       "      <td>...</td>\n",
       "      <td>NaN</td>\n",
       "      <td>NaN</td>\n",
       "      <td>NaN</td>\n",
       "      <td>NaN</td>\n",
       "      <td>NaN</td>\n",
       "      <td>NaN</td>\n",
       "      <td>NaN</td>\n",
       "      <td>NaN</td>\n",
       "      <td>NaN</td>\n",
       "      <td>NaN</td>\n",
       "    </tr>\n",
       "    <tr>\n",
       "      <th>chr10:118297929-118342320;-</th>\n",
       "      <td>NaN</td>\n",
       "      <td>NaN</td>\n",
       "      <td>NaN</td>\n",
       "      <td>NaN</td>\n",
       "      <td>NaN</td>\n",
       "      <td>NaN</td>\n",
       "      <td>NaN</td>\n",
       "      <td>NaN</td>\n",
       "      <td>NaN</td>\n",
       "      <td>NaN</td>\n",
       "      <td>...</td>\n",
       "      <td>0.060265</td>\n",
       "      <td>0.064599</td>\n",
       "      <td>0.074368</td>\n",
       "      <td>0.113739</td>\n",
       "      <td>NaN</td>\n",
       "      <td>NaN</td>\n",
       "      <td>NaN</td>\n",
       "      <td>NaN</td>\n",
       "      <td>NaN</td>\n",
       "      <td>NaN</td>\n",
       "    </tr>\n",
       "    <tr>\n",
       "      <th>chr10:119892710-119944658;+</th>\n",
       "      <td>NaN</td>\n",
       "      <td>NaN</td>\n",
       "      <td>NaN</td>\n",
       "      <td>NaN</td>\n",
       "      <td>NaN</td>\n",
       "      <td>NaN</td>\n",
       "      <td>NaN</td>\n",
       "      <td>NaN</td>\n",
       "      <td>NaN</td>\n",
       "      <td>NaN</td>\n",
       "      <td>...</td>\n",
       "      <td>0.102391</td>\n",
       "      <td>0.203018</td>\n",
       "      <td>0.145792</td>\n",
       "      <td>0.175579</td>\n",
       "      <td>0.322779</td>\n",
       "      <td>NaN</td>\n",
       "      <td>NaN</td>\n",
       "      <td>NaN</td>\n",
       "      <td>NaN</td>\n",
       "      <td>NaN</td>\n",
       "    </tr>\n",
       "  </tbody>\n",
       "</table>\n",
       "<p>5 rows × 76 columns</p>\n",
       "</div>"
      ],
      "text/plain": [
       "est_time                     (0.0, 0.5]  (0.5, 1.0]  (1.0, 1.5]  (1.5, 2.0]  \\\n",
       "ucsc_name                                                                     \n",
       "chr10:100188297-100229619;-         NaN         NaN         NaN         NaN   \n",
       "chr10:102776248-102816267;+         NaN         NaN         NaN         NaN   \n",
       "chr10:112374017-112428376;+         NaN         NaN         NaN         NaN   \n",
       "chr10:118297929-118342320;-         NaN         NaN         NaN         NaN   \n",
       "chr10:119892710-119944658;+         NaN         NaN         NaN         NaN   \n",
       "\n",
       "est_time                     (2.0, 2.5]  (2.5, 3.0]  (3.0, 3.5]  (3.5, 4.0]  \\\n",
       "ucsc_name                                                                     \n",
       "chr10:100188297-100229619;-         NaN         NaN         NaN         NaN   \n",
       "chr10:102776248-102816267;+         NaN         NaN         NaN         NaN   \n",
       "chr10:112374017-112428376;+         NaN         NaN         NaN         NaN   \n",
       "chr10:118297929-118342320;-         NaN         NaN         NaN         NaN   \n",
       "chr10:119892710-119944658;+         NaN         NaN         NaN         NaN   \n",
       "\n",
       "est_time                     (4.0, 4.5]  (4.5, 5.0]      ...       \\\n",
       "ucsc_name                                                ...        \n",
       "chr10:100188297-100229619;-         NaN         NaN      ...        \n",
       "chr10:102776248-102816267;+         NaN         NaN      ...        \n",
       "chr10:112374017-112428376;+         NaN         NaN      ...        \n",
       "chr10:118297929-118342320;-         NaN         NaN      ...        \n",
       "chr10:119892710-119944658;+         NaN         NaN      ...        \n",
       "\n",
       "est_time                     (33.0, 33.5]  (33.5, 34.0]  (34.0, 34.5]  \\\n",
       "ucsc_name                                                               \n",
       "chr10:100188297-100229619;-           NaN           NaN           NaN   \n",
       "chr10:102776248-102816267;+           NaN           NaN           NaN   \n",
       "chr10:112374017-112428376;+           NaN           NaN           NaN   \n",
       "chr10:118297929-118342320;-      0.060265      0.064599      0.074368   \n",
       "chr10:119892710-119944658;+      0.102391      0.203018      0.145792   \n",
       "\n",
       "est_time                     (34.5, 35.0]  (35.0, 35.5]  (35.5, 36.0]  \\\n",
       "ucsc_name                                                               \n",
       "chr10:100188297-100229619;-           NaN           NaN           NaN   \n",
       "chr10:102776248-102816267;+           NaN           NaN           NaN   \n",
       "chr10:112374017-112428376;+           NaN           NaN           NaN   \n",
       "chr10:118297929-118342320;-      0.113739           NaN           NaN   \n",
       "chr10:119892710-119944658;+      0.175579      0.322779           NaN   \n",
       "\n",
       "est_time                     (36.0, 36.5]  (36.5, 37.0]  (37.0, 37.5]  \\\n",
       "ucsc_name                                                               \n",
       "chr10:100188297-100229619;-           NaN           NaN           NaN   \n",
       "chr10:102776248-102816267;+           NaN           NaN           NaN   \n",
       "chr10:112374017-112428376;+           NaN           NaN           NaN   \n",
       "chr10:118297929-118342320;-           NaN           NaN           NaN   \n",
       "chr10:119892710-119944658;+           NaN           NaN           NaN   \n",
       "\n",
       "est_time                     (37.5, 38.0]  \n",
       "ucsc_name                                  \n",
       "chr10:100188297-100229619;-           NaN  \n",
       "chr10:102776248-102816267;+           NaN  \n",
       "chr10:112374017-112428376;+           NaN  \n",
       "chr10:118297929-118342320;-           NaN  \n",
       "chr10:119892710-119944658;+           NaN  \n",
       "\n",
       "[5 rows x 76 columns]"
      ]
     },
     "execution_count": 42,
     "metadata": {},
     "output_type": "execute_result"
    }
   ],
   "source": [
    "reshaped.head()"
   ]
  },
  {
   "cell_type": "code",
   "execution_count": 43,
   "metadata": {},
   "outputs": [
    {
     "name": "stdout",
     "output_type": "stream",
     "text": [
      "DMSO_vs_DRB 0.0\n",
      "DMSO_vs_DRB 4.0\n",
      "DMSO_vs_DRB 8.0\n",
      "DMSO_vs_DRB 12.0\n",
      "DMSO_vs_DRB 16.0\n"
     ]
    },
    {
     "name": "stderr",
     "output_type": "stream",
     "text": [
      "/Users/cimprich/anaconda/lib/python3.6/site-packages/ipykernel_launcher.py:7: RuntimeWarning: Mean of empty slice\n",
      "  import sys\n"
     ]
    },
    {
     "name": "stdout",
     "output_type": "stream",
     "text": [
      "DMSO_vs_DRB 20.0\n",
      "DMSO_vs_DRB 24.0\n",
      "DMSO_vs_DRB 28.000000000000004\n",
      "DMSO_vs_DRB 32.0\n",
      "DMSO_vs_DRB 36.0\n",
      "DMSO_vs_DRB 40.0\n",
      "DMSO_vs_DRB 44.0\n",
      "DMSO_vs_DRB 48.0\n",
      "DMSO_vs_DRB 52.0\n",
      "DMSO_vs_DRB 56.00000000000001\n",
      "DMSO_vs_DRB 60.0\n",
      "DMSO_vs_DRB 64.0\n",
      "DMSO_vs_DRB 68.0\n",
      "DMSO_vs_DRB 72.0\n",
      "DMSO_vs_DRB 76.0\n",
      "DMSO_vs_DRB 80.0\n",
      "DMSO_vs_DRB 84.0\n",
      "DMSO_vs_DRB 88.0\n",
      "DMSO_vs_DRB 92.0\n",
      "DMSO_vs_DRB 96.0\n"
     ]
    }
   ],
   "source": [
    "boot_samples = bootstrap_samples((reshaped).as_matrix(),\n",
    "                                 #10000, \n",
    "                                 5000, \n",
    "                                 agg_func=np.nanmean, \n",
    "                                 verbose=True, \n",
    "                                 sample_name= 'DMSO_vs_DRB')"
   ]
  },
  {
   "cell_type": "code",
   "execution_count": 44,
   "metadata": {},
   "outputs": [],
   "source": [
    "def mean_95_ci_na(ax, mat, x = None, color='blue', alpha=0.5):\n",
    "    if x is None:\n",
    "        x = np.arange(0, mat.shape[1], 1)\n",
    "    ax.plot(x, np.nanmean(mat, axis=0), color=color)\n",
    "    ax.fill_between(x, \n",
    "                    np.nanpercentile(mat, 2.5, axis=0), \n",
    "                    np.nanpercentile(mat, 97.5, axis=0),\n",
    "                    alpha = alpha, color=color)"
   ]
  },
  {
   "cell_type": "code",
   "execution_count": 45,
   "metadata": {},
   "outputs": [],
   "source": [
    "highly_represented_data = reshaped.loc[reshaped.loc[(reshaped.notnull().sum(axis=1) >= 20), :].index, :]"
   ]
  },
  {
   "cell_type": "code",
   "execution_count": 46,
   "metadata": {},
   "outputs": [
    {
     "name": "stdout",
     "output_type": "stream",
     "text": [
      "DMSO_vs_DRB 0.0\n",
      "DMSO_vs_DRB 4.0\n",
      "DMSO_vs_DRB 8.0\n",
      "DMSO_vs_DRB 12.0\n",
      "DMSO_vs_DRB 16.0\n"
     ]
    },
    {
     "name": "stderr",
     "output_type": "stream",
     "text": [
      "/Users/cimprich/anaconda/lib/python3.6/site-packages/ipykernel_launcher.py:7: RuntimeWarning: Mean of empty slice\n",
      "  import sys\n"
     ]
    },
    {
     "name": "stdout",
     "output_type": "stream",
     "text": [
      "DMSO_vs_DRB 20.0\n",
      "DMSO_vs_DRB 24.0\n",
      "DMSO_vs_DRB 28.000000000000004\n",
      "DMSO_vs_DRB 32.0\n",
      "DMSO_vs_DRB 36.0\n",
      "DMSO_vs_DRB 40.0\n",
      "DMSO_vs_DRB 44.0\n",
      "DMSO_vs_DRB 48.0\n",
      "DMSO_vs_DRB 52.0\n",
      "DMSO_vs_DRB 56.00000000000001\n",
      "DMSO_vs_DRB 60.0\n",
      "DMSO_vs_DRB 64.0\n",
      "DMSO_vs_DRB 68.0\n",
      "DMSO_vs_DRB 72.0\n",
      "DMSO_vs_DRB 76.0\n",
      "DMSO_vs_DRB 80.0\n",
      "DMSO_vs_DRB 84.0\n",
      "DMSO_vs_DRB 88.0\n",
      "DMSO_vs_DRB 92.0\n",
      "DMSO_vs_DRB 96.0\n"
     ]
    }
   ],
   "source": [
    "boot_high_repr = bootstrap_samples((highly_represented_data).as_matrix(),\n",
    "                                 10000, \n",
    "                                 agg_func=np.nanmean, \n",
    "                                 verbose=True, \n",
    "                                 sample_name= 'DMSO_vs_DRB')"
   ]
  },
  {
   "cell_type": "code",
   "execution_count": 47,
   "metadata": {},
   "outputs": [
    {
     "data": {
      "image/png": "[encoded data removed]",
      "text/plain": [
       "<matplotlib.figure.Figure at 0x1c29be0d30>"
      ]
     },
     "metadata": {},
     "output_type": "display_data"
    }
   ],
   "source": [
    "fig, ax = plt.subplots(figsize=(3.5,4))\n",
    "\n",
    "mean_95_ci_na(ax, boot_high_repr, x = np.arange(0, 38, 0.5))\n",
    "ax.axhline(0.5, color = '#444444', linestyle='--')\n",
    "ax.set_xlabel('Time without new transcription (min)')\n",
    "ax.set_ylabel('Fraction DRB/DMSO')\n",
    "fig.tight_layout()\n",
    "fig.savefig('Lifetimes_genes_with_many_data_points.pdf', transparent=True)\n",
    "fig.savefig('Lifetimes_genes_with_many_data_points.svg', transparent=True)"
   ]
  },
  {
   "cell_type": "code",
   "execution_count": 48,
   "metadata": {},
   "outputs": [
    {
     "data": {
      "text/plain": [
       "(array([27, 30, 34, 35, 36, 37, 38, 39, 40, 41, 42, 43, 44, 45, 46, 47, 48,\n",
       "        49, 50, 51, 52, 53, 54, 55, 56, 57, 58, 59, 60, 61, 62, 63, 64, 65,\n",
       "        66, 67, 68, 69, 70, 71, 72, 73, 74, 75]),)"
      ]
     },
     "execution_count": 48,
     "metadata": {},
     "output_type": "execute_result"
    }
   ],
   "source": [
    "np.where(np.nanmean(boot_samples, axis=0) < 0.5)"
   ]
  },
  {
   "cell_type": "code",
   "execution_count": 49,
   "metadata": {},
   "outputs": [
    {
     "data": {
      "image/png": "[encoded data removed]",
      "text/plain": [
       "<matplotlib.figure.Figure at 0x1c29be0b00>"
      ]
     },
     "metadata": {},
     "output_type": "display_data"
    }
   ],
   "source": [
    "fig, ax = plt.subplots(figsize=(3.5,3))\n",
    "\n",
    "mean_95_ci_na(ax, boot_samples, x = np.arange(0, 38, 0.5))\n",
    "ax.axhline(0.5, color = '#444444', linestyle='--', label='mean')\n",
    "ax.set_xlabel('Time without new transcription (min)')\n",
    "ax.set_ylabel('Fraction DRB/DMSO')\n",
    "handles = [\n",
    "    mpl.patches.Patch(color = 'blue', alpha = 0.5),\n",
    "    mpl.lines.Line2D([0], [0], color = '#444444', linestyle='--')\n",
    "]\n",
    "labels = ['95% ci', '2-fold decrease']\n",
    "ax.legend(handles=handles, labels=labels, frameon=False)\n",
    "fig.tight_layout()\n",
    "fig.savefig('Mean_lifetimes.pdf', transparent=True)\n",
    "fig.savefig('Mean_lifetimes.svg', transparent=True)"
   ]
  },
  {
   "cell_type": "markdown",
   "metadata": {},
   "source": [
    "# Fit individual lifetimes"
   ]
  },
  {
   "cell_type": "code",
   "execution_count": 50,
   "metadata": {},
   "outputs": [],
   "source": [
    "data_to_fit = reshaped.loc[reshaped.loc[(reshaped.notnull().sum(axis=1) >= 5), :].index, :]"
   ]
  },
  {
   "cell_type": "code",
   "execution_count": 51,
   "metadata": {},
   "outputs": [
    {
     "data": {
      "text/plain": [
       "<matplotlib.collections.PolyCollection at 0x1c2b2d3780>"
      ]
     },
     "execution_count": 51,
     "metadata": {},
     "output_type": "execute_result"
    },
    {
     "data": {
      "image/png": "[encoded data removed]",
      "text/plain": [
       "<matplotlib.figure.Figure at 0x1c2b29e278>"
      ]
     },
     "metadata": {},
     "output_type": "display_data"
    }
   ],
   "source": [
    "fig, ax = plt.subplots()\n",
    "\n",
    "mask = (within_limits & \n",
    "        (time_without_txn.value > 0) & \n",
    "        time_without_txn.ucsc_name.isin(data_to_fit.index))\n",
    "\n",
    "ax.hexbin( time_without_txn.loc[mask, 'est_time'],\n",
    "          time_without_txn.loc[mask, 'value'],\n",
    "          bins = 'log', cmap = 'Greys', yscale='log'\n",
    "         )\n"
   ]
  },
  {
   "cell_type": "code",
   "execution_count": 52,
   "metadata": {
    "scrolled": true
   },
   "outputs": [
    {
     "name": "stderr",
     "output_type": "stream",
     "text": [
      "/Users/cimprich/anaconda/lib/python3.6/site-packages/ipykernel_launcher.py:6: RuntimeWarning: divide by zero encountered in log10\n",
      "  \n",
      "/Users/cimprich/anaconda/lib/python3.6/site-packages/ipykernel_launcher.py:10: RuntimeWarning: divide by zero encountered in log\n",
      "  # Remove the CWD from sys.path while we load stuff.\n"
     ]
    }
   ],
   "source": [
    "a_coef = []\n",
    "b_coef = []\n",
    "x = np.array([i.left for i in data_to_fit.columns])\n",
    "for region_name, gene_data in data_to_fit.iterrows():\n",
    "    y = gene_data.copy()\n",
    "    fit_mask = np.isfinite(np.log10(y))\n",
    "    if fit_mask.sum() == 0:\n",
    "        a,b = np.nan, np.nan\n",
    "    else:\n",
    "        a, b = np.polyfit(x[fit_mask], np.log(y)[fit_mask], 1, w = np.sqrt(x[fit_mask]))\n",
    "    a_coef.append(a)\n",
    "    b_coef.append(b)"
   ]
  },
  {
   "cell_type": "code",
   "execution_count": 53,
   "metadata": {
    "scrolled": true
   },
   "outputs": [
    {
     "name": "stderr",
     "output_type": "stream",
     "text": [
      "/Users/cimprich/anaconda/lib/python3.6/site-packages/ipykernel_launcher.py:6: RuntimeWarning: divide by zero encountered in log10\n",
      "  \n"
     ]
    }
   ],
   "source": [
    "a_coef = {}\n",
    "rsq = {}\n",
    "x = np.array([i.left for i in data_to_fit.columns])\n",
    "for region_name, gene_data in data_to_fit.iterrows():\n",
    "    y = gene_data.copy()\n",
    "    fit_mask = np.isfinite(np.log10(y))\n",
    "    if fit_mask.sum() == 0:\n",
    "        a,b = np.nan, np.nan\n",
    "    else:\n",
    "        mod = sm.OLS(np.log(y[fit_mask]), x[fit_mask], weights=np.sqrt(x[fit_mask]))\n",
    "        mod_linear = sm.OLS(y[fit_mask], x[fit_mask])\n",
    "        res = mod.fit()\n",
    "        res_linear = mod_linear.fit()\n",
    "        if res.rsquared > 0.95:\n",
    "            a = res.params['x1']\n",
    "        else: \n",
    "            a = np.nan\n",
    "    a_coef[region_name] = a\n",
    "    rsq[region_name] = {'linear': res_linear.rsquared, 'exponential': res.rsquared}\n",
    "models = pd.DataFrame(rsq).T"
   ]
  },
  {
   "cell_type": "code",
   "execution_count": 54,
   "metadata": {},
   "outputs": [
    {
     "data": {
      "image/png": "[encoded data removed]",
      "text/plain": [
       "<matplotlib.figure.Figure at 0x1c28b21e48>"
      ]
     },
     "metadata": {},
     "output_type": "display_data"
    }
   ],
   "source": [
    "fig, ax = plt.subplots(figsize=(3,2))\n",
    "greater_mask = models.exponential > models.linear\n",
    "ax.scatter(models[greater_mask].linear, models[greater_mask].exponential, \n",
    "           label = 'Better exponential', s=1.2, alpha=0.7)\n",
    "ax.scatter(models[~greater_mask].linear, models[~greater_mask].exponential,\n",
    "           label = 'Better linear', s=1.2, alpha=0.7)\n",
    "ax.plot([0,1],[0,1], color = '#444444', linestyle='--')\n",
    "handles, _ = ax.get_legend_handles_labels()\n",
    "ax.legend(labels = ['', ''], handles = handles[0:2], frameon=False, markerscale=5, borderpad=0.1)\n",
    "ax.set_xlim(0,1)\n",
    "ax.set_ylim(0,1)\n",
    "ax.set_xticklabels(['']*3)\n",
    "ax.set_yticklabels(['']*3)\n",
    "fig.savefig('Model_selection.svg')"
   ]
  },
  {
   "cell_type": "code",
   "execution_count": 55,
   "metadata": {
    "scrolled": true
   },
   "outputs": [
    {
     "data": {
      "text/plain": [
       "224"
      ]
     },
     "execution_count": 55,
     "metadata": {},
     "output_type": "execute_result"
    }
   ],
   "source": [
    "(models.linear <= models.exponential).sum()"
   ]
  },
  {
   "cell_type": "code",
   "execution_count": 56,
   "metadata": {
    "scrolled": true
   },
   "outputs": [
    {
     "data": {
      "text/plain": [
       "38"
      ]
     },
     "execution_count": 56,
     "metadata": {},
     "output_type": "execute_result"
    }
   ],
   "source": [
    "(models.linear > models.exponential).sum()"
   ]
  },
  {
   "cell_type": "code",
   "execution_count": 57,
   "metadata": {},
   "outputs": [
    {
     "data": {
      "text/plain": [
       "(0, 1.5)"
      ]
     },
     "execution_count": 57,
     "metadata": {},
     "output_type": "execute_result"
    },
    {
     "data": {
      "image/png": "[encoded data removed]",
      "text/plain": [
       "<matplotlib.figure.Figure at 0x1c2b18c278>"
      ]
     },
     "metadata": {},
     "output_type": "display_data"
    }
   ],
   "source": [
    "fig, ax = plt.subplots()\n",
    "\n",
    "mask = (within_limits & \n",
    "        (time_without_txn.value > 0) & \n",
    "        (time_without_txn.value < 1.5) &\n",
    "        time_without_txn.ucsc_name.isin(data_to_fit.index))\n",
    "\n",
    "ax.hexbin( time_without_txn.loc[mask, 'est_time'],\n",
    "          time_without_txn.loc[mask, 'value'],\n",
    "          bins = 'log', cmap = 'Greys'\n",
    "         )\n",
    "\n",
    "ax.set_ylim(0, 1.5)\n"
   ]
  },
  {
   "cell_type": "code",
   "execution_count": null,
   "metadata": {},
   "outputs": [],
   "source": []
  },
  {
   "cell_type": "code",
   "execution_count": 58,
   "metadata": {},
   "outputs": [],
   "source": [
    "cmap = plt.get_cmap('RdBu')"
   ]
  },
  {
   "cell_type": "code",
   "execution_count": 59,
   "metadata": {},
   "outputs": [
    {
     "ename": "TypeError",
     "evalue": "ufunc 'multiply' did not contain a loop with signature matching types dtype('<U27') dtype('<U27') dtype('<U27')",
     "output_type": "error",
     "traceback": [
      "\u001b[0;31m---------------------------------------------------------------------------\u001b[0m",
      "\u001b[0;31mTypeError\u001b[0m                                 Traceback (most recent call last)",
      "\u001b[0;32m<ipython-input-59-01c17972683b>\u001b[0m in \u001b[0;36m<module>\u001b[0;34m()\u001b[0m\n\u001b[1;32m     13\u001b[0m \u001b[0;34m\u001b[0m\u001b[0m\n\u001b[1;32m     14\u001b[0m \u001b[0;32mfor\u001b[0m \u001b[0ma\u001b[0m\u001b[0;34m,\u001b[0m\u001b[0mb\u001b[0m \u001b[0;32min\u001b[0m \u001b[0mzip\u001b[0m\u001b[0;34m(\u001b[0m\u001b[0ma_coef\u001b[0m\u001b[0;34m,\u001b[0m \u001b[0mb_coef\u001b[0m\u001b[0;34m)\u001b[0m\u001b[0;34m:\u001b[0m\u001b[0;34m\u001b[0m\u001b[0;34m\u001b[0m\u001b[0m\n\u001b[0;32m---> 15\u001b[0;31m     \u001b[0max\u001b[0m\u001b[0;34m.\u001b[0m\u001b[0mplot\u001b[0m\u001b[0;34m(\u001b[0m\u001b[0mline_range\u001b[0m\u001b[0;34m,\u001b[0m \u001b[0;36m10\u001b[0m\u001b[0;34m**\u001b[0m\u001b[0;34m(\u001b[0m\u001b[0ma\u001b[0m\u001b[0;34m*\u001b[0m\u001b[0mline_range\u001b[0m \u001b[0;34m+\u001b[0m \u001b[0mb\u001b[0m\u001b[0;34m)\u001b[0m\u001b[0;34m,\u001b[0m \u001b[0malpha\u001b[0m\u001b[0;34m=\u001b[0m\u001b[0;36m0.1\u001b[0m\u001b[0;34m,\u001b[0m \u001b[0mcolor\u001b[0m\u001b[0;34m=\u001b[0m\u001b[0mcmap\u001b[0m\u001b[0;34m(\u001b[0m\u001b[0ma\u001b[0m\u001b[0;34m)\u001b[0m\u001b[0;34m)\u001b[0m\u001b[0;34m\u001b[0m\u001b[0;34m\u001b[0m\u001b[0m\n\u001b[0m",
      "\u001b[0;31mTypeError\u001b[0m: ufunc 'multiply' did not contain a loop with signature matching types dtype('<U27') dtype('<U27') dtype('<U27')"
     ]
    },
    {
     "data": {
      "image/png": "[encoded data removed]",
      "text/plain": [
       "<matplotlib.figure.Figure at 0x1c2b240320>"
      ]
     },
     "metadata": {},
     "output_type": "display_data"
    }
   ],
   "source": [
    "fig, ax = plt.subplots()\n",
    "plt.set_cmap('RdBu')\n",
    "mask = (within_limits & \n",
    "        (time_without_txn.value > 0) & \n",
    "        time_without_txn.ucsc_name.isin(data_to_fit.index))\n",
    "\n",
    "ax.hexbin( time_without_txn.loc[mask, 'est_time'],\n",
    "          time_without_txn.loc[mask, 'value'],\n",
    "          bins = 'log', cmap = 'Greys', yscale='log'\n",
    "         )\n",
    "\n",
    "line_range = np.arange(0, 38)\n",
    "\n",
    "for a,b in zip(a_coef, b_coef):\n",
    "    ax.plot(line_range, 10**(a*line_range + b), alpha=0.1, color=cmap(a))"
   ]
  },
  {
   "cell_type": "code",
   "execution_count": 64,
   "metadata": {},
   "outputs": [],
   "source": [
    "half_lives = pd.Series(a_coef).dropna()\n",
    "half_lives = -np.log(2)/half_lives"
   ]
  },
  {
   "cell_type": "code",
   "execution_count": 65,
   "metadata": {},
   "outputs": [
    {
     "data": {
      "text/plain": [
       "107"
      ]
     },
     "execution_count": 65,
     "metadata": {},
     "output_type": "execute_result"
    }
   ],
   "source": [
    "len(half_lives)"
   ]
  },
  {
   "cell_type": "code",
   "execution_count": 66,
   "metadata": {},
   "outputs": [
    {
     "data": {
      "text/plain": [
       "chr12:95473950-95515839;+     20.084354\n",
       "chr6:30234038-30326134;-      21.387580\n",
       "chr7:102749027-102808840;+    24.815912\n",
       "dtype: float64"
      ]
     },
     "execution_count": 66,
     "metadata": {},
     "output_type": "execute_result"
    }
   ],
   "source": [
    "half_lives[half_lives > 20]"
   ]
  },
  {
   "cell_type": "code",
   "execution_count": 67,
   "metadata": {},
   "outputs": [
    {
     "data": {
      "text/plain": [
       "chr7:102749027-102808840;+    24.815912\n",
       "chr6:30234038-30326134;-      21.387580\n",
       "chr12:95473950-95515839;+     20.084354\n",
       "chr20:62238484-62296213;+     19.336247\n",
       "chr19:52297176-52325922;+     18.172507\n",
       "chr18:14103862-14132430;-     16.777620\n",
       "chr5:134758803-134829296;+    15.887252\n",
       "chr16:21599475-21657473;+     15.563646\n",
       "chr11:63624086-63671612;-     15.341733\n",
       "chr15:41417103-41483563;+     14.127761\n",
       "dtype: float64"
      ]
     },
     "execution_count": 67,
     "metadata": {},
     "output_type": "execute_result"
    }
   ],
   "source": [
    "half_lives.nlargest(10)"
   ]
  },
  {
   "cell_type": "code",
   "execution_count": 68,
   "metadata": {},
   "outputs": [
    {
     "data": {
      "text/plain": [
       "(11.003628001309124, 3.102079425748964)"
      ]
     },
     "execution_count": 68,
     "metadata": {},
     "output_type": "execute_result"
    }
   ],
   "source": [
    "half_lives.mean(), half_lives.std()"
   ]
  },
  {
   "cell_type": "code",
   "execution_count": 69,
   "metadata": {},
   "outputs": [
    {
     "data": {
      "text/plain": [
       "0.8878504672897196"
      ]
     },
     "execution_count": 69,
     "metadata": {},
     "output_type": "execute_result"
    }
   ],
   "source": [
    "((half_lives - 11).abs() < 4).mean()"
   ]
  },
  {
   "cell_type": "code",
   "execution_count": 70,
   "metadata": {},
   "outputs": [
    {
     "data": {
      "image/png": "[encoded data removed]",
      "text/plain": [
       "<matplotlib.figure.Figure at 0x1c28260e10>"
      ]
     },
     "metadata": {},
     "output_type": "display_data"
    }
   ],
   "source": [
    "fig, ax = plt.subplots(figsize=(3.5,2))\n",
    "plt.hist(half_lives, bins = np.arange(0, 100, 1), color='#9696cf', label='Half lives')\n",
    "#ax.axvline(half_lives[((half_lives < 120) & (half_lives > 0))].mean(), \n",
    "#           color = '#444444', linestyle = '--', label = 'Mean half life')\n",
    "ax.set_ylabel('Count of genes')\n",
    "ax.set_xlabel('Estimated hybrid half life (min)')\n",
    "ax.set_xlim(0, 40)\n",
    "#ax.legend(frameon=False, borderpad=0.3, labelspacing=0.2)\n",
    "fig.tight_layout()\n",
    "fig.savefig('Half_life_distribution.svg', transparent=True)"
   ]
  },
  {
   "cell_type": "code",
   "execution_count": 71,
   "metadata": {},
   "outputs": [
    {
     "data": {
      "image/png": "[encoded data removed]",
      "text/plain": [
       "<matplotlib.figure.Figure at 0x1c2a2b6278>"
      ]
     },
     "metadata": {},
     "output_type": "display_data"
    }
   ],
   "source": [
    "fig, ax = plt.subplots(figsize=(3,2.5))\n",
    "plt.hist(half_lives, bins = np.arange(0, 100, 1), color='#9696cf', label='Half lives')\n",
    "#ax.axvline(half_lives[((half_lives < 120) & (half_lives > 0))].mean(), \n",
    "#           color = '#444444', linestyle = '--', label = 'Mean half life')\n",
    "ax.set_ylabel('')\n",
    "ax.set_xlabel('')\n",
    "ax.set_xticklabels('')\n",
    "#ax.set_yticklabels('')\n",
    "ax.set_xlim(0, 40)\n",
    "#ax.legend(frameon=False, borderpad=0.3, labelspacing=0.2)\n",
    "fig.tight_layout()\n",
    "#fig.savefig('Half_life_distribution.svg', transparent=True)"
   ]
  },
  {
   "cell_type": "code",
   "execution_count": 72,
   "metadata": {},
   "outputs": [
    {
     "data": {
      "image/png": "[encoded data removed]",
      "text/plain": [
       "<matplotlib.figure.Figure at 0x1c28a8a438>"
      ]
     },
     "metadata": {},
     "output_type": "display_data"
    }
   ],
   "source": [
    "fig, ax = plt.subplots(figsize=(3,2.5))\n",
    "plt.hist(half_lives, bins = np.arange(0, 100, 1), color='#9696cf', label='Half lives')\n",
    "#ax.axvline(half_lives[((half_lives < 120) & (half_lives > 0))].mean(), \n",
    "#           color = '#444444', linestyle = '--', label = 'Mean half life')\n",
    "ax.set_ylabel('')\n",
    "ax.set_xlabel('')\n",
    "ax.set_xticklabels('')\n",
    "ax.set_yticklabels('')\n",
    "ax.set_xlim(0, 40)\n",
    "#ax.legend(frameon=False, borderpad=0.3, labelspacing=0.2)\n",
    "fig.tight_layout()\n",
    "fig.savefig('Half_life_distribution.svg', transparent=True)"
   ]
  },
  {
   "cell_type": "markdown",
   "metadata": {},
   "source": [
    "# Isolate faster/slower areas"
   ]
  },
  {
   "cell_type": "code",
   "execution_count": 73,
   "metadata": {},
   "outputs": [],
   "source": [
    "profile_data = pd.DataFrame({\n",
    "    'mean_per_bin': pd.Series(np.nanmean(reshaped, axis=0), index = reshaped.columns),\n",
    "    'stdev_per_bin': pd.Series(np.nanstd(reshaped, axis=0), index = reshaped.columns)\n",
    "})"
   ]
  },
  {
   "cell_type": "code",
   "execution_count": 74,
   "metadata": {},
   "outputs": [],
   "source": [
    "time_without_txn = time_without_txn.merge(profile_data,\n",
    "                       right_index=True, \n",
    "                       left_on='time_bin', \n",
    "                       how ='left')"
   ]
  },
  {
   "cell_type": "code",
   "execution_count": 75,
   "metadata": {},
   "outputs": [],
   "source": [
    "time_without_txn['speed_compared_to_avg'] = np.nan\n",
    "time_without_txn['z_score'] = (time_without_txn.value - time_without_txn.mean_per_bin)/time_without_txn.stdev_per_bin\n",
    "slower_than_avg = (time_without_txn.value > (time_without_txn.mean_per_bin +  time_without_txn.stdev_per_bin))\n",
    "faster_than_avg = (time_without_txn.value < (time_without_txn.mean_per_bin  - time_without_txn.stdev_per_bin))\n",
    "ns = ((time_without_txn.mean_per_bin  - time_without_txn.value).abs() < time_without_txn.stdev_per_bin)\n",
    "time_without_txn.loc[slower_than_avg, 'speed_compared_to_avg'] = 'slower'\n",
    "time_without_txn.loc[faster_than_avg, 'speed_compared_to_avg'] = 'faster'\n",
    "time_without_txn.loc[ns, 'speed_compared_to_avg'] = 'ns'"
   ]
  },
  {
   "cell_type": "code",
   "execution_count": 76,
   "metadata": {},
   "outputs": [
    {
     "data": {
      "text/plain": [
       "ns        15330\n",
       "slower     3002\n",
       "faster     1641\n",
       "Name: speed_compared_to_avg, dtype: int64"
      ]
     },
     "execution_count": 76,
     "metadata": {},
     "output_type": "execute_result"
    }
   ],
   "source": [
    "time_without_txn.speed_compared_to_avg.value_counts()"
   ]
  },
  {
   "cell_type": "code",
   "execution_count": 77,
   "metadata": {},
   "outputs": [
    {
     "data": {
      "text/html": [
       "<div>\n",
       "<style scoped>\n",
       "    .dataframe tbody tr th:only-of-type {\n",
       "        vertical-align: middle;\n",
       "    }\n",
       "\n",
       "    .dataframe tbody tr th {\n",
       "        vertical-align: top;\n",
       "    }\n",
       "\n",
       "    .dataframe thead th {\n",
       "        text-align: right;\n",
       "    }\n",
       "</style>\n",
       "<table border=\"1\" class=\"dataframe\">\n",
       "  <thead>\n",
       "    <tr style=\"text-align: right;\">\n",
       "      <th></th>\n",
       "      <th>ucsc_name</th>\n",
       "      <th>distance_from_tss</th>\n",
       "      <th>value</th>\n",
       "      <th>velocity</th>\n",
       "      <th>transcription_front</th>\n",
       "      <th>est_time</th>\n",
       "      <th>time_bin</th>\n",
       "      <th>mean_per_bin</th>\n",
       "      <th>stdev_per_bin</th>\n",
       "      <th>speed_compared_to_avg</th>\n",
       "      <th>z_score</th>\n",
       "    </tr>\n",
       "  </thead>\n",
       "  <tbody>\n",
       "    <tr>\n",
       "      <th>0</th>\n",
       "      <td>chr10:118297929-118342320;-</td>\n",
       "      <td>0.0</td>\n",
       "      <td>0.195874</td>\n",
       "      <td>3.6375</td>\n",
       "      <td>145.5</td>\n",
       "      <td>40.000000</td>\n",
       "      <td>(39.5, 40.0]</td>\n",
       "      <td>NaN</td>\n",
       "      <td>NaN</td>\n",
       "      <td>NaN</td>\n",
       "      <td>NaN</td>\n",
       "    </tr>\n",
       "    <tr>\n",
       "      <th>1</th>\n",
       "      <td>chr10:118297929-118342320;-</td>\n",
       "      <td>0.5</td>\n",
       "      <td>0.225174</td>\n",
       "      <td>3.6375</td>\n",
       "      <td>145.5</td>\n",
       "      <td>39.862543</td>\n",
       "      <td>(39.5, 40.0]</td>\n",
       "      <td>NaN</td>\n",
       "      <td>NaN</td>\n",
       "      <td>NaN</td>\n",
       "      <td>NaN</td>\n",
       "    </tr>\n",
       "    <tr>\n",
       "      <th>2</th>\n",
       "      <td>chr10:118297929-118342320;-</td>\n",
       "      <td>1.0</td>\n",
       "      <td>0.215297</td>\n",
       "      <td>3.6375</td>\n",
       "      <td>145.5</td>\n",
       "      <td>39.725086</td>\n",
       "      <td>(39.5, 40.0]</td>\n",
       "      <td>NaN</td>\n",
       "      <td>NaN</td>\n",
       "      <td>NaN</td>\n",
       "      <td>NaN</td>\n",
       "    </tr>\n",
       "    <tr>\n",
       "      <th>3</th>\n",
       "      <td>chr10:118297929-118342320;-</td>\n",
       "      <td>1.5</td>\n",
       "      <td>0.303928</td>\n",
       "      <td>3.6375</td>\n",
       "      <td>145.5</td>\n",
       "      <td>39.587629</td>\n",
       "      <td>(39.5, 40.0]</td>\n",
       "      <td>NaN</td>\n",
       "      <td>NaN</td>\n",
       "      <td>NaN</td>\n",
       "      <td>NaN</td>\n",
       "    </tr>\n",
       "    <tr>\n",
       "      <th>4</th>\n",
       "      <td>chr10:118297929-118342320;-</td>\n",
       "      <td>2.0</td>\n",
       "      <td>0.534973</td>\n",
       "      <td>3.6375</td>\n",
       "      <td>145.5</td>\n",
       "      <td>39.450172</td>\n",
       "      <td>(39.0, 39.5]</td>\n",
       "      <td>NaN</td>\n",
       "      <td>NaN</td>\n",
       "      <td>NaN</td>\n",
       "      <td>NaN</td>\n",
       "    </tr>\n",
       "  </tbody>\n",
       "</table>\n",
       "</div>"
      ],
      "text/plain": [
       "                     ucsc_name  distance_from_tss     value  velocity  \\\n",
       "0  chr10:118297929-118342320;-                0.0  0.195874    3.6375   \n",
       "1  chr10:118297929-118342320;-                0.5  0.225174    3.6375   \n",
       "2  chr10:118297929-118342320;-                1.0  0.215297    3.6375   \n",
       "3  chr10:118297929-118342320;-                1.5  0.303928    3.6375   \n",
       "4  chr10:118297929-118342320;-                2.0  0.534973    3.6375   \n",
       "\n",
       "   transcription_front   est_time      time_bin  mean_per_bin  stdev_per_bin  \\\n",
       "0                145.5  40.000000  (39.5, 40.0]           NaN            NaN   \n",
       "1                145.5  39.862543  (39.5, 40.0]           NaN            NaN   \n",
       "2                145.5  39.725086  (39.5, 40.0]           NaN            NaN   \n",
       "3                145.5  39.587629  (39.5, 40.0]           NaN            NaN   \n",
       "4                145.5  39.450172  (39.0, 39.5]           NaN            NaN   \n",
       "\n",
       "  speed_compared_to_avg  z_score  \n",
       "0                   NaN      NaN  \n",
       "1                   NaN      NaN  \n",
       "2                   NaN      NaN  \n",
       "3                   NaN      NaN  \n",
       "4                   NaN      NaN  "
      ]
     },
     "execution_count": 77,
     "metadata": {},
     "output_type": "execute_result"
    }
   ],
   "source": [
    "time_without_txn.head()"
   ]
  },
  {
   "cell_type": "code",
   "execution_count": 78,
   "metadata": {},
   "outputs": [],
   "source": [
    "correlation_regions = time_without_txn.loc[time_without_txn.speed_compared_to_avg.notnull(), ['ucsc_name', 'distance_from_tss', 'value', 'speed_compared_to_avg', \n",
    "                                                                                              'est_time', 'z_score']]\n",
    "coords = (correlation_regions\n",
    "          .ucsc_name\n",
    "          .str.extract('(.*):(\\d+)-(\\d+);([-+])', expand=True)\n",
    "          .rename(columns = dict(zip(range(4), ['chr', 'start', 'end', 'strand'])))\n",
    "         )\n",
    "correlation_regions = correlation_regions.join(coords)"
   ]
  },
  {
   "cell_type": "code",
   "execution_count": 79,
   "metadata": {},
   "outputs": [],
   "source": [
    "correlation_regions.start = pd.to_numeric(correlation_regions.start)\n",
    "correlation_regions.end = pd.to_numeric(correlation_regions.end)"
   ]
  },
  {
   "cell_type": "code",
   "execution_count": 80,
   "metadata": {},
   "outputs": [],
   "source": [
    "correlation_regions['region_start'] = np.nan\n",
    "correlation_regions['region_end'] = np.nan\n",
    "correlation_regions.loc[correlation_regions.strand == '+', 'region_start'] = (correlation_regions.loc[correlation_regions.strand == '+', 'start'] + \n",
    "                                                                              1000 * correlation_regions.loc[correlation_regions.strand == '+', 'distance_from_tss'])\n",
    "correlation_regions.loc[correlation_regions.strand == '+', 'region_end'] = correlation_regions.loc[correlation_regions.strand == '+', 'region_start'] + 500\n",
    "\n",
    "correlation_regions.loc[correlation_regions.strand == '-', 'region_start'] = (correlation_regions.loc[correlation_regions.strand == '-', 'end'] - \n",
    "                                                                              1000 * (correlation_regions.loc[correlation_regions.strand == '-', 'distance_from_tss'] + 0.5))\n",
    "correlation_regions.loc[correlation_regions.strand == '-', 'region_end'] = correlation_regions.loc[correlation_regions.strand == '-', 'region_start'] + 500"
   ]
  },
  {
   "cell_type": "code",
   "execution_count": 81,
   "metadata": {},
   "outputs": [],
   "source": [
    "correlation_regions.region_end = correlation_regions.region_end.astype(int)\n",
    "correlation_regions.region_start = correlation_regions.region_start.astype(int)"
   ]
  },
  {
   "cell_type": "code",
   "execution_count": 84,
   "metadata": {},
   "outputs": [],
   "source": [
    "correlation_regions.to_hdf('region_data.hdf', key='region_data')"
   ]
  },
  {
   "cell_type": "code",
   "execution_count": 76,
   "metadata": {},
   "outputs": [],
   "source": [
    "(correlation_regions.loc[:, \n",
    "                    ['chr', 'region_start', 'region_end', 'ucsc_name', 'speed_compared_to_avg', 'strand']]\n",
    " .to_csv('regions_speed.bed', sep='\\t', index=False, header=False))"
   ]
  },
  {
   "cell_type": "code",
   "execution_count": 77,
   "metadata": {},
   "outputs": [
    {
     "name": "stdout",
     "output_type": "stream",
     "text": [
      "chr10\t118334320\t118334820\tchr10:118297929-118342320;-\tns\t-\r\n",
      "chr10\t118333820\t118334320\tchr10:118297929-118342320;-\tns\t-\r\n",
      "chr10\t118333320\t118333820\tchr10:118297929-118342320;-\tns\t-\r\n",
      "chr10\t118332820\t118333320\tchr10:118297929-118342320;-\tfaster\t-\r\n",
      "chr10\t118332320\t118332820\tchr10:118297929-118342320;-\tslower\t-\r\n",
      "chr10\t118331820\t118332320\tchr10:118297929-118342320;-\tslower\t-\r\n",
      "chr10\t118331320\t118331820\tchr10:118297929-118342320;-\tfaster\t-\r\n",
      "chr10\t118330820\t118331320\tchr10:118297929-118342320;-\tns\t-\r\n",
      "chr10\t118330320\t118330820\tchr10:118297929-118342320;-\tns\t-\r\n",
      "chr10\t118329820\t118330320\tchr10:118297929-118342320;-\tns\t-\r\n"
     ]
    }
   ],
   "source": [
    "!head regions_speed.bed"
   ]
  },
  {
   "cell_type": "code",
   "execution_count": 78,
   "metadata": {},
   "outputs": [
    {
     "data": {
      "text/plain": [
       "<matplotlib.axes._subplots.AxesSubplot at 0x1c3d687f98>"
      ]
     },
     "execution_count": 78,
     "metadata": {},
     "output_type": "execute_result"
    },
    {
     "data": {
      "image/png": "[encoded data removed]",
      "text/plain": [
       "<matplotlib.figure.Figure at 0x1c3d6c3748>"
      ]
     },
     "metadata": {},
     "output_type": "display_data"
    }
   ],
   "source": [
    "correlation_regions.est_time.hist()"
   ]
  },
  {
   "cell_type": "code",
   "execution_count": 126,
   "metadata": {},
   "outputs": [],
   "source": [
    "extreme_vals = correlation_regions[((correlation_regions.est_time - 25).abs() < 1) &\n",
    "                              (correlation_regions.z_score.abs() > 1) & \n",
    "                              (correlation_regions.value < 1.1)\n",
    "                           ]\n",
    "\n",
    "non_extreme_vals = correlation_regions[((correlation_regions.est_time - 25).abs() < 1) &\n",
    "                              (correlation_regions.z_score.abs() < 0.1) & \n",
    "                              (correlation_regions.value < 1.1)\n",
    "                           ]\n",
    "\n",
    "extreme_vals_17 = correlation_regions[((correlation_regions.est_time - 23).abs() < 1) &\n",
    "                              (correlation_regions.z_score.abs() > 1) & \n",
    "                              (correlation_regions.value < 1.1)\n",
    "                           ]\n",
    "\n",
    "\n",
    "non_extreme_vals_17 = correlation_regions[((correlation_regions.est_time - 23).abs() < 1) &\n",
    "                              (correlation_regions.z_score.abs() < 0.1) & \n",
    "                              (correlation_regions.value < 1.1)\n",
    "                           ]"
   ]
  },
  {
   "cell_type": "code",
   "execution_count": 116,
   "metadata": {},
   "outputs": [
    {
     "data": {
      "text/html": [
       "<div>\n",
       "<style scoped>\n",
       "    .dataframe tbody tr th:only-of-type {\n",
       "        vertical-align: middle;\n",
       "    }\n",
       "\n",
       "    .dataframe tbody tr th {\n",
       "        vertical-align: top;\n",
       "    }\n",
       "\n",
       "    .dataframe thead th {\n",
       "        text-align: right;\n",
       "    }\n",
       "</style>\n",
       "<table border=\"1\" class=\"dataframe\">\n",
       "  <thead>\n",
       "    <tr style=\"text-align: right;\">\n",
       "      <th></th>\n",
       "      <th>ucsc_name</th>\n",
       "      <th>distance_from_tss</th>\n",
       "      <th>value</th>\n",
       "      <th>speed_compared_to_avg</th>\n",
       "      <th>est_time</th>\n",
       "      <th>z_score</th>\n",
       "      <th>chr</th>\n",
       "      <th>start</th>\n",
       "      <th>end</th>\n",
       "      <th>strand</th>\n",
       "      <th>region_start</th>\n",
       "      <th>region_end</th>\n",
       "    </tr>\n",
       "  </thead>\n",
       "  <tbody>\n",
       "    <tr>\n",
       "      <th>19318</th>\n",
       "      <td>chr5:57174116-57263082;+</td>\n",
       "      <td>53.0</td>\n",
       "      <td>0.0</td>\n",
       "      <td>faster</td>\n",
       "      <td>24.411765</td>\n",
       "      <td>-1.266392</td>\n",
       "      <td>chr5</td>\n",
       "      <td>57174116</td>\n",
       "      <td>57263082</td>\n",
       "      <td>+</td>\n",
       "      <td>57227116</td>\n",
       "      <td>57227616</td>\n",
       "    </tr>\n",
       "    <tr>\n",
       "      <th>16199</th>\n",
       "      <td>chr8:109240918-109334385;-</td>\n",
       "      <td>56.0</td>\n",
       "      <td>0.0</td>\n",
       "      <td>faster</td>\n",
       "      <td>25.033409</td>\n",
       "      <td>-1.215870</td>\n",
       "      <td>chr8</td>\n",
       "      <td>109240918</td>\n",
       "      <td>109334385</td>\n",
       "      <td>-</td>\n",
       "      <td>109277885</td>\n",
       "      <td>109278385</td>\n",
       "    </tr>\n",
       "    <tr>\n",
       "      <th>8836</th>\n",
       "      <td>chr4:143513462-143557486;+</td>\n",
       "      <td>40.5</td>\n",
       "      <td>0.0</td>\n",
       "      <td>faster</td>\n",
       "      <td>25.470852</td>\n",
       "      <td>-1.215870</td>\n",
       "      <td>chr4</td>\n",
       "      <td>143513462</td>\n",
       "      <td>143557486</td>\n",
       "      <td>+</td>\n",
       "      <td>143553962</td>\n",
       "      <td>143554462</td>\n",
       "    </tr>\n",
       "    <tr>\n",
       "      <th>19808</th>\n",
       "      <td>chr1:94171750-94237565;-</td>\n",
       "      <td>58.0</td>\n",
       "      <td>0.0</td>\n",
       "      <td>faster</td>\n",
       "      <td>25.016145</td>\n",
       "      <td>-1.215870</td>\n",
       "      <td>chr1</td>\n",
       "      <td>94171750</td>\n",
       "      <td>94237565</td>\n",
       "      <td>-</td>\n",
       "      <td>94179065</td>\n",
       "      <td>94179565</td>\n",
       "    </tr>\n",
       "    <tr>\n",
       "      <th>20041</th>\n",
       "      <td>chr1:212736955-212791782;-</td>\n",
       "      <td>43.0</td>\n",
       "      <td>0.0</td>\n",
       "      <td>faster</td>\n",
       "      <td>25.706370</td>\n",
       "      <td>-1.206734</td>\n",
       "      <td>chr1</td>\n",
       "      <td>212736955</td>\n",
       "      <td>212791782</td>\n",
       "      <td>-</td>\n",
       "      <td>212748282</td>\n",
       "      <td>212748782</td>\n",
       "    </tr>\n",
       "  </tbody>\n",
       "</table>\n",
       "</div>"
      ],
      "text/plain": [
       "                        ucsc_name  distance_from_tss  value  \\\n",
       "19318    chr5:57174116-57263082;+               53.0    0.0   \n",
       "16199  chr8:109240918-109334385;-               56.0    0.0   \n",
       "8836   chr4:143513462-143557486;+               40.5    0.0   \n",
       "19808    chr1:94171750-94237565;-               58.0    0.0   \n",
       "20041  chr1:212736955-212791782;-               43.0    0.0   \n",
       "\n",
       "      speed_compared_to_avg   est_time   z_score   chr      start        end  \\\n",
       "19318                faster  24.411765 -1.266392  chr5   57174116   57263082   \n",
       "16199                faster  25.033409 -1.215870  chr8  109240918  109334385   \n",
       "8836                 faster  25.470852 -1.215870  chr4  143513462  143557486   \n",
       "19808                faster  25.016145 -1.215870  chr1   94171750   94237565   \n",
       "20041                faster  25.706370 -1.206734  chr1  212736955  212791782   \n",
       "\n",
       "      strand  region_start  region_end  \n",
       "19318      +      57227116    57227616  \n",
       "16199      -     109277885   109278385  \n",
       "8836       +     143553962   143554462  \n",
       "19808      -      94179065    94179565  \n",
       "20041      -     212748282   212748782  "
      ]
     },
     "execution_count": 116,
     "metadata": {},
     "output_type": "execute_result"
    }
   ],
   "source": [
    "extreme_vals.sort_values('z_score').head()"
   ]
  },
  {
   "cell_type": "code",
   "execution_count": 117,
   "metadata": {},
   "outputs": [
    {
     "data": {
      "text/html": [
       "<div>\n",
       "<style scoped>\n",
       "    .dataframe tbody tr th:only-of-type {\n",
       "        vertical-align: middle;\n",
       "    }\n",
       "\n",
       "    .dataframe tbody tr th {\n",
       "        vertical-align: top;\n",
       "    }\n",
       "\n",
       "    .dataframe thead th {\n",
       "        text-align: right;\n",
       "    }\n",
       "</style>\n",
       "<table border=\"1\" class=\"dataframe\">\n",
       "  <thead>\n",
       "    <tr style=\"text-align: right;\">\n",
       "      <th></th>\n",
       "      <th>ucsc_name</th>\n",
       "      <th>distance_from_tss</th>\n",
       "      <th>value</th>\n",
       "      <th>speed_compared_to_avg</th>\n",
       "      <th>est_time</th>\n",
       "      <th>z_score</th>\n",
       "      <th>chr</th>\n",
       "      <th>start</th>\n",
       "      <th>end</th>\n",
       "      <th>strand</th>\n",
       "      <th>region_start</th>\n",
       "      <th>region_end</th>\n",
       "    </tr>\n",
       "  </thead>\n",
       "  <tbody>\n",
       "    <tr>\n",
       "      <th>21508</th>\n",
       "      <td>chr1:229440259-229508341;-</td>\n",
       "      <td>59.5</td>\n",
       "      <td>0.973920</td>\n",
       "      <td>slower</td>\n",
       "      <td>25.819264</td>\n",
       "      <td>3.259846</td>\n",
       "      <td>chr1</td>\n",
       "      <td>229440259</td>\n",
       "      <td>229508341</td>\n",
       "      <td>-</td>\n",
       "      <td>229448341</td>\n",
       "      <td>229448841</td>\n",
       "    </tr>\n",
       "    <tr>\n",
       "      <th>8345</th>\n",
       "      <td>chr3:152268039-152465779;+</td>\n",
       "      <td>155.5</td>\n",
       "      <td>1.084948</td>\n",
       "      <td>slower</td>\n",
       "      <td>24.051282</td>\n",
       "      <td>3.290669</td>\n",
       "      <td>chr3</td>\n",
       "      <td>152268039</td>\n",
       "      <td>152465779</td>\n",
       "      <td>+</td>\n",
       "      <td>152423539</td>\n",
       "      <td>152424039</td>\n",
       "    </tr>\n",
       "    <tr>\n",
       "      <th>8311</th>\n",
       "      <td>chr3:152268039-152465779;+</td>\n",
       "      <td>138.5</td>\n",
       "      <td>1.011034</td>\n",
       "      <td>slower</td>\n",
       "      <td>25.794872</td>\n",
       "      <td>3.430058</td>\n",
       "      <td>chr3</td>\n",
       "      <td>152268039</td>\n",
       "      <td>152465779</td>\n",
       "      <td>+</td>\n",
       "      <td>152406539</td>\n",
       "      <td>152407039</td>\n",
       "    </tr>\n",
       "    <tr>\n",
       "      <th>8312</th>\n",
       "      <td>chr3:152268039-152465779;+</td>\n",
       "      <td>139.0</td>\n",
       "      <td>1.059364</td>\n",
       "      <td>slower</td>\n",
       "      <td>25.743590</td>\n",
       "      <td>3.651708</td>\n",
       "      <td>chr3</td>\n",
       "      <td>152268039</td>\n",
       "      <td>152465779</td>\n",
       "      <td>+</td>\n",
       "      <td>152407039</td>\n",
       "      <td>152407539</td>\n",
       "    </tr>\n",
       "    <tr>\n",
       "      <th>19066</th>\n",
       "      <td>chr9:94558719-94593793;-</td>\n",
       "      <td>26.5</td>\n",
       "      <td>1.063392</td>\n",
       "      <td>slower</td>\n",
       "      <td>25.929201</td>\n",
       "      <td>3.670183</td>\n",
       "      <td>chr9</td>\n",
       "      <td>94558719</td>\n",
       "      <td>94593793</td>\n",
       "      <td>-</td>\n",
       "      <td>94566793</td>\n",
       "      <td>94567293</td>\n",
       "    </tr>\n",
       "  </tbody>\n",
       "</table>\n",
       "</div>"
      ],
      "text/plain": [
       "                        ucsc_name  distance_from_tss     value  \\\n",
       "21508  chr1:229440259-229508341;-               59.5  0.973920   \n",
       "8345   chr3:152268039-152465779;+              155.5  1.084948   \n",
       "8311   chr3:152268039-152465779;+              138.5  1.011034   \n",
       "8312   chr3:152268039-152465779;+              139.0  1.059364   \n",
       "19066    chr9:94558719-94593793;-               26.5  1.063392   \n",
       "\n",
       "      speed_compared_to_avg   est_time   z_score   chr      start        end  \\\n",
       "21508                slower  25.819264  3.259846  chr1  229440259  229508341   \n",
       "8345                 slower  24.051282  3.290669  chr3  152268039  152465779   \n",
       "8311                 slower  25.794872  3.430058  chr3  152268039  152465779   \n",
       "8312                 slower  25.743590  3.651708  chr3  152268039  152465779   \n",
       "19066                slower  25.929201  3.670183  chr9   94558719   94593793   \n",
       "\n",
       "      strand  region_start  region_end  \n",
       "21508      -     229448341   229448841  \n",
       "8345       +     152423539   152424039  \n",
       "8311       +     152406539   152407039  \n",
       "8312       +     152407039   152407539  \n",
       "19066      -      94566793    94567293  "
      ]
     },
     "execution_count": 117,
     "metadata": {},
     "output_type": "execute_result"
    }
   ],
   "source": [
    "extreme_vals.sort_values('z_score').tail()"
   ]
  },
  {
   "cell_type": "code",
   "execution_count": 118,
   "metadata": {},
   "outputs": [],
   "source": [
    "def region_index(df):\n",
    "    return df.chr.str.cat(df.region_start.astype(str).str.cat(df.region_end.astype(str), sep='-'), sep=':')\n"
   ]
  },
  {
   "cell_type": "code",
   "execution_count": 127,
   "metadata": {},
   "outputs": [
    {
     "name": "stderr",
     "output_type": "stream",
     "text": [
      "/Users/cimprich/anaconda/lib/python3.6/site-packages/ipykernel_launcher.py:1: SettingWithCopyWarning: \n",
      "A value is trying to be set on a copy of a slice from a DataFrame.\n",
      "Try using .loc[row_indexer,col_indexer] = value instead\n",
      "\n",
      "See the caveats in the documentation: http://pandas.pydata.org/pandas-docs/stable/indexing.html#indexing-view-versus-copy\n",
      "  \"\"\"Entry point for launching an IPython kernel.\n",
      "/Users/cimprich/anaconda/lib/python3.6/site-packages/ipykernel_launcher.py:2: SettingWithCopyWarning: \n",
      "A value is trying to be set on a copy of a slice from a DataFrame.\n",
      "Try using .loc[row_indexer,col_indexer] = value instead\n",
      "\n",
      "See the caveats in the documentation: http://pandas.pydata.org/pandas-docs/stable/indexing.html#indexing-view-versus-copy\n",
      "  \n",
      "/Users/cimprich/anaconda/lib/python3.6/site-packages/ipykernel_launcher.py:3: SettingWithCopyWarning: \n",
      "A value is trying to be set on a copy of a slice from a DataFrame.\n",
      "Try using .loc[row_indexer,col_indexer] = value instead\n",
      "\n",
      "See the caveats in the documentation: http://pandas.pydata.org/pandas-docs/stable/indexing.html#indexing-view-versus-copy\n",
      "  This is separate from the ipykernel package so we can avoid doing imports until\n",
      "/Users/cimprich/anaconda/lib/python3.6/site-packages/ipykernel_launcher.py:4: SettingWithCopyWarning: \n",
      "A value is trying to be set on a copy of a slice from a DataFrame.\n",
      "Try using .loc[row_indexer,col_indexer] = value instead\n",
      "\n",
      "See the caveats in the documentation: http://pandas.pydata.org/pandas-docs/stable/indexing.html#indexing-view-versus-copy\n",
      "  after removing the cwd from sys.path.\n"
     ]
    }
   ],
   "source": [
    "extreme_vals['region_index'] = region_index(extreme_vals)\n",
    "non_extreme_vals['region_index'] = region_index(non_extreme_vals)\n",
    "extreme_vals_17['region_index'] = region_index(extreme_vals_17)\n",
    "non_extreme_vals_17['region_index'] = region_index(non_extreme_vals_17)"
   ]
  },
  {
   "cell_type": "code",
   "execution_count": 120,
   "metadata": {},
   "outputs": [
    {
     "data": {
      "text/plain": [
       "67.35625"
      ]
     },
     "execution_count": 120,
     "metadata": {},
     "output_type": "execute_result"
    }
   ],
   "source": [
    "extreme_vals.distance_from_tss.mean()\n",
    "extreme_vals.distance_from_tss.mean()"
   ]
  },
  {
   "cell_type": "code",
   "execution_count": 125,
   "metadata": {},
   "outputs": [],
   "source": [
    "\n",
    "(extreme_vals.loc[(extreme_vals.distance_from_tss - 66) < 5, \n",
    "                 ['chr', 'region_start', 'region_end', 'region_index', 'value', 'strand']]\n",
    "    .sort_values(['chr', 'region_start', 'region_end'])\n",
    "    .to_csv('extreme_regions/regions_extreme.bed', sep='\\t', index=False, header=False)\n",
    ")\n",
    "\n",
    "(non_extreme_vals.loc[(non_extreme_vals.distance_from_tss - 66) < 5, \n",
    "                 ['chr', 'region_start', 'region_end', 'region_index', 'value', 'strand']]\n",
    "    .sort_values(['chr', 'region_start', 'region_end'])\n",
    "    .to_csv('extreme_regions/regions_non_extreme.bed', sep='\\t', index=False, header=False)\n",
    ")\n",
    "\n",
    "(extreme_vals_17.loc[(extreme_vals_17.distance_from_tss - 83) < 5, \n",
    "                 ['chr', 'region_start', 'region_end', 'region_index', 'value', 'strand']]\n",
    "    .sort_values(['chr', 'region_start', 'region_end'])\n",
    "    .to_csv('extreme_regions/regions_extreme_17.bed', sep='\\t', index=False, header=False)\n",
    ")\n",
    "\n",
    "(non_extreme_vals_17.loc[(non_extreme_vals_17.distance_from_tss - 83) < 5, \n",
    "                 ['chr', 'region_start', 'region_end', 'region_index', 'value', 'strand']]\n",
    "    .sort_values(['chr', 'region_start', 'region_end'])\n",
    "    .to_csv('extreme_regions/regions_non_extreme_17.bed', sep='\\t', index=False, header=False)\n",
    ")"
   ]
  },
  {
   "cell_type": "code",
   "execution_count": null,
   "metadata": {},
   "outputs": [],
   "source": []
  }
 ],
 "metadata": {
  "kernelspec": {
   "display_name": "Python 3",
   "language": "python",
   "name": "python3"
  },
  "language_info": {
   "codemirror_mode": {
    "name": "ipython",
    "version": 3
   },
   "file_extension": ".py",
   "mimetype": "text/x-python",
   "name": "python",
   "nbconvert_exporter": "python",
   "pygments_lexer": "ipython3",
   "version": "3.6.8"
  }
 },
 "nbformat": 4,
 "nbformat_minor": 2
}
