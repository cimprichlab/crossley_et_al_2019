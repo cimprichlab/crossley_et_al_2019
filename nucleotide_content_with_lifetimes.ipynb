{
 "cells": [
  {
   "cell_type": "code",
   "execution_count": 9,
   "metadata": {},
   "outputs": [],
   "source": [
    "%matplotlib inline\n",
    "\n",
    "import json\n",
    "import glob\n",
    "import re\n",
    "import itertools\n",
    "import functools\n",
    "\n",
    "import pandas as pd\n",
    "import numpy as np\n",
    "import matplotlib as mpl\n",
    "from matplotlib import pyplot as plt\n",
    "import seaborn as sns\n",
    "from scipy import stats\n",
    "\n",
    "mpl.rc('font', family='Arial', size=12)"
   ]
  },
  {
   "cell_type": "code",
   "execution_count": 10,
   "metadata": {},
   "outputs": [],
   "source": [
    "nuc_content = pd.read_csv('genome_correlations/nucleotide_content.tsv', sep='\\t')"
   ]
  },
  {
   "cell_type": "code",
   "execution_count": 11,
   "metadata": {},
   "outputs": [
    {
     "data": {
      "text/plain": [
       "Index(['chr', 'start', 'end', 'ucsc_name', 'region_type', 'strand', 'pct_at',\n",
       "       'pct_gc', 'num_A', 'num_C', 'num_G', 'num_T', 'num_N', 'num_oth',\n",
       "       'seq_len'],\n",
       "      dtype='object')"
      ]
     },
     "execution_count": 11,
     "metadata": {},
     "output_type": "execute_result"
    }
   ],
   "source": [
    "nuc_content.columns"
   ]
  },
  {
   "cell_type": "code",
   "execution_count": 12,
   "metadata": {},
   "outputs": [
    {
     "data": {
      "text/html": [
       "<div>\n",
       "<style scoped>\n",
       "    .dataframe tbody tr th:only-of-type {\n",
       "        vertical-align: middle;\n",
       "    }\n",
       "\n",
       "    .dataframe tbody tr th {\n",
       "        vertical-align: top;\n",
       "    }\n",
       "\n",
       "    .dataframe thead th {\n",
       "        text-align: right;\n",
       "    }\n",
       "</style>\n",
       "<table border=\"1\" class=\"dataframe\">\n",
       "  <thead>\n",
       "    <tr style=\"text-align: right;\">\n",
       "      <th></th>\n",
       "      <th>chr</th>\n",
       "      <th>start</th>\n",
       "      <th>end</th>\n",
       "      <th>ucsc_name</th>\n",
       "      <th>region_type</th>\n",
       "      <th>strand</th>\n",
       "      <th>pct_at</th>\n",
       "      <th>pct_gc</th>\n",
       "      <th>num_A</th>\n",
       "      <th>num_C</th>\n",
       "      <th>num_G</th>\n",
       "      <th>num_T</th>\n",
       "      <th>num_N</th>\n",
       "      <th>num_oth</th>\n",
       "      <th>seq_len</th>\n",
       "    </tr>\n",
       "  </thead>\n",
       "  <tbody>\n",
       "    <tr>\n",
       "      <th>0</th>\n",
       "      <td>chr10</td>\n",
       "      <td>118334320</td>\n",
       "      <td>118334820</td>\n",
       "      <td>chr10:118297929-118342320;-</td>\n",
       "      <td>ns</td>\n",
       "      <td>-</td>\n",
       "      <td>0.564</td>\n",
       "      <td>0.436</td>\n",
       "      <td>120</td>\n",
       "      <td>151</td>\n",
       "      <td>67</td>\n",
       "      <td>162</td>\n",
       "      <td>0</td>\n",
       "      <td>0</td>\n",
       "      <td>500</td>\n",
       "    </tr>\n",
       "    <tr>\n",
       "      <th>1</th>\n",
       "      <td>chr10</td>\n",
       "      <td>118333820</td>\n",
       "      <td>118334320</td>\n",
       "      <td>chr10:118297929-118342320;-</td>\n",
       "      <td>ns</td>\n",
       "      <td>-</td>\n",
       "      <td>0.590</td>\n",
       "      <td>0.410</td>\n",
       "      <td>157</td>\n",
       "      <td>133</td>\n",
       "      <td>72</td>\n",
       "      <td>138</td>\n",
       "      <td>0</td>\n",
       "      <td>0</td>\n",
       "      <td>500</td>\n",
       "    </tr>\n",
       "    <tr>\n",
       "      <th>2</th>\n",
       "      <td>chr10</td>\n",
       "      <td>118333320</td>\n",
       "      <td>118333820</td>\n",
       "      <td>chr10:118297929-118342320;-</td>\n",
       "      <td>ns</td>\n",
       "      <td>-</td>\n",
       "      <td>0.632</td>\n",
       "      <td>0.368</td>\n",
       "      <td>157</td>\n",
       "      <td>95</td>\n",
       "      <td>89</td>\n",
       "      <td>159</td>\n",
       "      <td>0</td>\n",
       "      <td>0</td>\n",
       "      <td>500</td>\n",
       "    </tr>\n",
       "    <tr>\n",
       "      <th>3</th>\n",
       "      <td>chr10</td>\n",
       "      <td>118332820</td>\n",
       "      <td>118333320</td>\n",
       "      <td>chr10:118297929-118342320;-</td>\n",
       "      <td>faster</td>\n",
       "      <td>-</td>\n",
       "      <td>0.668</td>\n",
       "      <td>0.332</td>\n",
       "      <td>196</td>\n",
       "      <td>76</td>\n",
       "      <td>90</td>\n",
       "      <td>138</td>\n",
       "      <td>0</td>\n",
       "      <td>0</td>\n",
       "      <td>500</td>\n",
       "    </tr>\n",
       "    <tr>\n",
       "      <th>4</th>\n",
       "      <td>chr10</td>\n",
       "      <td>118332320</td>\n",
       "      <td>118332820</td>\n",
       "      <td>chr10:118297929-118342320;-</td>\n",
       "      <td>slower</td>\n",
       "      <td>-</td>\n",
       "      <td>0.578</td>\n",
       "      <td>0.422</td>\n",
       "      <td>167</td>\n",
       "      <td>155</td>\n",
       "      <td>56</td>\n",
       "      <td>122</td>\n",
       "      <td>0</td>\n",
       "      <td>0</td>\n",
       "      <td>500</td>\n",
       "    </tr>\n",
       "  </tbody>\n",
       "</table>\n",
       "</div>"
      ],
      "text/plain": [
       "     chr      start        end                    ucsc_name region_type  \\\n",
       "0  chr10  118334320  118334820  chr10:118297929-118342320;-          ns   \n",
       "1  chr10  118333820  118334320  chr10:118297929-118342320;-          ns   \n",
       "2  chr10  118333320  118333820  chr10:118297929-118342320;-          ns   \n",
       "3  chr10  118332820  118333320  chr10:118297929-118342320;-      faster   \n",
       "4  chr10  118332320  118332820  chr10:118297929-118342320;-      slower   \n",
       "\n",
       "  strand  pct_at  pct_gc  num_A  num_C  num_G  num_T  num_N  num_oth  seq_len  \n",
       "0      -   0.564   0.436    120    151     67    162      0        0      500  \n",
       "1      -   0.590   0.410    157    133     72    138      0        0      500  \n",
       "2      -   0.632   0.368    157     95     89    159      0        0      500  \n",
       "3      -   0.668   0.332    196     76     90    138      0        0      500  \n",
       "4      -   0.578   0.422    167    155     56    122      0        0      500  "
      ]
     },
     "execution_count": 12,
     "metadata": {},
     "output_type": "execute_result"
    }
   ],
   "source": [
    "nuc_content.head()"
   ]
  },
  {
   "cell_type": "code",
   "execution_count": 13,
   "metadata": {},
   "outputs": [
    {
     "data": {
      "image/png": "[encoded data removed]",
      "text/plain": [
       "<matplotlib.figure.Figure at 0x1a1768a630>"
      ]
     },
     "metadata": {},
     "output_type": "display_data"
    }
   ],
   "source": [
    "fig,ax = plt.subplots(figsize=(3.5,(0.945)*3))\n",
    "sns.violinplot(\n",
    " x = 'region_type',\n",
    " y = 'pct_gc',\n",
    " data = nuc_content,\n",
    " order = ['faster', 'ns', 'slower'],\n",
    " palette=['#cf363f','#abcdef', '#6366cf'],\n",
    " ax=ax\n",
    ")\n",
    "ax.set_ylabel('Percent GC', fontsize=12)\n",
    "ax.set_xlabel('')\n",
    "ax.set_xticklabels(['Less stable', 'NS', 'More stable'], fontsize=12)\n",
    "fig.tight_layout()\n",
    "fig.savefig('Correlation_to_gc_content.pdf', transparent=True)"
   ]
  },
  {
   "cell_type": "code",
   "execution_count": 14,
   "metadata": {},
   "outputs": [
    {
     "data": {
      "image/png": "[encoded data removed]",
      "text/plain": [
       "<matplotlib.figure.Figure at 0x1a1768a0b8>"
      ]
     },
     "metadata": {},
     "output_type": "display_data"
    }
   ],
   "source": [
    "fig,ax = plt.subplots(figsize=(3.5,(0.945)*3))\n",
    "sns.violinplot(\n",
    " x = 'region_type',\n",
    " y = 'pct_gc',\n",
    " data = nuc_content,\n",
    " order = ['faster', 'ns', 'slower'],\n",
    " palette=['#cf363f','#abcdef', '#6366cf'],\n",
    " ax=ax\n",
    ")\n",
    "ax.set_ylabel('', fontsize=12)\n",
    "ax.set_yticks([0.2, 0.4, 0.6, 0.8])\n",
    "ax.set_yticklabels('')\n",
    "ax.set_xticklabels('')\n",
    "ax.set_xlabel('')\n",
    "fig.tight_layout()\n",
    "fig.savefig('Correlation_to_gc_content.svg', transparent=True)"
   ]
  },
  {
   "cell_type": "code",
   "execution_count": 15,
   "metadata": {},
   "outputs": [],
   "source": [
    "plt.show(ax)"
   ]
  },
  {
   "cell_type": "code",
   "execution_count": 16,
   "metadata": {},
   "outputs": [
    {
     "data": {
      "text/plain": [
       "KruskalResult(statistic=656.6889888745842, pvalue=2.5223067526508954e-143)"
      ]
     },
     "execution_count": 16,
     "metadata": {},
     "output_type": "execute_result"
    }
   ],
   "source": [
    "stats.kruskal(nuc_content.loc[nuc_content.region_type == 'slower', 'pct_gc'], \n",
    "              nuc_content.loc[nuc_content.region_type == 'ns', 'pct_gc'], \n",
    "              nuc_content.loc[nuc_content.region_type == 'faster', 'pct_gc'])"
   ]
  },
  {
   "cell_type": "code",
   "execution_count": 17,
   "metadata": {},
   "outputs": [
    {
     "data": {
      "text/plain": [
       "KruskalResult(statistic=515.0972609304422, pvalue=4.934092998396332e-114)"
      ]
     },
     "execution_count": 17,
     "metadata": {},
     "output_type": "execute_result"
    }
   ],
   "source": [
    "stats.kruskal(nuc_content.loc[nuc_content.region_type == 'slower', 'pct_gc'], \n",
    "              nuc_content.loc[nuc_content.region_type == 'faster', 'pct_gc'])"
   ]
  },
  {
   "cell_type": "code",
   "execution_count": 18,
   "metadata": {},
   "outputs": [],
   "source": [
    "nuc_content['g_skew'] = (nuc_content.num_G - nuc_content.num_C)/(nuc_content.num_G + nuc_content.num_C)\n",
    "nuc_content['a_skew'] = (nuc_content.num_A - nuc_content.num_T)/(nuc_content.num_A + nuc_content.num_T)"
   ]
  },
  {
   "cell_type": "code",
   "execution_count": 19,
   "metadata": {},
   "outputs": [],
   "source": [
    "nuc_content.loc[nuc_content.strand == '-', 'g_skew'] = -nuc_content.loc[nuc_content.strand == '-', 'g_skew']\n",
    "nuc_content.loc[nuc_content.strand == '-', 'a_skew'] = -nuc_content.loc[nuc_content.strand == '-', 'a_skew']\n"
   ]
  },
  {
   "cell_type": "code",
   "execution_count": 20,
   "metadata": {},
   "outputs": [
    {
     "data": {
      "text/plain": [
       "KruskalResult(statistic=33.587136370938524, pvalue=5.089158834628709e-08)"
      ]
     },
     "execution_count": 20,
     "metadata": {},
     "output_type": "execute_result"
    }
   ],
   "source": [
    "stats.kruskal(nuc_content.loc[nuc_content.region_type == 'slower', 'g_skew'], \n",
    "              nuc_content.loc[nuc_content.region_type == 'ns', 'g_skew'], \n",
    "              nuc_content.loc[nuc_content.region_type == 'faster', 'g_skew'])"
   ]
  },
  {
   "cell_type": "code",
   "execution_count": 24,
   "metadata": {},
   "outputs": [
    {
     "data": {
      "image/png": "[encoded data removed]",
      "text/plain": [
       "<matplotlib.figure.Figure at 0x1a1fb7ac88>"
      ]
     },
     "metadata": {},
     "output_type": "display_data"
    }
   ],
   "source": [
    "fig, ax = plt.subplots(figsize=(3.5,1.5))\n",
    "sns.violinplot(\n",
    " x = 'region_type',\n",
    " y = 'g_skew',\n",
    " data = nuc_content,\n",
    " order = ['faster', 'ns', 'slower'],\n",
    " palette=['#cf363f','#abcdef', '#6366cf']\n",
    ")\n",
    "ax.set_ylabel('GC-skew')\n",
    "ax.set_ylim(-1.2,1.2)\n",
    "ax.set_xlabel('')\n",
    "ax.set_xticklabels(['Less stable', 'NS', 'More stable'])\n",
    "fig.tight_layout()\n",
    "fig.savefig('Correlation_to_g_skew.pdf', transparent=True)\n",
    "fig.savefig('Correlation_to_g_skew.svg', transparent=True)"
   ]
  },
  {
   "cell_type": "code",
   "execution_count": 22,
   "metadata": {},
   "outputs": [
    {
     "data": {
      "text/plain": [
       "region_type\n",
       "faster    0.028349\n",
       "ns        0.042458\n",
       "slower    0.033807\n",
       "Name: g_skew, dtype: float64"
      ]
     },
     "execution_count": 22,
     "metadata": {},
     "output_type": "execute_result"
    }
   ],
   "source": [
    "nuc_content.groupby('region_type').g_skew.mean()"
   ]
  },
  {
   "cell_type": "code",
   "execution_count": 36,
   "metadata": {
    "scrolled": true
   },
   "outputs": [
    {
     "data": {
      "text/html": [
       "<div>\n",
       "<style scoped>\n",
       "    .dataframe tbody tr th:only-of-type {\n",
       "        vertical-align: middle;\n",
       "    }\n",
       "\n",
       "    .dataframe tbody tr th {\n",
       "        vertical-align: top;\n",
       "    }\n",
       "\n",
       "    .dataframe thead th {\n",
       "        text-align: right;\n",
       "    }\n",
       "</style>\n",
       "<table border=\"1\" class=\"dataframe\">\n",
       "  <thead>\n",
       "    <tr style=\"text-align: right;\">\n",
       "      <th></th>\n",
       "      <th>mean</th>\n",
       "      <th>std</th>\n",
       "    </tr>\n",
       "    <tr>\n",
       "      <th>region_type</th>\n",
       "      <th></th>\n",
       "      <th></th>\n",
       "    </tr>\n",
       "  </thead>\n",
       "  <tbody>\n",
       "    <tr>\n",
       "      <th>faster</th>\n",
       "      <td>0.028349</td>\n",
       "      <td>0.113512</td>\n",
       "    </tr>\n",
       "    <tr>\n",
       "      <th>ns</th>\n",
       "      <td>0.042458</td>\n",
       "      <td>0.126772</td>\n",
       "    </tr>\n",
       "    <tr>\n",
       "      <th>slower</th>\n",
       "      <td>0.033807</td>\n",
       "      <td>0.127063</td>\n",
       "    </tr>\n",
       "  </tbody>\n",
       "</table>\n",
       "</div>"
      ],
      "text/plain": [
       "                 mean       std\n",
       "region_type                    \n",
       "faster       0.028349  0.113512\n",
       "ns           0.042458  0.126772\n",
       "slower       0.033807  0.127063"
      ]
     },
     "execution_count": 36,
     "metadata": {},
     "output_type": "execute_result"
    }
   ],
   "source": [
    "nuc_content.groupby('region_type').g_skew.agg(['mean', 'std'])"
   ]
  },
  {
   "cell_type": "code",
   "execution_count": 25,
   "metadata": {},
   "outputs": [
    {
     "data": {
      "image/png": "[encoded data removed]",
      "text/plain": [
       "<matplotlib.figure.Figure at 0x1a20a0b940>"
      ]
     },
     "metadata": {},
     "output_type": "display_data"
    }
   ],
   "source": [
    "fig, ax = plt.subplots(figsize=(3.5,1.5))\n",
    "sns.violinplot(\n",
    " x = 'region_type',\n",
    " y = 'a_skew',\n",
    " data = nuc_content,\n",
    " order = ['faster', 'ns', 'slower'],\n",
    " palette=['#cf363f','#abcdef', '#6366cf']\n",
    ")\n",
    "ax.set_ylabel('AT-skew')\n",
    "ax.set_ylim(-1.2,1.2)\n",
    "ax.set_xlabel('')\n",
    "ax.set_xticklabels(['Less stable', 'NS', 'More stable'])\n",
    "fig.tight_layout()\n",
    "fig.savefig('Correlation_to_a_skew.svg', transparent=True)"
   ]
  },
  {
   "cell_type": "code",
   "execution_count": 38,
   "metadata": {
    "scrolled": true
   },
   "outputs": [
    {
     "data": {
      "text/html": [
       "<div>\n",
       "<style scoped>\n",
       "    .dataframe tbody tr th:only-of-type {\n",
       "        vertical-align: middle;\n",
       "    }\n",
       "\n",
       "    .dataframe tbody tr th {\n",
       "        vertical-align: top;\n",
       "    }\n",
       "\n",
       "    .dataframe thead th {\n",
       "        text-align: right;\n",
       "    }\n",
       "</style>\n",
       "<table border=\"1\" class=\"dataframe\">\n",
       "  <thead>\n",
       "    <tr style=\"text-align: right;\">\n",
       "      <th></th>\n",
       "      <th>mean</th>\n",
       "      <th>std</th>\n",
       "    </tr>\n",
       "    <tr>\n",
       "      <th>region_type</th>\n",
       "      <th></th>\n",
       "      <th></th>\n",
       "    </tr>\n",
       "  </thead>\n",
       "  <tbody>\n",
       "    <tr>\n",
       "      <th>faster</th>\n",
       "      <td>0.028349</td>\n",
       "      <td>0.113512</td>\n",
       "    </tr>\n",
       "    <tr>\n",
       "      <th>ns</th>\n",
       "      <td>0.042458</td>\n",
       "      <td>0.126772</td>\n",
       "    </tr>\n",
       "    <tr>\n",
       "      <th>slower</th>\n",
       "      <td>0.033807</td>\n",
       "      <td>0.127063</td>\n",
       "    </tr>\n",
       "  </tbody>\n",
       "</table>\n",
       "</div>"
      ],
      "text/plain": [
       "                 mean       std\n",
       "region_type                    \n",
       "faster       0.028349  0.113512\n",
       "ns           0.042458  0.126772\n",
       "slower       0.033807  0.127063"
      ]
     },
     "execution_count": 38,
     "metadata": {},
     "output_type": "execute_result"
    }
   ],
   "source": [
    "nuc_content.groupby('region_type').g_skew.agg(['mean', 'std'])"
   ]
  },
  {
   "cell_type": "code",
   "execution_count": 39,
   "metadata": {},
   "outputs": [
    {
     "data": {
      "text/plain": [
       "KruskalResult(statistic=26.478884682466408, pvalue=1.7790299017675685e-06)"
      ]
     },
     "execution_count": 39,
     "metadata": {},
     "output_type": "execute_result"
    }
   ],
   "source": [
    "stats.kruskal(nuc_content.loc[nuc_content.region_type == 'slower', 'a_skew'], \n",
    "              nuc_content.loc[nuc_content.region_type == 'ns', 'a_skew'], \n",
    "              nuc_content.loc[nuc_content.region_type == 'faster', 'a_skew'])"
   ]
  },
  {
   "cell_type": "code",
   "execution_count": null,
   "metadata": {},
   "outputs": [],
   "source": []
  }
 ],
 "metadata": {
  "kernelspec": {
   "display_name": "Python 3",
   "language": "python",
   "name": "python3"
  },
  "language_info": {
   "codemirror_mode": {
    "name": "ipython",
    "version": 3
   },
   "file_extension": ".py",
   "mimetype": "text/x-python",
   "name": "python",
   "nbconvert_exporter": "python",
   "pygments_lexer": "ipython3",
   "version": "3.6.8"
  }
 },
 "nbformat": 4,
 "nbformat_minor": 2
}
