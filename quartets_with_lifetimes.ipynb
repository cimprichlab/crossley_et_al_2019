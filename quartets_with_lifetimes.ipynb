{
 "cells": [
  {
   "cell_type": "code",
   "execution_count": 1,
   "metadata": {},
   "outputs": [],
   "source": [
    "%matplotlib inline\n",
    "\n",
    "import json\n",
    "import glob\n",
    "import re\n",
    "import itertools\n",
    "import functools\n",
    "\n",
    "import pandas as pd\n",
    "import numpy as np\n",
    "from matplotlib import pyplot as plt\n",
    "import matplotlib as mpl\n",
    "import seaborn as sns\n",
    "from scipy import stats\n",
    "mpl.rc('font', family='Arial', size=12)"
   ]
  },
  {
   "cell_type": "code",
   "execution_count": 2,
   "metadata": {},
   "outputs": [],
   "source": [
    "quartet_counts = pd.read_csv('genome_correlations/quartet_counts.bed', sep='\\t', names=('chr', 'start', 'end', 'ucsc_name', 'region_type', 'strand', 'n_quartets'))"
   ]
  },
  {
   "cell_type": "code",
   "execution_count": 3,
   "metadata": {},
   "outputs": [
    {
     "data": {
      "text/html": [
       "<div>\n",
       "<style scoped>\n",
       "    .dataframe tbody tr th:only-of-type {\n",
       "        vertical-align: middle;\n",
       "    }\n",
       "\n",
       "    .dataframe tbody tr th {\n",
       "        vertical-align: top;\n",
       "    }\n",
       "\n",
       "    .dataframe thead th {\n",
       "        text-align: right;\n",
       "    }\n",
       "</style>\n",
       "<table border=\"1\" class=\"dataframe\">\n",
       "  <thead>\n",
       "    <tr style=\"text-align: right;\">\n",
       "      <th></th>\n",
       "      <th>chr</th>\n",
       "      <th>start</th>\n",
       "      <th>end</th>\n",
       "      <th>ucsc_name</th>\n",
       "      <th>region_type</th>\n",
       "      <th>strand</th>\n",
       "      <th>n_quartets</th>\n",
       "    </tr>\n",
       "  </thead>\n",
       "  <tbody>\n",
       "    <tr>\n",
       "      <th>0</th>\n",
       "      <td>chr1</td>\n",
       "      <td>13749354</td>\n",
       "      <td>13749854</td>\n",
       "      <td>chr1:13704854-13825079;+</td>\n",
       "      <td>ns</td>\n",
       "      <td>+</td>\n",
       "      <td>3</td>\n",
       "    </tr>\n",
       "    <tr>\n",
       "      <th>1</th>\n",
       "      <td>chr1</td>\n",
       "      <td>13749854</td>\n",
       "      <td>13750354</td>\n",
       "      <td>chr1:13704854-13825079;+</td>\n",
       "      <td>ns</td>\n",
       "      <td>+</td>\n",
       "      <td>0</td>\n",
       "    </tr>\n",
       "    <tr>\n",
       "      <th>2</th>\n",
       "      <td>chr1</td>\n",
       "      <td>13750354</td>\n",
       "      <td>13750854</td>\n",
       "      <td>chr1:13704854-13825079;+</td>\n",
       "      <td>ns</td>\n",
       "      <td>+</td>\n",
       "      <td>0</td>\n",
       "    </tr>\n",
       "    <tr>\n",
       "      <th>3</th>\n",
       "      <td>chr1</td>\n",
       "      <td>13750854</td>\n",
       "      <td>13751354</td>\n",
       "      <td>chr1:13704854-13825079;+</td>\n",
       "      <td>ns</td>\n",
       "      <td>+</td>\n",
       "      <td>0</td>\n",
       "    </tr>\n",
       "    <tr>\n",
       "      <th>4</th>\n",
       "      <td>chr1</td>\n",
       "      <td>13751354</td>\n",
       "      <td>13751854</td>\n",
       "      <td>chr1:13704854-13825079;+</td>\n",
       "      <td>ns</td>\n",
       "      <td>+</td>\n",
       "      <td>0</td>\n",
       "    </tr>\n",
       "  </tbody>\n",
       "</table>\n",
       "</div>"
      ],
      "text/plain": [
       "    chr     start       end                 ucsc_name region_type strand  \\\n",
       "0  chr1  13749354  13749854  chr1:13704854-13825079;+          ns      +   \n",
       "1  chr1  13749854  13750354  chr1:13704854-13825079;+          ns      +   \n",
       "2  chr1  13750354  13750854  chr1:13704854-13825079;+          ns      +   \n",
       "3  chr1  13750854  13751354  chr1:13704854-13825079;+          ns      +   \n",
       "4  chr1  13751354  13751854  chr1:13704854-13825079;+          ns      +   \n",
       "\n",
       "   n_quartets  \n",
       "0           3  \n",
       "1           0  \n",
       "2           0  \n",
       "3           0  \n",
       "4           0  "
      ]
     },
     "execution_count": 3,
     "metadata": {},
     "output_type": "execute_result"
    }
   ],
   "source": [
    "quartet_counts.head()"
   ]
  },
  {
   "cell_type": "code",
   "execution_count": 4,
   "metadata": {},
   "outputs": [
    {
     "data": {
      "text/plain": [
       "0    19422\n",
       "1      507\n",
       "2       32\n",
       "3        9\n",
       "4        2\n",
       "5        1\n",
       "Name: n_quartets, dtype: int64"
      ]
     },
     "execution_count": 4,
     "metadata": {},
     "output_type": "execute_result"
    }
   ],
   "source": [
    "quartet_counts.n_quartets.value_counts()"
   ]
  },
  {
   "cell_type": "code",
   "execution_count": 5,
   "metadata": {},
   "outputs": [
    {
     "data": {
      "image/png": "[encoded data removed]",
      "text/plain": [
       "<matplotlib.figure.Figure at 0x1a0e1f65f8>"
      ]
     },
     "metadata": {},
     "output_type": "display_data"
    }
   ],
   "source": [
    "fig, ax = plt.subplots(ncols=3, sharey=True, figsize=(3.3, 1.5))\n",
    "\n",
    "for a, region_type in zip(ax, ['faster', 'ns', 'slower']):\n",
    "    counts = quartet_counts.loc[quartet_counts.region_type == region_type, 'n_quartets']\n",
    "    a.hist(counts, bins = np.arange(0, 6, 1), normed=True)\n",
    "    a.set_ylim(0, 0.05)\n",
    "    a.set_xticklabels(['']*len(a.get_xticklabels()))\n",
    "ax[0].set_ylabel('')\n",
    "ax[0].set_yticklabels(['']*len(ax[0].get_yticklabels()))\n",
    "fig.savefig('N_quartets.svg')"
   ]
  },
  {
   "cell_type": "code",
   "execution_count": 6,
   "metadata": {},
   "outputs": [
    {
     "data": {
      "text/plain": [
       "[Text(0,0,''), Text(0,0,''), Text(0,0,''), Text(0,0,'')]"
      ]
     },
     "execution_count": 6,
     "metadata": {},
     "output_type": "execute_result"
    },
    {
     "data": {
      "image/png": "[encoded data removed]",
      "text/plain": [
       "<matplotlib.figure.Figure at 0x1a0e1f6240>"
      ]
     },
     "metadata": {},
     "output_type": "display_data"
    }
   ],
   "source": [
    "fig, ax = plt.subplots( sharey=True, figsize=(3.3, 1.5))\n",
    "\n",
    "for region_type in ['faster', 'ns', 'slower']:\n",
    "    counts = quartet_counts.loc[quartet_counts.region_type == region_type, 'n_quartets']\n",
    "    ax.hist(counts, bins = np.arange(0, 6, 1), normed=True, alpha=0.3)\n",
    "    ax.set_ylim(0, 0.05)\n",
    "    ax.set_xticklabels(['']*len(ax.get_xticklabels()))\n",
    "ax.set_ylabel('')\n",
    "ax.set_yticklabels(['']*len(ax.get_yticklabels()))\n",
    "#fig.savefig('N_quartets.svg')"
   ]
  },
  {
   "cell_type": "code",
   "execution_count": 7,
   "metadata": {},
   "outputs": [],
   "source": [
    "count_data = (quartet_counts\n",
    "              .groupby(['region_type', 'n_quartets'])\n",
    "              .size()\n",
    "              .unstack()\n",
    "              .fillna(0)\n",
    "              )"
   ]
  },
  {
   "cell_type": "code",
   "execution_count": 8,
   "metadata": {},
   "outputs": [
    {
     "data": {
      "text/html": [
       "<div>\n",
       "<style scoped>\n",
       "    .dataframe tbody tr th:only-of-type {\n",
       "        vertical-align: middle;\n",
       "    }\n",
       "\n",
       "    .dataframe tbody tr th {\n",
       "        vertical-align: top;\n",
       "    }\n",
       "\n",
       "    .dataframe thead th {\n",
       "        text-align: right;\n",
       "    }\n",
       "</style>\n",
       "<table border=\"1\" class=\"dataframe\">\n",
       "  <thead>\n",
       "    <tr style=\"text-align: right;\">\n",
       "      <th>n_quartets</th>\n",
       "      <th>0</th>\n",
       "      <th>1</th>\n",
       "      <th>2</th>\n",
       "      <th>3</th>\n",
       "      <th>4</th>\n",
       "      <th>5</th>\n",
       "    </tr>\n",
       "    <tr>\n",
       "      <th>region_type</th>\n",
       "      <th></th>\n",
       "      <th></th>\n",
       "      <th></th>\n",
       "      <th></th>\n",
       "      <th></th>\n",
       "      <th></th>\n",
       "    </tr>\n",
       "  </thead>\n",
       "  <tbody>\n",
       "    <tr>\n",
       "      <th>faster</th>\n",
       "      <td>1614.0</td>\n",
       "      <td>27.0</td>\n",
       "      <td>0.0</td>\n",
       "      <td>0.0</td>\n",
       "      <td>0.0</td>\n",
       "      <td>0.0</td>\n",
       "    </tr>\n",
       "    <tr>\n",
       "      <th>ns</th>\n",
       "      <td>14924.0</td>\n",
       "      <td>377.0</td>\n",
       "      <td>23.0</td>\n",
       "      <td>4.0</td>\n",
       "      <td>1.0</td>\n",
       "      <td>1.0</td>\n",
       "    </tr>\n",
       "    <tr>\n",
       "      <th>slower</th>\n",
       "      <td>2884.0</td>\n",
       "      <td>103.0</td>\n",
       "      <td>9.0</td>\n",
       "      <td>5.0</td>\n",
       "      <td>1.0</td>\n",
       "      <td>0.0</td>\n",
       "    </tr>\n",
       "  </tbody>\n",
       "</table>\n",
       "</div>"
      ],
      "text/plain": [
       "n_quartets         0      1     2    3    4    5\n",
       "region_type                                     \n",
       "faster        1614.0   27.0   0.0  0.0  0.0  0.0\n",
       "ns           14924.0  377.0  23.0  4.0  1.0  1.0\n",
       "slower        2884.0  103.0   9.0  5.0  1.0  0.0"
      ]
     },
     "execution_count": 8,
     "metadata": {},
     "output_type": "execute_result"
    }
   ],
   "source": [
    "count_data.head()"
   ]
  },
  {
   "cell_type": "code",
   "execution_count": 9,
   "metadata": {},
   "outputs": [],
   "source": [
    "count_data = pd.melt(count_data.div(count_data.sum(axis=1), axis=0).reset_index(), id_vars='region_type')"
   ]
  },
  {
   "cell_type": "code",
   "execution_count": null,
   "metadata": {},
   "outputs": [],
   "source": [
    "sns."
   ]
  },
  {
   "cell_type": "code",
   "execution_count": 35,
   "metadata": {},
   "outputs": [
    {
     "name": "stderr",
     "output_type": "stream",
     "text": [
      "/Users/cimprich/anaconda/lib/python3.6/site-packages/matplotlib/scale.py:111: RuntimeWarning: invalid value encountered in less_equal\n",
      "  out[a <= 0] = -1000\n"
     ]
    },
    {
     "data": {
      "image/png": "[encoded data removed]",
      "text/plain": [
       "<matplotlib.figure.Figure at 0x1a189297f0>"
      ]
     },
     "metadata": {},
     "output_type": "display_data"
    }
   ],
   "source": [
    "fig, ax = plt.subplots( sharey=True, figsize=(3.3, 1.5))\n",
    "sns.barplot(data=count_data, x = 'region_type', y='value', hue='n_quartets', ax=ax, palette='magma')\n",
    "#ax.set_ylim(0, 0.05)\n",
    "ax.set_yscale('log')\n",
    "fig.savefig('quartet_barplot_annotated.svg')"
   ]
  },
  {
   "cell_type": "code",
   "execution_count": 54,
   "metadata": {},
   "outputs": [
    {
     "name": "stderr",
     "output_type": "stream",
     "text": [
      "/Users/cimprich/anaconda/lib/python3.6/site-packages/matplotlib/scale.py:111: RuntimeWarning: invalid value encountered in less_equal\n",
      "  out[a <= 0] = -1000\n"
     ]
    },
    {
     "data": {
      "image/png": "[encoded data removed]",
      "text/plain": [
       "<matplotlib.figure.Figure at 0x1a1b41a208>"
      ]
     },
     "metadata": {},
     "output_type": "display_data"
    }
   ],
   "source": [
    "fig, ax = plt.subplots( sharey=True, figsize=(4, 2))\n",
    "sns.barplot(data=count_data, x = 'region_type', y='value', hue='n_quartets', ax=ax, palette='magma')\n",
    "#ax.set_ylim(0, 0.05)\n",
    "ax.set_yscale('log')\n",
    "ax.set_ylim(1e-4, 5e-2)\n",
    "fig.tight_layout()\n",
    "fig.savefig('quartet_barplot_annotated.svg')\n",
    "fig.savefig('quartet_barplot_annotated.pdf',transparent=True)"
   ]
  },
  {
   "cell_type": "code",
   "execution_count": 11,
   "metadata": {},
   "outputs": [
    {
     "name": "stderr",
     "output_type": "stream",
     "text": [
      "/Users/cimprich/anaconda/lib/python3.6/site-packages/matplotlib/scale.py:111: RuntimeWarning: invalid value encountered in less_equal\n",
      "  out[a <= 0] = -1000\n"
     ]
    },
    {
     "data": {
      "image/png": "[encoded data removed]",
      "text/plain": [
       "<matplotlib.figure.Figure at 0x1a170fb2b0>"
      ]
     },
     "metadata": {},
     "output_type": "display_data"
    }
   ],
   "source": [
    "fig, ax = plt.subplots( sharey=True, figsize=(2.36, 1.57))\n",
    "sns.barplot(data=count_data, x = 'region_type', y='value', hue='n_quartets', ax=ax, palette='magma')\n",
    "#ax.set_ylim(0, 0.05)\n",
    "ax.set_ylim(1e-4, 5e-2)\n",
    "ax.set_yscale('log')\n",
    "ax.set_xticklabels(['']*len(ax.get_xticklabels()))\n",
    "ax.set_ylabel('')\n",
    "ax.set_xlabel('')\n",
    "ax.set_yticklabels(['']*len(ax.get_yticklabels()))\n",
    "ax.get_legend().remove()\n",
    "fig.tight_layout()\n",
    "fig.savefig('quartet_barplot_unannotated.svg')\n",
    "fig.savefig('quartet_barplot_unannotated.pdf',transparent=True)"
   ]
  },
  {
   "cell_type": "code",
   "execution_count": null,
   "metadata": {},
   "outputs": [],
   "source": [
    "a.get_xticklabels"
   ]
  },
  {
   "cell_type": "code",
   "execution_count": 24,
   "metadata": {},
   "outputs": [
    {
     "data": {
      "text/plain": [
       "<seaborn.axisgrid.FacetGrid at 0x1a19dc4400>"
      ]
     },
     "execution_count": 24,
     "metadata": {},
     "output_type": "execute_result"
    },
    {
     "data": {
      "image/png": "[encoded data removed]",
      "text/plain": [
       "<matplotlib.figure.Figure at 0x10e495ef0>"
      ]
     },
     "metadata": {},
     "output_type": "display_data"
    }
   ],
   "source": [
    "g= sns.FacetGrid(\n",
    " row = 'region_type',\n",
    " data = quartet_counts,\n",
    ")\n",
    "\n",
    "g.map(plt.hist, 'n_quartets', normed=True, bins = np.arange(0,6,1))\n",
    "g.set(xlim = (1,6), ylim = (0, 0.05))"
   ]
  },
  {
   "cell_type": "code",
   "execution_count": 19,
   "metadata": {},
   "outputs": [
    {
     "data": {
      "text/plain": [
       "KruskalResult(statistic=23.84249910665137, pvalue=6.6476340182982895e-06)"
      ]
     },
     "execution_count": 19,
     "metadata": {},
     "output_type": "execute_result"
    }
   ],
   "source": [
    "stats.kruskal(quartet_counts.loc[quartet_counts.region_type == 'slower', 'n_quartets'], \n",
    "              quartet_counts.loc[quartet_counts.region_type == 'ns', 'n_quartets'], \n",
    "              quartet_counts.loc[quartet_counts.region_type == 'faster', 'n_quartets'])"
   ]
  },
  {
   "cell_type": "code",
   "execution_count": null,
   "metadata": {},
   "outputs": [],
   "source": []
  }
 ],
 "metadata": {
  "kernelspec": {
   "display_name": "Python 3",
   "language": "python",
   "name": "python3"
  },
  "language_info": {
   "codemirror_mode": {
    "name": "ipython",
    "version": 3
   },
   "file_extension": ".py",
   "mimetype": "text/x-python",
   "name": "python",
   "nbconvert_exporter": "python",
   "pygments_lexer": "ipython3",
   "version": "3.6.8"
  }
 },
 "nbformat": 4,
 "nbformat_minor": 2
}
