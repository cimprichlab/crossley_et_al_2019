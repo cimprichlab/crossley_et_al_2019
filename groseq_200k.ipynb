{
 "cells": [
  {
   "cell_type": "code",
   "execution_count": 1,
   "metadata": {},
   "outputs": [],
   "source": [
    "import glob\n",
    "import re\n",
    "import json \n",
    "import itertools\n",
    "import functools\n",
    "import pickle\n",
    "\n",
    "import pandas as pd\n",
    "import numpy as np\n",
    "from matplotlib import pyplot as plt\n",
    "import matplotlib as mpl"
   ]
  },
  {
   "cell_type": "code",
   "execution_count": 2,
   "metadata": {},
   "outputs": [],
   "source": [
    "mats = glob.glob('../../genome_correlations/gro_seq_200k_genes/*.temp')"
   ]
  },
  {
   "cell_type": "code",
   "execution_count": 3,
   "metadata": {},
   "outputs": [
    {
     "data": {
      "text/plain": [
       "['../../genome_correlations/gro_seq_200k_genes/cont_1.m.temp',\n",
       " '../../genome_correlations/gro_seq_200k_genes/cont_1.p.temp',\n",
       " '../../genome_correlations/gro_seq_200k_genes/cont_2.m.temp',\n",
       " '../../genome_correlations/gro_seq_200k_genes/cont_2.p.temp',\n",
       " '../../genome_correlations/gro_seq_200k_genes/drb.m.temp',\n",
       " '../../genome_correlations/gro_seq_200k_genes/drb.p.temp',\n",
       " '../../genome_correlations/gro_seq_200k_genes/GS-CONT1_dedup_RPM5ETS_n.temp',\n",
       " '../../genome_correlations/gro_seq_200k_genes/GS-CONT1_dedup_RPM5ETS_p.temp',\n",
       " '../../genome_correlations/gro_seq_200k_genes/GS-CONT2_dedup_RPM5ETS_n.temp',\n",
       " '../../genome_correlations/gro_seq_200k_genes/GS-CONT2_dedup_RPM5ETS_p.temp',\n",
       " '../../genome_correlations/gro_seq_200k_genes/GS-DRB_dedup_RPM5ETS_n.temp',\n",
       " '../../genome_correlations/gro_seq_200k_genes/GS-DRB_dedup_RPM5ETS_p.temp',\n",
       " '../../genome_correlations/gro_seq_200k_genes/GS-KM_dedup_RPM5ETS_n.temp',\n",
       " '../../genome_correlations/gro_seq_200k_genes/GS-KM_dedup_RPM5ETS_p.temp']"
      ]
     },
     "execution_count": 3,
     "metadata": {},
     "output_type": "execute_result"
    }
   ],
   "source": [
    "mats"
   ]
  },
  {
   "cell_type": "code",
   "execution_count": 4,
   "metadata": {},
   "outputs": [],
   "source": [
    "sample_extractor = re.compile('/GS-([^/]+)_dedup_RPM5ETS_([np]).temp')"
   ]
  },
  {
   "cell_type": "code",
   "execution_count": 5,
   "metadata": {},
   "outputs": [
    {
     "data": {
      "text/plain": [
       "[('CONT1', 'n')]"
      ]
     },
     "execution_count": 5,
     "metadata": {},
     "output_type": "execute_result"
    }
   ],
   "source": [
    "sample_extractor.findall('../../genome_correlations/gro_seq_200k_genes/GS-CONT1_dedup_RPM5ETS_n.temp')"
   ]
  },
  {
   "cell_type": "code",
   "execution_count": 6,
   "metadata": {},
   "outputs": [],
   "source": [
    "filename_correspondence = {i: sample_extractor.findall(i)[0] for i in mats if sample_extractor.findall(i)}"
   ]
  },
  {
   "cell_type": "code",
   "execution_count": 7,
   "metadata": {},
   "outputs": [],
   "source": [
    "def ucsc_index(df):\n",
    "    return df.chr.str.cat(df.start.astype(str).str.cat(df.end.astype(str).str.cat(df.strand.astype(str), sep=';'), sep='-'), sep=':')\n",
    "\n",
    "def read_matrix_file(f):\n",
    "    temp = pd.read_csv(f, compression='gzip', comment='@', sep='\\t', header=None)\n",
    "    # Generate a UCSC style description of the peak coordinates\n",
    "    ucsc_idx = (temp.iloc[:, 0].str.cat(\n",
    "                    temp.iloc[:, 1].astype(str).str.cat(\n",
    "                        temp.iloc[:, 2].astype(str).str.cat( \n",
    "                            temp.iloc[:, 5].astype(str), sep = ';'),\n",
    "                    sep= '-'), \n",
    "                sep=':'))\n",
    "    # Drop the first 6 columns, which here act as a descriptor\n",
    "    return temp.set_index(ucsc_idx).drop(range(6), axis=1).fillna(0)"
   ]
  },
  {
   "cell_type": "code",
   "execution_count": 8,
   "metadata": {},
   "outputs": [
    {
     "name": "stdout",
     "output_type": "stream",
     "text": [
      "('CONT1', 'n')\n",
      "('CONT1', 'p')\n",
      "('CONT2', 'n')\n",
      "('CONT2', 'p')\n",
      "('DRB', 'n')\n",
      "('DRB', 'p')\n",
      "('KM', 'n')\n",
      "('KM', 'p')\n"
     ]
    }
   ],
   "source": [
    "tss_data = {}\n",
    "for filename, samplename in filename_correspondence.items():\n",
    "    print(samplename)\n",
    "    tss_data[samplename] = read_matrix_file(filename)"
   ]
  },
  {
   "cell_type": "code",
   "execution_count": 9,
   "metadata": {},
   "outputs": [],
   "source": [
    "gene_data_names = pd.read_csv('/Volumes/Pegasus/shared_files/bed_files/hg19/hg19_gencode28_gene_names.tsv.gz', \n",
    "                             sep='\\t', compression = 'gzip'\n",
    "                       )"
   ]
  },
  {
   "cell_type": "code",
   "execution_count": 10,
   "metadata": {},
   "outputs": [],
   "source": [
    "used_genes = pd.read_csv('/Volumes/Pegasus/shared_files/bed_files/hg19/hg19_gv28_over_50k.bed',\n",
    "                         sep ='\\t', names = ('chr', 'start', 'end', 'gencode', 'expr', 'strand'))"
   ]
  },
  {
   "cell_type": "code",
   "execution_count": 11,
   "metadata": {},
   "outputs": [],
   "source": [
    "used_genes = used_genes.merge(gene_data_names[['name', 'name2']].rename(columns = {'name': 'gencode', 'name2': 'symbol'}), how='left')"
   ]
  },
  {
   "cell_type": "code",
   "execution_count": 12,
   "metadata": {},
   "outputs": [
    {
     "data": {
      "text/html": [
       "<div>\n",
       "<style scoped>\n",
       "    .dataframe tbody tr th:only-of-type {\n",
       "        vertical-align: middle;\n",
       "    }\n",
       "\n",
       "    .dataframe tbody tr th {\n",
       "        vertical-align: top;\n",
       "    }\n",
       "\n",
       "    .dataframe thead th {\n",
       "        text-align: right;\n",
       "    }\n",
       "</style>\n",
       "<table border=\"1\" class=\"dataframe\">\n",
       "  <thead>\n",
       "    <tr style=\"text-align: right;\">\n",
       "      <th></th>\n",
       "      <th>chr</th>\n",
       "      <th>start</th>\n",
       "      <th>end</th>\n",
       "      <th>gencode</th>\n",
       "      <th>expr</th>\n",
       "      <th>strand</th>\n",
       "      <th>symbol</th>\n",
       "    </tr>\n",
       "  </thead>\n",
       "  <tbody>\n",
       "    <tr>\n",
       "      <th>12917</th>\n",
       "      <td>chr3</td>\n",
       "      <td>141205890</td>\n",
       "      <td>141334184</td>\n",
       "      <td>ENST00000286364.7_1</td>\n",
       "      <td>.</td>\n",
       "      <td>+</td>\n",
       "      <td>RASA2</td>\n",
       "    </tr>\n",
       "    <tr>\n",
       "      <th>12918</th>\n",
       "      <td>chr3</td>\n",
       "      <td>141205925</td>\n",
       "      <td>141331155</td>\n",
       "      <td>ENST00000452898.2_1</td>\n",
       "      <td>.</td>\n",
       "      <td>+</td>\n",
       "      <td>RASA2</td>\n",
       "    </tr>\n",
       "  </tbody>\n",
       "</table>\n",
       "</div>"
      ],
      "text/plain": [
       "        chr      start        end              gencode expr strand symbol\n",
       "12917  chr3  141205890  141334184  ENST00000286364.7_1    .      +  RASA2\n",
       "12918  chr3  141205925  141331155  ENST00000452898.2_1    .      +  RASA2"
      ]
     },
     "execution_count": 12,
     "metadata": {},
     "output_type": "execute_result"
    }
   ],
   "source": [
    "used_genes[used_genes.symbol == 'RASA2']"
   ]
  },
  {
   "cell_type": "code",
   "execution_count": 13,
   "metadata": {},
   "outputs": [],
   "source": [
    "used_genes['ucsc_name'] = ucsc_index(used_genes)"
   ]
  },
  {
   "cell_type": "code",
   "execution_count": 14,
   "metadata": {},
   "outputs": [],
   "source": [
    "used_genes['gene_length'] = pd.to_numeric(used_genes.end, errors='coerce') - pd.to_numeric(used_genes.start, errors='coerce')"
   ]
  },
  {
   "cell_type": "code",
   "execution_count": null,
   "metadata": {},
   "outputs": [],
   "source": []
  },
  {
   "cell_type": "code",
   "execution_count": null,
   "metadata": {},
   "outputs": [],
   "source": []
  },
  {
   "cell_type": "code",
   "execution_count": 15,
   "metadata": {},
   "outputs": [],
   "source": [
    "sense_data = {k[0]: v.copy() for k,v in tss_data.items() if k[1] == 'n'}\n",
    "for sample, matrix in sense_data.items():\n",
    "    minus_gene_set = set(used_genes.loc[used_genes.strand == '-', 'ucsc_name'])\n",
    "    matrix.loc[matrix.index.isin(minus_gene_set), :] = tss_data[(sample, 'p')].iloc[np.where(matrix.index.isin(minus_gene_set))[0],:]\n",
    "antisense_data = {k[0]: v.copy() for k,v in tss_data.items() if k[1] == 'p'}\n",
    "for sample, matrix in antisense_data.items():\n",
    "    matrix.loc[matrix.index.isin(minus_gene_set), :] = tss_data[(sample, 'n')].iloc[np.where(matrix.index.isin(minus_gene_set))[0],: ]\n",
    "    "
   ]
  },
  {
   "cell_type": "code",
   "execution_count": 16,
   "metadata": {},
   "outputs": [
    {
     "data": {
      "text/plain": [
       "dict_keys(['CONT1', 'CONT2', 'DRB', 'KM'])"
      ]
     },
     "execution_count": 16,
     "metadata": {},
     "output_type": "execute_result"
    }
   ],
   "source": [
    "sense_data.keys()"
   ]
  },
  {
   "cell_type": "markdown",
   "metadata": {},
   "source": [
    "# Plot mean enrichment for long genes (both replicates)"
   ]
  },
  {
   "cell_type": "code",
   "execution_count": 17,
   "metadata": {},
   "outputs": [
    {
     "data": {
      "text/plain": [
       "Text(0.5,0,'Distance from TSS')"
      ]
     },
     "execution_count": 17,
     "metadata": {},
     "output_type": "execute_result"
    },
    {
     "data": {
      "image/png": "[encoded data removed]",
      "text/plain": [
       "<matplotlib.figure.Figure at 0x107b03f98>"
      ]
     },
     "metadata": {},
     "output_type": "display_data"
    }
   ],
   "source": [
    "fig, ax = plt.subplots()\n",
    "\n",
    "x = np.arange(0, 200, 0.5)\n",
    "long_subset = used_genes.loc[used_genes.gene_length > 5e4, 'ucsc_name']\n",
    "ax.plot(x, antisense_data['CONT1'].loc[antisense_data['CONT1'].index.isin(long_subset)].mean(axis=0),label ='cont1' )\n",
    "ax.plot(x, antisense_data['CONT2'].loc[antisense_data['CONT2'].index.isin(long_subset)].mean(axis=0),label ='cont2' )\n",
    "ax.plot(x, antisense_data['DRB'].loc[antisense_data['DRB'].index.isin(long_subset)].mean(axis=0),label ='drb' )\n",
    "\n",
    "ax.legend()\n",
    "ax.set_xlim(0, 200)\n",
    "ax.set_xlabel('Distance from TSS')"
   ]
  },
  {
   "cell_type": "code",
   "execution_count": 18,
   "metadata": {},
   "outputs": [
    {
     "data": {
      "text/plain": [
       "0\n",
       "chrY:59214046-59274659;+         0.000000\n",
       "chr18:25531044-25616549;-        0.000000\n",
       "chr18:26858473-26941928;-        0.000000\n",
       "chr18:28569973-28622707;-        0.000000\n",
       "chr18:28570051-28622781;-        0.000000\n",
       "chr18:28681550-28742752;+        0.000000\n",
       "chr18:28923330-29006890;-        0.000000\n",
       "chr18:28927630-29006951;-        0.000000\n",
       "chr5:139227233-139422732;-       0.000000\n",
       "chr18:29203131-29264686;-        0.000000\n",
       "chr5:139226363-139422884;-       0.000000\n",
       "chr5:139064229-139124595;+       0.000000\n",
       "chr18:29598334-29653176;+        0.000000\n",
       "chr18:29598791-29691742;+        0.000000\n",
       "chr18:29843484-30050447;-        0.000000\n",
       "chr18:29847462-30050395;-        0.000000\n",
       "chr18:30050250-30325530;+        0.000000\n",
       "chr18:30252633-30353025;-        0.000000\n",
       "chr18:30415127-30518280;+        0.000000\n",
       "chr18:30517365-30716041;-        0.000000\n",
       "chr18:25530929-25757410;-        0.000000\n",
       "chr18:30517366-31020045;-        0.000000\n",
       "chr18:24916656-24972831;-        0.000000\n",
       "chr18:24495742-24765262;-        0.000000\n",
       "chr18:21742008-21852196;-        0.000000\n",
       "chr18:22513450-22567646;-        0.000000\n",
       "chr18:22641889-22932116;-        0.000000\n",
       "chr18:22642388-22932112;-        0.000000\n",
       "chr18:22642556-22932119;-        0.000000\n",
       "chr18:23713815-23772788;+        0.000000\n",
       "                                  ...    \n",
       "chr8:62568686-62627146;-         4.228597\n",
       "chr8:62536268-62627155;-         4.245686\n",
       "chr8:62536268-62627199;-         4.268472\n",
       "chr2:211421261-211543831;+       4.334070\n",
       "chr20:57428317-57486247;+        4.335598\n",
       "chr12:104680459-104744083;+      4.466424\n",
       "chr12:104680459-104744055;+      4.466424\n",
       "chr12:104680459-104744083;+      4.466424\n",
       "chr12:104680459-104744083;+      4.466424\n",
       "chr6:166322289-166401410;-       4.535730\n",
       "chr15:70340128-70390515;-        4.636575\n",
       "chrX:105855201-105922672;+       4.902886\n",
       "chrX:105855159-105922667;+       4.902886\n",
       "chr5:17216931-17276952;+         4.992249\n",
       "chr5:138609791-138666083;+       5.107485\n",
       "chr5:138609792-138666117;+       5.117335\n",
       "chr5:138609792-138665446;+       5.117335\n",
       "chr5:138609792-138667360;+       5.117335\n",
       "chr8:128165115-128215472;-       5.462188\n",
       "chr5:5422806-5490347;+           5.491091\n",
       "chr5:38475064-38595506;-         6.087882\n",
       "chr5:17217668-17276943;+         6.877521\n",
       "chr12:104680799-104742606;+      7.038716\n",
       "chr12:104680767-104744052;+      7.048196\n",
       "chr12:104680658-104744061;+      7.354683\n",
       "chr8:128180943-128231087;-       8.847648\n",
       "chr8:128180952-128231213;-       9.670520\n",
       "chr8:128180920-128231213;-       9.670520\n",
       "chr8:128128904-128231212;-       9.688103\n",
       "chr2:229890292-230096801;-     335.514515\n",
       "Name: 108, Length: 20595, dtype: float64"
      ]
     },
     "execution_count": 18,
     "metadata": {},
     "output_type": "execute_result"
    }
   ],
   "source": [
    "antisense_data['CONT1'].iloc[:, 102].sort_values()"
   ]
  },
  {
   "cell_type": "code",
   "execution_count": 19,
   "metadata": {},
   "outputs": [],
   "source": [
    "set_to_remove = {'chr2:229888689-230135981;-',\n",
    "                 'chr2:229888710-230136001;-',\n",
    "                 'chr2:229888704-230135996;-', \n",
    "                 'chr12:20522178-20837315;+',\n",
    "                 'chr2:229890292-230096801;-'\n",
    "                }"
   ]
  },
  {
   "cell_type": "code",
   "execution_count": 20,
   "metadata": {},
   "outputs": [
    {
     "data": {
      "text/plain": [
       "Text(0.5,0,'Distance from TSS')"
      ]
     },
     "execution_count": 20,
     "metadata": {},
     "output_type": "execute_result"
    },
    {
     "data": {
      "image/png": "[encoded data removed]",
      "text/plain": [
       "<matplotlib.figure.Figure at 0x107b03d68>"
      ]
     },
     "metadata": {},
     "output_type": "display_data"
    }
   ],
   "source": [
    "fig, ax = plt.subplots()\n",
    "\n",
    "x = np.arange(0, 200, 0.5)\n",
    "long_subset = set(used_genes.loc[used_genes.gene_length > 2e5, 'ucsc_name'])\n",
    "long_subset = long_subset - set_to_remove\n",
    "ax.plot(x, antisense_data['CONT1'].loc[antisense_data['CONT1'].index.isin(long_subset)].mean(axis=0),label ='cont1' )\n",
    "ax.plot(x, antisense_data['CONT2'].loc[antisense_data['CONT2'].index.isin(long_subset)].mean(axis=0),label ='cont2' )\n",
    "ax.plot(x, antisense_data['DRB'].loc[antisense_data['DRB'].index.isin(long_subset)].mean(axis=0),label ='drb' )\n",
    "\n",
    "ax.legend()\n",
    "ax.set_xlabel('Distance from TSS')"
   ]
  },
  {
   "cell_type": "markdown",
   "metadata": {},
   "source": [
    "# Plot mean enrichment for long genes (mean of 2 replicates)"
   ]
  },
  {
   "cell_type": "code",
   "execution_count": 21,
   "metadata": {},
   "outputs": [],
   "source": [
    "up_color = '#cc3311'\n",
    "down_color = '#3366cf'"
   ]
  },
  {
   "cell_type": "code",
   "execution_count": 22,
   "metadata": {},
   "outputs": [],
   "source": [
    "def bootstrap_samples(mat, n_samples, agg_func = np.mean, verbose=False, sample_name = ''):\n",
    "    agg_func = functools.partial(agg_func, axis=0)\n",
    "    boot_samples = np.empty((n_samples, mat.shape[1]), dtype=np.float32)\n",
    "    for i in range(n_samples):\n",
    "        if verbose and not i % (n_samples // 25):\n",
    "            print(sample_name, (i / n_samples) * 100)\n",
    "        boot_samples[i, :] = agg_func(mat[np.random.choice(len(mat), len(mat), replace=True), :])\n",
    "    return boot_samples\n",
    "\n",
    "def mean_95_ci(ax, mat, color='blue'):\n",
    "    x = np.arange(0, 200, 0.5)\n",
    "    ax.plot(x, mat.mean(axis=0), color=color)\n",
    "    ax.fill_between(x, \n",
    "                    np.percentile(mat, 2.5, axis=0), \n",
    "                    np.percentile(mat, 97.5, axis=0),\n",
    "                    alpha = 0.5, color=color)"
   ]
  },
  {
   "cell_type": "code",
   "execution_count": 23,
   "metadata": {},
   "outputs": [],
   "source": [
    "?pickle.dump"
   ]
  },
  {
   "cell_type": "code",
   "execution_count": 24,
   "metadata": {},
   "outputs": [
    {
     "name": "stdout",
     "output_type": "stream",
     "text": [
      "CONT1 0.0\n",
      "CONT1 4.0\n",
      "CONT1 8.0\n",
      "CONT1 12.0\n",
      "CONT1 16.0\n",
      "CONT1 20.0\n",
      "CONT1 24.0\n",
      "CONT1 28.000000000000004\n",
      "CONT1 32.0\n",
      "CONT1 36.0\n",
      "CONT1 40.0\n",
      "CONT1 44.0\n",
      "CONT1 48.0\n",
      "CONT1 52.0\n",
      "CONT1 56.00000000000001\n",
      "CONT1 60.0\n",
      "CONT1 64.0\n",
      "CONT1 68.0\n",
      "CONT1 72.0\n",
      "CONT1 76.0\n",
      "CONT1 80.0\n",
      "CONT1 84.0\n",
      "CONT1 88.0\n",
      "CONT1 92.0\n",
      "CONT1 96.0\n",
      "CONT2 0.0\n",
      "CONT2 4.0\n",
      "CONT2 8.0\n",
      "CONT2 12.0\n",
      "CONT2 16.0\n",
      "CONT2 20.0\n",
      "CONT2 24.0\n",
      "CONT2 28.000000000000004\n",
      "CONT2 32.0\n",
      "CONT2 36.0\n",
      "CONT2 40.0\n",
      "CONT2 44.0\n",
      "CONT2 48.0\n",
      "CONT2 52.0\n",
      "CONT2 56.00000000000001\n",
      "CONT2 60.0\n",
      "CONT2 64.0\n",
      "CONT2 68.0\n",
      "CONT2 72.0\n",
      "CONT2 76.0\n",
      "CONT2 80.0\n",
      "CONT2 84.0\n",
      "CONT2 88.0\n",
      "CONT2 92.0\n",
      "CONT2 96.0\n",
      "DRB 0.0\n",
      "DRB 4.0\n",
      "DRB 8.0\n",
      "DRB 12.0\n",
      "DRB 16.0\n",
      "DRB 20.0\n",
      "DRB 24.0\n",
      "DRB 28.000000000000004\n",
      "DRB 32.0\n",
      "DRB 36.0\n",
      "DRB 40.0\n",
      "DRB 44.0\n",
      "DRB 48.0\n",
      "DRB 52.0\n",
      "DRB 56.00000000000001\n",
      "DRB 60.0\n",
      "DRB 64.0\n",
      "DRB 68.0\n",
      "DRB 72.0\n",
      "DRB 76.0\n",
      "DRB 80.0\n",
      "DRB 84.0\n",
      "DRB 88.0\n",
      "DRB 92.0\n",
      "DRB 96.0\n"
     ]
    }
   ],
   "source": [
    "bootstrapped_data = {}\n",
    "long_subset = set(used_genes.loc[used_genes.gene_length > 2e5, 'ucsc_name'])\n",
    "long_subset = long_subset - set_to_remove\n",
    "for name, mat_data in antisense_data.items():\n",
    "    if 'KM' in name:\n",
    "        continue\n",
    "    bootstrapped_data[name] = bootstrap_samples(mat_data.loc[mat_data.index.isin(long_subset), :].as_matrix(), \n",
    "                                                5000, verbose=True, sample_name=name)\n",
    "\n",
    "    "
   ]
  },
  {
   "cell_type": "code",
   "execution_count": 25,
   "metadata": {},
   "outputs": [
    {
     "data": {
      "text/plain": [
       "dict_keys(['CONT1', 'CONT2', 'DRB'])"
      ]
     },
     "execution_count": 25,
     "metadata": {},
     "output_type": "execute_result"
    }
   ],
   "source": [
    "bootstrapped_data.keys()"
   ]
  },
  {
   "cell_type": "code",
   "execution_count": 26,
   "metadata": {},
   "outputs": [],
   "source": [
    "up_color = '#cc3311'\n",
    "down_color = '#3366cf'\n",
    "down_color_alt = '#669cc6'"
   ]
  },
  {
   "cell_type": "code",
   "execution_count": 28,
   "metadata": {},
   "outputs": [
    {
     "data": {
      "image/png": "[encoded data removed]",
      "text/plain": [
       "<matplotlib.figure.Figure at 0x10c5b7208>"
      ]
     },
     "metadata": {},
     "output_type": "display_data"
    }
   ],
   "source": [
    "fig, ax = plt.subplots(figsize=(3.5,2))\n",
    "mean_95_ci(ax, bootstrapped_data['CONT1'], color = down_color)\n",
    "mean_95_ci(ax, bootstrapped_data['CONT2'], color = down_color_alt)\n",
    "mean_95_ci(ax, bootstrapped_data['DRB'], color = up_color)\n",
    "labels, handles = ax.get_legend_handles_labels()\n",
    "\n",
    "ax.set_ylabel('GRO-seq read density')\n",
    "ax.set_xlabel('Distance into long genes (kb)')\n",
    "\n",
    "ax.set_ylim(0, 0.5)\n",
    "\n",
    "handles = [\n",
    "    mpl.patches.Patch(facecolor=down_color, alpha=0.7),\n",
    "    mpl.patches.Patch(facecolor=down_color_alt, alpha=0.7),\n",
    "    mpl.patches.Patch(facecolor=up_color, alpha=0.7),\n",
    "]\n",
    "\n",
    "labels = ['Control 1', 'Control 2', 'DRB 30 min']\n",
    "ax.legend(handles, labels, frameon=False, labelspacing = 0.3, markerscale=0.4)\n",
    "fig.tight_layout()\n",
    "fig.savefig('GRO-seq-DRB.svg')"
   ]
  },
  {
   "cell_type": "code",
   "execution_count": 33,
   "metadata": {},
   "outputs": [
    {
     "name": "stdout",
     "output_type": "stream",
     "text": [
      "[Text(0,0,''), Text(0,0,''), Text(0,0,''), Text(0,0,''), Text(0,0,'')]\n"
     ]
    },
    {
     "data": {
      "image/png": "[encoded data removed]",
      "text/plain": [
       "<matplotlib.figure.Figure at 0x107367908>"
      ]
     },
     "metadata": {},
     "output_type": "display_data"
    }
   ],
   "source": [
    "fig, ax = plt.subplots(figsize=(3.5,2))\n",
    "mean_95_ci(ax, bootstrapped_data['CONT1'], color = down_color)\n",
    "mean_95_ci(ax, bootstrapped_data['CONT2'], color = down_color_alt)\n",
    "mean_95_ci(ax, bootstrapped_data['DRB'], color = up_color)\n",
    "labels, handles = ax.get_legend_handles_labels()\n",
    "\n",
    "print([i for i in ax.get_yticklabels()])\n",
    "# Get rid of x- and y-axis labels\n",
    "ax.set_ylabel('')\n",
    "ax.set_xlabel('')\n",
    "# A little tricky: [''] * N (where N is an integer) will make a list of N empty strings (try it out!)\n",
    "# So we're getting the number of ticks with len(ax.get_xticklabels()) and then\n",
    "# just creating a new list with empty labels\n",
    "ax.set_xticklabels([''] * len(ax.get_xticklabels()))\n",
    "#ax.set_yticklabels([''] * len(ax.get_yticklabels()))\n",
    "\n",
    "ax.set_ylim(0, 0.5)\n",
    "\n",
    "handles = [\n",
    "    mpl.patches.Patch(facecolor=down_color, alpha=0.7),\n",
    "    mpl.patches.Patch(facecolor=down_color_alt, alpha=0.7),\n",
    "    mpl.patches.Patch(facecolor=up_color, alpha=0.7),\n",
    "]\n",
    "\n",
    "labels = ['         ', '        ', '        ']\n",
    "ax.legend(handles, labels, frameon=False, labelspacing = 0.3, markerscale=0.4)\n",
    "fig.tight_layout()\n",
    "fig.savefig('GRO-seq-DRB_no_label.svg')"
   ]
  },
  {
   "cell_type": "code",
   "execution_count": 210,
   "metadata": {},
   "outputs": [],
   "source": [
    "?ax.legend"
   ]
  },
  {
   "cell_type": "code",
   "execution_count": 223,
   "metadata": {},
   "outputs": [],
   "source": [
    "def ordered_matrix(mat, order_matrix=None, agg_func = np.mean):\n",
    "    if order_matrix is None:\n",
    "        order_matrix = mat\n",
    "    agg_func = functools.partial(agg_func, axis=1)\n",
    "    return mat[np.argsort(agg_func(order_matrix))[::-1], :]"
   ]
  },
  {
   "cell_type": "code",
   "execution_count": 221,
   "metadata": {},
   "outputs": [
    {
     "data": {
      "text/plain": [
       "dict_keys(['CONT1', 'CONT2', 'DRB', 'KM'])"
      ]
     },
     "execution_count": 221,
     "metadata": {},
     "output_type": "execute_result"
    }
   ],
   "source": [
    "antisense_data.keys()"
   ]
  },
  {
   "cell_type": "code",
   "execution_count": null,
   "metadata": {},
   "outputs": [],
   "source": []
  },
  {
   "cell_type": "code",
   "execution_count": null,
   "metadata": {},
   "outputs": [],
   "source": []
  },
  {
   "cell_type": "code",
   "execution_count": null,
   "metadata": {},
   "outputs": [],
   "source": []
  },
  {
   "cell_type": "code",
   "execution_count": 125,
   "metadata": {},
   "outputs": [
    {
     "name": "stdout",
     "output_type": "stream",
     "text": [
      "cimprich@cimprichserver.stanford.edu:/Volumes/Pegasus/DRIP_spike_in/qdrip/notebooks/metaplots\r\n"
     ]
    }
   ],
   "source": [
    "!echo $(whoami)@$HOSTNAME:$(pwd)"
   ]
  },
  {
   "cell_type": "code",
   "execution_count": null,
   "metadata": {},
   "outputs": [],
   "source": []
  },
  {
   "cell_type": "code",
   "execution_count": null,
   "metadata": {},
   "outputs": [],
   "source": []
  },
  {
   "cell_type": "code",
   "execution_count": null,
   "metadata": {},
   "outputs": [],
   "source": []
  },
  {
   "cell_type": "code",
   "execution_count": null,
   "metadata": {},
   "outputs": [],
   "source": []
  },
  {
   "cell_type": "code",
   "execution_count": null,
   "metadata": {},
   "outputs": [],
   "source": []
  },
  {
   "cell_type": "code",
   "execution_count": null,
   "metadata": {},
   "outputs": [],
   "source": []
  },
  {
   "cell_type": "code",
   "execution_count": null,
   "metadata": {},
   "outputs": [],
   "source": []
  },
  {
   "cell_type": "code",
   "execution_count": null,
   "metadata": {},
   "outputs": [],
   "source": []
  },
  {
   "cell_type": "code",
   "execution_count": null,
   "metadata": {},
   "outputs": [],
   "source": []
  }
 ],
 "metadata": {
  "kernelspec": {
   "display_name": "Python 3",
   "language": "python",
   "name": "python3"
  },
  "language_info": {
   "codemirror_mode": {
    "name": "ipython",
    "version": 3
   },
   "file_extension": ".py",
   "mimetype": "text/x-python",
   "name": "python",
   "nbconvert_exporter": "python",
   "pygments_lexer": "ipython3",
   "version": "3.6.8"
  }
 },
 "nbformat": 4,
 "nbformat_minor": 2
}
