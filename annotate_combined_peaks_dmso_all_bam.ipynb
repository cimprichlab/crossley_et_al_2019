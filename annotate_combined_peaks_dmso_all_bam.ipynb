{
 "cells": [
  {
   "cell_type": "code",
   "execution_count": 1,
   "metadata": {},
   "outputs": [],
   "source": [
    "%matplotlib inline\n",
    "\n",
    "import json\n",
    "import glob\n",
    "import re\n",
    "import itertools\n",
    "\n",
    "import pandas as pd\n",
    "import numpy as np\n",
    "from matplotlib import pyplot as plt\n",
    "import seaborn as sns"
   ]
  },
  {
   "cell_type": "code",
   "execution_count": 2,
   "metadata": {},
   "outputs": [],
   "source": [
    "with open('../../pair_counts.json') as f:\n",
    "    total_read_counts = pd.Series({k: v/2e6 for k,v in json.load(f).items()})"
   ]
  },
  {
   "cell_type": "code",
   "execution_count": 3,
   "metadata": {},
   "outputs": [],
   "source": [
    "with open('../../mean_spikein_counts.json') as f:\n",
    "    spike_counts = pd.Series(json.load(f))"
   ]
  },
  {
   "cell_type": "code",
   "execution_count": 4,
   "metadata": {},
   "outputs": [],
   "source": [
    "peak_locations = pd.read_csv('../../peak_calls/combined_bam_peaks/dmso_3_vs_input_peaks.broadPeak', \n",
    "                             sep = '\\t', names = ('chr', 'start', 'end'), usecols = ('chr', 'start', 'end'))\n"
   ]
  },
  {
   "cell_type": "code",
   "execution_count": 5,
   "metadata": {},
   "outputs": [],
   "source": [
    "def ucsc_index(df):\n",
    "    return df.chr.str.cat(df.start.astype(str).str.cat(df.end.astype(str), sep='-'), sep=':')"
   ]
  },
  {
   "cell_type": "code",
   "execution_count": 6,
   "metadata": {},
   "outputs": [],
   "source": [
    "peak_locations['ucsc_index'] = ucsc_index(peak_locations)"
   ]
  },
  {
   "cell_type": "markdown",
   "metadata": {},
   "source": [
    "# Load raw count data over peaks"
   ]
  },
  {
   "cell_type": "code",
   "execution_count": 7,
   "metadata": {},
   "outputs": [],
   "source": [
    "count_files = glob.glob('../../count_statistics/new_macs_calls/dmso/*.cov')"
   ]
  },
  {
   "cell_type": "code",
   "execution_count": 8,
   "metadata": {},
   "outputs": [],
   "source": [
    "bed_names = ['chr', 'start', 'end']\n",
    "\n",
    "count_data_plus = {}\n",
    "count_data_minus = {}\n",
    "\n",
    "for f in count_files:\n",
    "    if '.p.cov' in f:\n",
    "        sample_name = re.findall('/([^/]+)\\.[pm]\\.cov', f)[0]\n",
    "        \n",
    "        plus_strand_values = pd.read_csv(f, sep='\\t', names = bed_names + [sample_name])\n",
    "        plus_strand_values.set_index(ucsc_index(plus_strand_values), inplace=True)\n",
    "        minus_strand_values =  pd.read_csv(f.replace('.p.cov', '.m.cov'), sep='\\t', names = bed_names + [sample_name])\n",
    "        minus_strand_values.set_index(ucsc_index(minus_strand_values), inplace=True)\n",
    "        count_data_plus[sample_name] = plus_strand_values[sample_name]\n",
    "        count_data_minus[sample_name] = minus_strand_values[sample_name]"
   ]
  },
  {
   "cell_type": "code",
   "execution_count": 9,
   "metadata": {},
   "outputs": [],
   "source": [
    "count_data_minus = pd.DataFrame(count_data_minus)\n",
    "count_data_plus = pd.DataFrame(count_data_plus)"
   ]
  },
  {
   "cell_type": "code",
   "execution_count": 10,
   "metadata": {},
   "outputs": [],
   "source": [
    "count_data_minus = count_data_minus[count_data_minus.index.isin(peak_locations.ucsc_index)]\n",
    "count_data_plus = count_data_plus[count_data_plus.index.isin(peak_locations.ucsc_index)]"
   ]
  },
  {
   "cell_type": "code",
   "execution_count": 11,
   "metadata": {},
   "outputs": [
    {
     "data": {
      "text/plain": [
       "(81151, 81151)"
      ]
     },
     "execution_count": 11,
     "metadata": {},
     "output_type": "execute_result"
    }
   ],
   "source": [
    "len(count_data_plus), len(peak_locations)"
   ]
  },
  {
   "cell_type": "code",
   "execution_count": 12,
   "metadata": {},
   "outputs": [],
   "source": [
    "ip_cols = list('_'.join(i) for i in itertools.product(['dmso', 'drb', 'gl3'], ['2', '3']))\n",
    "rh_cols = [i + '_rh' for i in ['drb', 'gl3']]"
   ]
  },
  {
   "cell_type": "markdown",
   "metadata": {},
   "source": [
    "# Find areas of high strand bias"
   ]
  },
  {
   "cell_type": "code",
   "execution_count": 13,
   "metadata": {},
   "outputs": [],
   "source": [
    "strand_bias = ((count_data_plus - count_data_minus)/(count_data_plus + count_data_minus))[ip_cols]"
   ]
  },
  {
   "cell_type": "code",
   "execution_count": 14,
   "metadata": {
    "scrolled": true
   },
   "outputs": [
    {
     "data": {
      "text/plain": [
       "<matplotlib.axes._subplots.AxesSubplot at 0x1a2e7080b8>"
      ]
     },
     "execution_count": 14,
     "metadata": {},
     "output_type": "execute_result"
    },
    {
     "data": {
      "image/png": "[encoded data removed]",
      "text/plain": [
       "<matplotlib.figure.Figure at 0x10fe47c88>"
      ]
     },
     "metadata": {},
     "output_type": "display_data"
    }
   ],
   "source": [
    "strand_bias.mean(axis=1).hist()"
   ]
  },
  {
   "cell_type": "code",
   "execution_count": 15,
   "metadata": {},
   "outputs": [],
   "source": [
    "has_bias = strand_bias.mean(axis=1).abs() > 1/3"
   ]
  },
  {
   "cell_type": "code",
   "execution_count": 16,
   "metadata": {},
   "outputs": [],
   "source": [
    "count_data_both = count_data_minus + count_data_plus"
   ]
  },
  {
   "cell_type": "markdown",
   "metadata": {},
   "source": [
    "# Find RNase H sensitive areas "
   ]
  },
  {
   "cell_type": "code",
   "execution_count": 17,
   "metadata": {},
   "outputs": [],
   "source": [
    "mean_rh_rpm = (count_data_both[rh_cols] / total_read_counts[rh_cols]).mean(axis=1)"
   ]
  },
  {
   "cell_type": "code",
   "execution_count": 18,
   "metadata": {},
   "outputs": [],
   "source": [
    "mean_ip_rpm = (count_data_both[ip_cols] / total_read_counts[ip_cols]).mean(axis=1)"
   ]
  },
  {
   "cell_type": "code",
   "execution_count": 19,
   "metadata": {},
   "outputs": [],
   "source": [
    "rh_sensitive = ((mean_ip_rpm/2) > mean_rh_rpm)"
   ]
  },
  {
   "cell_type": "code",
   "execution_count": 20,
   "metadata": {},
   "outputs": [
    {
     "data": {
      "text/plain": [
       "81151"
      ]
     },
     "execution_count": 20,
     "metadata": {},
     "output_type": "execute_result"
    }
   ],
   "source": [
    "len(mean_ip_rpm)"
   ]
  },
  {
   "cell_type": "code",
   "execution_count": 21,
   "metadata": {},
   "outputs": [
    {
     "data": {
      "text/plain": [
       "18715"
      ]
     },
     "execution_count": 21,
     "metadata": {},
     "output_type": "execute_result"
    }
   ],
   "source": [
    "(has_bias & rh_sensitive).sum()"
   ]
  },
  {
   "cell_type": "markdown",
   "metadata": {},
   "source": [
    "# Output bed file"
   ]
  },
  {
   "cell_type": "code",
   "execution_count": 27,
   "metadata": {},
   "outputs": [],
   "source": [
    "coords = count_data_both.index.str.extract('(.*):(\\d+)-(\\d+)', expand=True).rename(columns={0:'chr', 1:'start', 2:'end'})\n",
    "coords = coords.set_index(ucsc_index(coords))"
   ]
  },
  {
   "cell_type": "code",
   "execution_count": 28,
   "metadata": {},
   "outputs": [],
   "source": [
    "coords['strand'] = np.nan\n",
    "coords.loc[~has_bias, 'strand'] = '.'\n",
    "coords.loc[(strand_bias.mean(axis=1) > 0.5), 'strand'] = '-' # Will annotate according to direction of \"transcription\" implied by R-loop\n",
    "coords.loc[(strand_bias.mean(axis=1) < 0.5), 'strand'] = '+'\n",
    "\n",
    "coords['name'] = '.'\n",
    "coords['value'] = '.'"
   ]
  },
  {
   "cell_type": "code",
   "execution_count": 29,
   "metadata": {},
   "outputs": [],
   "source": [
    "subset = coords.loc[(has_bias & rh_sensitive), ]"
   ]
  },
  {
   "cell_type": "code",
   "execution_count": 30,
   "metadata": {},
   "outputs": [],
   "source": [
    "def genome_length(subset):\n",
    "    return pd.to_numeric(coords[subset].end) - pd.to_numeric(coords[subset].start)"
   ]
  },
  {
   "cell_type": "code",
   "execution_count": 31,
   "metadata": {
    "scrolled": true
   },
   "outputs": [
    {
     "data": {
      "text/plain": [
       "(323.428614, 229.355111, 206.659746)"
      ]
     },
     "execution_count": 31,
     "metadata": {},
     "output_type": "execute_result"
    }
   ],
   "source": [
    "genome_length(has_bias).sum()/1e6, genome_length(rh_sensitive).sum()/1e6, genome_length(has_bias & rh_sensitive).sum()/1e6"
   ]
  },
  {
   "cell_type": "code",
   "execution_count": 32,
   "metadata": {},
   "outputs": [
    {
     "data": {
      "text/plain": [
       "(81151, 58469, 22671, 18715)"
      ]
     },
     "execution_count": 32,
     "metadata": {},
     "output_type": "execute_result"
    }
   ],
   "source": [
    "len(coords), has_bias.sum(), rh_sensitive.sum(), (has_bias & rh_sensitive).sum()"
   ]
  },
  {
   "cell_type": "code",
   "execution_count": 33,
   "metadata": {},
   "outputs": [
    {
     "data": {
      "text/plain": [
       "384921831"
      ]
     },
     "execution_count": 33,
     "metadata": {},
     "output_type": "execute_result"
    }
   ],
   "source": [
    "(pd.to_numeric(coords.end) - pd.to_numeric(coords.start)).sum()"
   ]
  },
  {
   "cell_type": "code",
   "execution_count": 25,
   "metadata": {},
   "outputs": [
    {
     "data": {
      "text/plain": [
       "206659746"
      ]
     },
     "execution_count": 25,
     "metadata": {},
     "output_type": "execute_result"
    }
   ],
   "source": [
    "(pd.to_numeric(subset.end) - pd.to_numeric(subset.start)).sum()"
   ]
  },
  {
   "cell_type": "code",
   "execution_count": 26,
   "metadata": {},
   "outputs": [],
   "source": [
    "bed = coords.loc[(has_bias & rh_sensitive),'chr start end name value strand'.split()]"
   ]
  },
  {
   "cell_type": "code",
   "execution_count": 27,
   "metadata": {},
   "outputs": [],
   "source": [
    "bed['length'] = pd.to_numeric(bed.end) - pd.to_numeric(bed.start)"
   ]
  },
  {
   "cell_type": "code",
   "execution_count": 28,
   "metadata": {},
   "outputs": [
    {
     "data": {
      "text/plain": [
       "228244"
      ]
     },
     "execution_count": 28,
     "metadata": {},
     "output_type": "execute_result"
    }
   ],
   "source": [
    "bed.length.max()"
   ]
  },
  {
   "cell_type": "code",
   "execution_count": 29,
   "metadata": {},
   "outputs": [
    {
     "data": {
      "text/plain": [
       "18715"
      ]
     },
     "execution_count": 29,
     "metadata": {},
     "output_type": "execute_result"
    }
   ],
   "source": [
    "len(bed)"
   ]
  },
  {
   "cell_type": "code",
   "execution_count": 30,
   "metadata": {},
   "outputs": [],
   "source": [
    "(coords\n",
    " .loc[(has_bias & rh_sensitive),'chr start end name value strand'.split()]\n",
    " .sort_values(['chr', 'start', 'end'])\n",
    " .to_csv('../../peak_calls/combined_bam_peaks/dmso_broad_annotated.bed',\n",
    "          index=False, header=False, sep='\\t')\n",
    ")"
   ]
  },
  {
   "cell_type": "markdown",
   "metadata": {},
   "source": [
    "# Overlap with gene file"
   ]
  },
  {
   "cell_type": "code",
   "execution_count": 31,
   "metadata": {},
   "outputs": [
    {
     "name": "stdout",
     "output_type": "stream",
     "text": [
      "mkdir: ../../peak_calls/combined_bam_peaks/gene_overlap: File exists\r\n"
     ]
    }
   ],
   "source": [
    "!mkdir ../../peak_calls/combined_bam_peaks/gene_overlap"
   ]
  },
  {
   "cell_type": "code",
   "execution_count": 32,
   "metadata": {},
   "outputs": [
    {
     "name": "stdout",
     "output_type": "stream",
     "text": [
      "chr1\t100012840\t100014213\t.\t.\t+\r\n",
      "chr1\t100019476\t100022850\t.\t.\t+\r\n",
      "chr1\t100033590\t100040859\t.\t.\t+\r\n",
      "chr1\t100139451\t100152201\t.\t.\t+\r\n",
      "chr1\t100187056\t100195372\t.\t.\t-\r\n",
      "chr1\t100278113\t100279378\t.\t.\t+\r\n",
      "chr1\t100280521\t100280995\t.\t.\t+\r\n",
      "chr1\t100298480\t100299137\t.\t.\t+\r\n",
      "chr1\t100878009\t100890977\t.\t.\t-\r\n",
      "chr1\t100892070\t100894766\t.\t.\t-\r\n"
     ]
    }
   ],
   "source": [
    "!head ../../peak_calls/combined_bam_peaks/gl3_broad_annotated.bed"
   ]
  },
  {
   "cell_type": "code",
   "execution_count": 33,
   "metadata": {},
   "outputs": [],
   "source": [
    "!bedtools slop -b 500 -g ../../hg38.chrom.sizes -i /Volumes/Pegasus/shared_files/bed_files/hg38/hg38_cannonical.bed > /Volumes/Pegasus/shared_files/bed_files/hg38/hg38_cannonical_expanded.bed \n",
    "!bedtools intersect -wao -b /Volumes/Pegasus/shared_files/bed_files/hg38/hg38_cannonical_expanded.bed -a ../../peak_calls/combined_bam_peaks/dmso_broad_annotated.bed > ../../peak_calls/combined_bam_peaks/gene_overlap/dmso_overlap.tsv\n"
   ]
  },
  {
   "cell_type": "code",
   "execution_count": 34,
   "metadata": {},
   "outputs": [
    {
     "name": "stdout",
     "output_type": "stream",
     "text": [
      "chr1\t999593\t1000012\t.\t.\t-\tchr1\t998463\t1000611\tENST00000304952.10\t419\r\n",
      "chr1\t1329697\t1330567\t.\t.\t-\t.\t-1\t-1\t.\t0\r\n",
      "chr1\t1330839\t1336441\t.\t.\t-\tchr1\t1330813\t1335806\tENST00000339381.5\t4967\r\n",
      "chr1\t1330839\t1336441\t.\t.\t-\tchr1\t1334775\t1349612\tENST00000378891.9\t1666\r\n",
      "chr1\t1495885\t1496644\t.\t.\t+\tchr1\t1471268\t1496702\tENST00000308647.7\t759\r\n",
      "chr1\t1889699\t1891063\t.\t.\t-\tchr1\t1890970\t1893158\tENST00000412228.1\t93\r\n",
      "chr1\t1889699\t1891063\t.\t.\t-\tchr1\t1784784\t1891617\tENST00000610897.4\t1364\r\n",
      "chr1\t2185988\t2188552\t.\t.\t-\t.\t-1\t-1\t.\t0\r\n",
      "chr1\t2228718\t2232166\t.\t.\t+\tchr1\t2228194\t2310619\tENST00000378536.4\t3448\r\n",
      "chr1\t2375912\t2388528\t.\t.\t-\tchr1\t2320752\t2392207\tENST00000378531.7\t12616\r\n"
     ]
    }
   ],
   "source": [
    "!head ../../peak_calls/final_peaks/gene_overlap/gl3_ovelap.tsv"
   ]
  },
  {
   "cell_type": "code",
   "execution_count": 35,
   "metadata": {},
   "outputs": [],
   "source": [
    "overlaps = pd.read_csv('../../peak_calls/combined_bam_peaks/gene_overlap/dmso_overlap.tsv', \n",
    "                       names = 'chr start end name value strand gene_chr gene_start gene_end transcript_id overlap'.split(),\n",
    "                       usecols = 'chr start end strand transcript_id'.split(), sep='\\t'\n",
    "                      )\n",
    "\n",
    "gene_data = pd.read_csv('/Volumes/Pegasus/shared_files/bed_files/hg38/hg38_GENCODE_v29.tsv', sep='\\t',\n",
    "                        names = 'transcript_id chr strand start end'.split(), usecols = 'transcript_id chr strand start end'.split(),\n",
    "                        skiprows =1\n",
    "                       )\n",
    "overlaps = overlaps.merge(gene_data, on = 'transcript_id', suffixes=['', '_gene'], how = 'left')"
   ]
  },
  {
   "cell_type": "code",
   "execution_count": 36,
   "metadata": {},
   "outputs": [],
   "source": [
    "overlaps['min_dist_to_start'] = (overlaps[['start', 'end']].subtract(overlaps.start_gene, axis=0)).abs().min(axis=1)\n",
    "overlaps['min_dist_to_end'] = (overlaps[['start', 'end']].subtract(overlaps.end_gene, axis=0)).abs().min(axis=1)"
   ]
  },
  {
   "cell_type": "code",
   "execution_count": 37,
   "metadata": {},
   "outputs": [],
   "source": [
    "# Calculate min distance from the ends of each interval to the promoter or terminator of its overlapping gene\n",
    "overlaps['min_dist_to_prom'] = np.nan\n",
    "overlaps['min_dist_to_term'] = np.nan\n",
    "\n",
    "overlaps.loc[overlaps.strand_gene == '+', 'min_dist_to_prom'] = overlaps.loc[overlaps.strand_gene == '+', 'min_dist_to_start']\n",
    "overlaps.loc[overlaps.strand_gene == '+', 'min_dist_to_term'] = overlaps.loc[overlaps.strand_gene == '+', 'min_dist_to_end']\n",
    "\n",
    "overlaps.loc[overlaps.strand_gene == '-', 'min_dist_to_prom'] = overlaps.loc[overlaps.strand_gene == '-', 'min_dist_to_end']\n",
    "overlaps.loc[overlaps.strand_gene == '-', 'min_dist_to_term'] = overlaps.loc[overlaps.strand_gene == '-', 'min_dist_to_start']"
   ]
  },
  {
   "cell_type": "code",
   "execution_count": 38,
   "metadata": {},
   "outputs": [],
   "source": [
    "# If the region overlaps the promoter or terminator, set the min distance to 0\n",
    "overlaps.loc[(overlaps.strand_gene == '+') & \n",
    "             (overlaps.start < overlaps.start_gene) & \n",
    "             (overlaps.end > overlaps.start_gene), 'min_dist_to_prom'] = 0\n",
    "\n",
    "overlaps.loc[(overlaps.strand_gene == '-') & \n",
    "             (overlaps.start < overlaps.end_gene) & \n",
    "             (overlaps.end > overlaps.end_gene), 'min_dist_to_prom'] = 0\n",
    "\n",
    "overlaps.loc[(overlaps.strand_gene == '-') & \n",
    "             (overlaps.start < overlaps.start_gene) & \n",
    "             (overlaps.end > overlaps.start_gene), 'min_dist_to_term'] = 0\n",
    "\n",
    "overlaps.loc[(overlaps.strand_gene == '+') & \n",
    "             (overlaps.start < overlaps.end_gene) & \n",
    "             (overlaps.end > overlaps.end_gene), 'min_dist_to_term'] = 0"
   ]
  },
  {
   "cell_type": "code",
   "execution_count": 39,
   "metadata": {},
   "outputs": [],
   "source": [
    "overlaps['ucsc_name'] = ucsc_index(overlaps)"
   ]
  },
  {
   "cell_type": "code",
   "execution_count": 40,
   "metadata": {},
   "outputs": [],
   "source": [
    "distances_to_ends = (overlaps\n",
    "                     .groupby('ucsc_name')\n",
    "                     [['min_dist_to_term', 'min_dist_to_prom']]\n",
    "                     .min())"
   ]
  },
  {
   "cell_type": "code",
   "execution_count": 41,
   "metadata": {},
   "outputs": [],
   "source": [
    "terminator_dist = 3000\n",
    "promoter_dist = 3000\n",
    "\n",
    "annotations = {}\n",
    "annotations['promoter_alone'] = set(distances_to_ends[((distances_to_ends.min_dist_to_term > terminator_dist) & \n",
    "                                                   (distances_to_ends.min_dist_to_prom <= promoter_dist))].index)\n",
    "annotations['terminator_alone'] = set(distances_to_ends[((distances_to_ends.min_dist_to_term <= terminator_dist) & \n",
    "                                                     (distances_to_ends.min_dist_to_prom > promoter_dist))].index)\n",
    "annotations['gene_body'] = set(distances_to_ends[((distances_to_ends.min_dist_to_term > terminator_dist) & \n",
    "                                              (distances_to_ends.min_dist_to_prom > promoter_dist))].index)\n",
    "annotations['promoter_and_terminator'] = set(distances_to_ends[((distances_to_ends.min_dist_to_term <= terminator_dist) & \n",
    "                                                            (distances_to_ends.min_dist_to_prom <= promoter_dist))].index)\n",
    "annotations['intergenic'] = set(overlaps[overlaps.chr_gene.isnull()].ucsc_name)\n"
   ]
  },
  {
   "cell_type": "code",
   "execution_count": 42,
   "metadata": {},
   "outputs": [],
   "source": [
    "peak_percents = {k:len(v)/sum(len(i) for i in annotations.values()) for k, v in annotations.items()}"
   ]
  },
  {
   "cell_type": "code",
   "execution_count": 67,
   "metadata": {},
   "outputs": [],
   "source": [
    "total_bases_hg38 = 3209286105\n",
    "bases_per_region = {\n",
    "    'promoter_alone': 337026562 - 179514614,\n",
    "    'terminator_alone': 337026562 - 179514614,\n",
    "    'promoter_and_terminator': 179514614,\n",
    "    'gene_body': 1406465624\n",
    "}\n",
    "genome_percents = {k: v/total_bases_hg38 for k,v in bases_per_region.items()}\n",
    "genome_percents['intergenic'] = 1 - sum(genome_percents.values())"
   ]
  },
  {
   "cell_type": "code",
   "execution_count": 68,
   "metadata": {},
   "outputs": [],
   "source": [
    "percent_data = (pd.DataFrame({\n",
    "    'Genome': genome_percents,\n",
    "    'Peaks': peak_percents\n",
    "})\n",
    "    .reset_index()\n",
    "    .melt(id_vars = 'index')\n",
    "    .rename(columns = {'index': 'Region',\n",
    "                       'variable': 'Type',\n",
    "                       'value': 'Percent of regions'\n",
    "                      }))\n",
    "                      "
   ]
  },
  {
   "cell_type": "code",
   "execution_count": 69,
   "metadata": {},
   "outputs": [
    {
     "data": {
      "text/html": [
       "<div>\n",
       "<style scoped>\n",
       "    .dataframe tbody tr th:only-of-type {\n",
       "        vertical-align: middle;\n",
       "    }\n",
       "\n",
       "    .dataframe tbody tr th {\n",
       "        vertical-align: top;\n",
       "    }\n",
       "\n",
       "    .dataframe thead th {\n",
       "        text-align: right;\n",
       "    }\n",
       "</style>\n",
       "<table border=\"1\" class=\"dataframe\">\n",
       "  <thead>\n",
       "    <tr style=\"text-align: right;\">\n",
       "      <th></th>\n",
       "      <th>Region</th>\n",
       "      <th>Type</th>\n",
       "      <th>Percent of regions</th>\n",
       "    </tr>\n",
       "  </thead>\n",
       "  <tbody>\n",
       "    <tr>\n",
       "      <th>0</th>\n",
       "      <td>gene_body</td>\n",
       "      <td>Genome</td>\n",
       "      <td>0.438249</td>\n",
       "    </tr>\n",
       "    <tr>\n",
       "      <th>1</th>\n",
       "      <td>intergenic</td>\n",
       "      <td>Genome</td>\n",
       "      <td>0.407655</td>\n",
       "    </tr>\n",
       "    <tr>\n",
       "      <th>2</th>\n",
       "      <td>promoter_alone</td>\n",
       "      <td>Genome</td>\n",
       "      <td>0.049080</td>\n",
       "    </tr>\n",
       "    <tr>\n",
       "      <th>3</th>\n",
       "      <td>promoter_and_terminator</td>\n",
       "      <td>Genome</td>\n",
       "      <td>0.055936</td>\n",
       "    </tr>\n",
       "    <tr>\n",
       "      <th>4</th>\n",
       "      <td>terminator_alone</td>\n",
       "      <td>Genome</td>\n",
       "      <td>0.049080</td>\n",
       "    </tr>\n",
       "    <tr>\n",
       "      <th>5</th>\n",
       "      <td>gene_body</td>\n",
       "      <td>Peaks</td>\n",
       "      <td>0.567268</td>\n",
       "    </tr>\n",
       "    <tr>\n",
       "      <th>6</th>\n",
       "      <td>intergenic</td>\n",
       "      <td>Peaks</td>\n",
       "      <td>0.068186</td>\n",
       "    </tr>\n",
       "    <tr>\n",
       "      <th>7</th>\n",
       "      <td>promoter_alone</td>\n",
       "      <td>Peaks</td>\n",
       "      <td>0.068127</td>\n",
       "    </tr>\n",
       "    <tr>\n",
       "      <th>8</th>\n",
       "      <td>promoter_and_terminator</td>\n",
       "      <td>Peaks</td>\n",
       "      <td>0.171589</td>\n",
       "    </tr>\n",
       "    <tr>\n",
       "      <th>9</th>\n",
       "      <td>terminator_alone</td>\n",
       "      <td>Peaks</td>\n",
       "      <td>0.124830</td>\n",
       "    </tr>\n",
       "  </tbody>\n",
       "</table>\n",
       "</div>"
      ],
      "text/plain": [
       "                    Region    Type  Percent of regions\n",
       "0                gene_body  Genome            0.438249\n",
       "1               intergenic  Genome            0.407655\n",
       "2           promoter_alone  Genome            0.049080\n",
       "3  promoter_and_terminator  Genome            0.055936\n",
       "4         terminator_alone  Genome            0.049080\n",
       "5                gene_body   Peaks            0.567268\n",
       "6               intergenic   Peaks            0.068186\n",
       "7           promoter_alone   Peaks            0.068127\n",
       "8  promoter_and_terminator   Peaks            0.171589\n",
       "9         terminator_alone   Peaks            0.124830"
      ]
     },
     "execution_count": 69,
     "metadata": {},
     "output_type": "execute_result"
    }
   ],
   "source": [
    "percent_data"
   ]
  },
  {
   "cell_type": "code",
   "execution_count": 70,
   "metadata": {
    "scrolled": true
   },
   "outputs": [
    {
     "data": {
      "text/html": [
       "<div>\n",
       "<style scoped>\n",
       "    .dataframe tbody tr th:only-of-type {\n",
       "        vertical-align: middle;\n",
       "    }\n",
       "\n",
       "    .dataframe tbody tr th {\n",
       "        vertical-align: top;\n",
       "    }\n",
       "\n",
       "    .dataframe thead th {\n",
       "        text-align: right;\n",
       "    }\n",
       "</style>\n",
       "<table border=\"1\" class=\"dataframe\">\n",
       "  <thead>\n",
       "    <tr style=\"text-align: right;\">\n",
       "      <th></th>\n",
       "      <th>Region</th>\n",
       "      <th>Type</th>\n",
       "      <th>Percent of regions</th>\n",
       "    </tr>\n",
       "  </thead>\n",
       "  <tbody>\n",
       "    <tr>\n",
       "      <th>0</th>\n",
       "      <td>gene_body</td>\n",
       "      <td>Genome</td>\n",
       "      <td>0.438249</td>\n",
       "    </tr>\n",
       "    <tr>\n",
       "      <th>1</th>\n",
       "      <td>intergenic</td>\n",
       "      <td>Genome</td>\n",
       "      <td>0.407655</td>\n",
       "    </tr>\n",
       "    <tr>\n",
       "      <th>2</th>\n",
       "      <td>promoter_alone</td>\n",
       "      <td>Genome</td>\n",
       "      <td>0.049080</td>\n",
       "    </tr>\n",
       "    <tr>\n",
       "      <th>3</th>\n",
       "      <td>promoter_and_terminator</td>\n",
       "      <td>Genome</td>\n",
       "      <td>0.055936</td>\n",
       "    </tr>\n",
       "    <tr>\n",
       "      <th>4</th>\n",
       "      <td>terminator_alone</td>\n",
       "      <td>Genome</td>\n",
       "      <td>0.049080</td>\n",
       "    </tr>\n",
       "    <tr>\n",
       "      <th>5</th>\n",
       "      <td>gene_body</td>\n",
       "      <td>Peaks</td>\n",
       "      <td>0.567268</td>\n",
       "    </tr>\n",
       "    <tr>\n",
       "      <th>6</th>\n",
       "      <td>intergenic</td>\n",
       "      <td>Peaks</td>\n",
       "      <td>0.068186</td>\n",
       "    </tr>\n",
       "    <tr>\n",
       "      <th>7</th>\n",
       "      <td>promoter_alone</td>\n",
       "      <td>Peaks</td>\n",
       "      <td>0.068127</td>\n",
       "    </tr>\n",
       "    <tr>\n",
       "      <th>8</th>\n",
       "      <td>promoter_and_terminator</td>\n",
       "      <td>Peaks</td>\n",
       "      <td>0.171589</td>\n",
       "    </tr>\n",
       "    <tr>\n",
       "      <th>9</th>\n",
       "      <td>terminator_alone</td>\n",
       "      <td>Peaks</td>\n",
       "      <td>0.124830</td>\n",
       "    </tr>\n",
       "  </tbody>\n",
       "</table>\n",
       "</div>"
      ],
      "text/plain": [
       "                    Region    Type  Percent of regions\n",
       "0                gene_body  Genome            0.438249\n",
       "1               intergenic  Genome            0.407655\n",
       "2           promoter_alone  Genome            0.049080\n",
       "3  promoter_and_terminator  Genome            0.055936\n",
       "4         terminator_alone  Genome            0.049080\n",
       "5                gene_body   Peaks            0.567268\n",
       "6               intergenic   Peaks            0.068186\n",
       "7           promoter_alone   Peaks            0.068127\n",
       "8  promoter_and_terminator   Peaks            0.171589\n",
       "9         terminator_alone   Peaks            0.124830"
      ]
     },
     "execution_count": 70,
     "metadata": {},
     "output_type": "execute_result"
    }
   ],
   "source": [
    "percent_data"
   ]
  },
  {
   "cell_type": "code",
   "execution_count": 71,
   "metadata": {},
   "outputs": [
    {
     "data": {
      "image/png": "[encoded data removed]",
      "text/plain": [
       "<matplotlib.figure.Figure at 0x1a1beca860>"
      ]
     },
     "metadata": {},
     "output_type": "display_data"
    }
   ],
   "source": [
    "fig, ax = plt.subplots(figsize=(4,2))\n",
    "sns.barplot(\n",
    "     x = 'Region',\n",
    "     hue = 'Type',\n",
    "     order = ['intergenic', 'gene_body', 'promoter_alone', 'terminator_alone', 'promoter_and_terminator'],\n",
    "     y = 'Percent of regions',\n",
    "     data = percent_data)\n",
    "ax.set_xlabel('')\n",
    "ax.set_ylabel('Fraction of regions')\n",
    "ticks = ax.xaxis.get_ticklabels()\n",
    "for t in ticks:\n",
    "    t.set_rotation(45)\n",
    "fig.savefig('peak_locations.svg')"
   ]
  },
  {
   "cell_type": "code",
   "execution_count": 58,
   "metadata": {},
   "outputs": [],
   "source": [
    "genes = pd.read_csv('/Volumes/Pegasus/shared_files/bed_files/hg38/hg38_cannonical.bed',\n",
    "                    names = ('chr', 'start', 'end', 'name'), sep = '\\t'\n",
    "                   )"
   ]
  },
  {
   "cell_type": "code",
   "execution_count": 59,
   "metadata": {},
   "outputs": [
    {
     "data": {
      "text/html": [
       "<div>\n",
       "<style scoped>\n",
       "    .dataframe tbody tr th:only-of-type {\n",
       "        vertical-align: middle;\n",
       "    }\n",
       "\n",
       "    .dataframe tbody tr th {\n",
       "        vertical-align: top;\n",
       "    }\n",
       "\n",
       "    .dataframe thead th {\n",
       "        text-align: right;\n",
       "    }\n",
       "</style>\n",
       "<table border=\"1\" class=\"dataframe\">\n",
       "  <thead>\n",
       "    <tr style=\"text-align: right;\">\n",
       "      <th></th>\n",
       "      <th>chr</th>\n",
       "      <th>start</th>\n",
       "      <th>end</th>\n",
       "      <th>name</th>\n",
       "    </tr>\n",
       "  </thead>\n",
       "  <tbody>\n",
       "    <tr>\n",
       "      <th>0</th>\n",
       "      <td>chr1</td>\n",
       "      <td>11868</td>\n",
       "      <td>14409</td>\n",
       "      <td>ENST00000456328.2</td>\n",
       "    </tr>\n",
       "    <tr>\n",
       "      <th>1</th>\n",
       "      <td>chr1</td>\n",
       "      <td>14403</td>\n",
       "      <td>29570</td>\n",
       "      <td>ENST00000488147.1</td>\n",
       "    </tr>\n",
       "    <tr>\n",
       "      <th>2</th>\n",
       "      <td>chr1</td>\n",
       "      <td>17368</td>\n",
       "      <td>17436</td>\n",
       "      <td>ENST00000619216.1</td>\n",
       "    </tr>\n",
       "    <tr>\n",
       "      <th>3</th>\n",
       "      <td>chr1</td>\n",
       "      <td>29553</td>\n",
       "      <td>31097</td>\n",
       "      <td>ENST00000473358.1</td>\n",
       "    </tr>\n",
       "    <tr>\n",
       "      <th>4</th>\n",
       "      <td>chr1</td>\n",
       "      <td>30365</td>\n",
       "      <td>30503</td>\n",
       "      <td>ENST00000607096.1</td>\n",
       "    </tr>\n",
       "  </tbody>\n",
       "</table>\n",
       "</div>"
      ],
      "text/plain": [
       "    chr  start    end               name\n",
       "0  chr1  11868  14409  ENST00000456328.2\n",
       "1  chr1  14403  29570  ENST00000488147.1\n",
       "2  chr1  17368  17436  ENST00000619216.1\n",
       "3  chr1  29553  31097  ENST00000473358.1\n",
       "4  chr1  30365  30503  ENST00000607096.1"
      ]
     },
     "execution_count": 59,
     "metadata": {},
     "output_type": "execute_result"
    }
   ],
   "source": [
    "genes.head()"
   ]
  },
  {
   "cell_type": "code",
   "execution_count": 60,
   "metadata": {},
   "outputs": [],
   "source": [
    "genes['length'] = genes.end - genes.start\n",
    "lengths = (genes.length - 7000)\n",
    "lengths[lengths < 0] = 0"
   ]
  },
  {
   "cell_type": "code",
   "execution_count": 63,
   "metadata": {},
   "outputs": [],
   "source": []
  },
  {
   "cell_type": "code",
   "execution_count": 64,
   "metadata": {},
   "outputs": [
    {
     "data": {
      "text/plain": [
       "1406465624"
      ]
     },
     "execution_count": 64,
     "metadata": {},
     "output_type": "execute_result"
    }
   ],
   "source": [
    "lengths.sum()"
   ]
  },
  {
   "cell_type": "code",
   "execution_count": 43,
   "metadata": {},
   "outputs": [],
   "source": [
    "overlaps['site_annotation'] = np.nan\n",
    "overlaps.loc[overlaps.ucsc_name.isin(annotations['promoter_alone']), 'site_annotation'] = 'promoter_alone'\n",
    "overlaps.loc[overlaps.ucsc_name.isin(annotations['terminator_alone']), 'site_annotation'] = 'terminator_alone'\n",
    "overlaps.loc[overlaps.ucsc_name.isin(annotations['gene_body']), 'site_annotation'] = 'gene_body'\n",
    "overlaps.loc[overlaps.ucsc_name.isin(annotations['promoter_and_terminator']), 'site_annotation'] = 'promoter_and_terminator'\n",
    "overlaps.loc[overlaps.ucsc_name.isin(annotations['intergenic']), 'site_annotation'] = 'intergenic'\n"
   ]
  },
  {
   "cell_type": "code",
   "execution_count": 44,
   "metadata": {},
   "outputs": [],
   "source": [
    "coords['ucsc'] = ucsc_index(coords)"
   ]
  },
  {
   "cell_type": "code",
   "execution_count": 45,
   "metadata": {},
   "outputs": [],
   "source": [
    "coords['site_annotation'] = np.nan\n",
    "coords.loc[coords.ucsc.isin(annotations['promoter_alone']), 'site_annotation'] = 'promoter_alone'\n",
    "coords.loc[coords.ucsc.isin(annotations['terminator_alone']), 'site_annotation'] = 'terminator_alone'\n",
    "coords.loc[coords.ucsc.isin(annotations['gene_body']), 'site_annotation'] = 'gene_body'\n",
    "coords.loc[coords.ucsc.isin(annotations['promoter_and_terminator']), 'site_annotation'] = 'promoter_and_terminator'\n",
    "coords.loc[coords.ucsc.isin(annotations['intergenic']), 'site_annotation'] = 'intergenic'"
   ]
  },
  {
   "cell_type": "code",
   "execution_count": 47,
   "metadata": {},
   "outputs": [],
   "source": [
    "filtered = coords[(rh_sensitive & has_bias)]"
   ]
  },
  {
   "cell_type": "code",
   "execution_count": 48,
   "metadata": {},
   "outputs": [],
   "source": [
    "filtered.to_csv('../../peak_calls/final_peaks/dmso_consensus_annotated.tsv')"
   ]
  },
  {
   "cell_type": "code",
   "execution_count": 49,
   "metadata": {},
   "outputs": [
    {
     "name": "stdout",
     "output_type": "stream",
     "text": [
      "chr,chr,start,end,strand,name,value,ucsc,site_annotation\r\n",
      "chr1:1328847-1337532,chr1,1328847,1337532,-,.,.,chr1:1328847-1337532,promoter_and_terminator\r\n",
      "chr1:1829772-1830294,chr1,1829772,1830294,-,.,.,chr1:1829772-1830294,gene_body\r\n",
      "chr1:1856627-1858640,chr1,1856627,1858640,-,.,.,chr1:1856627-1858640,gene_body\r\n",
      "chr1:2357985-2358619,chr1,2357985,2358619,-,.,.,chr1:2357985-2358619,gene_body\r\n",
      "chr1:2375637-2389224,chr1,2375637,2389224,-,.,.,chr1:2375637-2389224,promoter_alone\r\n",
      "chr1:2390322-2390795,chr1,2390322,2390795,+,.,.,chr1:2390322-2390795,promoter_alone\r\n",
      "chr1:3729913-3747766,chr1,3729913,3747766,-,.,.,chr1:3729913-3747766,promoter_and_terminator\r\n",
      "chr1:3828238-3829210,chr1,3828238,3829210,-,.,.,chr1:3828238-3829210,gene_body\r\n",
      "chr1:3830843-3835097,chr1,3830843,3835097,-,.,.,chr1:3830843-3835097,gene_body\r\n"
     ]
    }
   ],
   "source": [
    "!head ../../peak_calls/final_peaks/dmso_consensus_annotated.tsv"
   ]
  },
  {
   "cell_type": "code",
   "execution_count": null,
   "metadata": {},
   "outputs": [],
   "source": []
  }
 ],
 "metadata": {
  "kernelspec": {
   "display_name": "Python 3",
   "language": "python",
   "name": "python3"
  },
  "language_info": {
   "codemirror_mode": {
    "name": "ipython",
    "version": 3
   },
   "file_extension": ".py",
   "mimetype": "text/x-python",
   "name": "python",
   "nbconvert_exporter": "python",
   "pygments_lexer": "ipython3",
   "version": "3.6.8"
  }
 },
 "nbformat": 4,
 "nbformat_minor": 2
}
